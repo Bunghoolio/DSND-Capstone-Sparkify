{
 "cells": [
  {
   "cell_type": "markdown",
   "metadata": {},
   "source": [
    "# Sparkify Customer Churn Prediction"
   ]
  },
  {
   "cell_type": "markdown",
   "metadata": {},
   "source": [
    "The following project is part of my Udacity Data Science Nano Degree. The project and the dataset was provided by Udacity. <br>\n",
    "This project is about an imaginary platform provider for music streaming (similarly to Spotify or Pandora) called <b>Sparkify</b>. We analyze for Sparkify the customer habits in order to be able to predict, if customers are about to churn from the platform. By analyzing, we want to identify measurements with predictive power for customer churn and create a model leveraging these measurements for prediction. \n",
    "\n",
    "Within this project, it will be more important to avoid False Negatives, as this would mean a churning customer had not been identified upfront. For this reason the mainly focussed model measurement will be the Recall to evaluate the model, as the Recall (True Positives / all Positives) punishes False Negatives. The target of this project is a model with a <b>Recall Score greater than 80%</b>."
   ]
  },
  {
   "cell_type": "markdown",
   "metadata": {},
   "source": [
    "## Section 1: Business Understanding"
   ]
  },
  {
   "cell_type": "markdown",
   "metadata": {},
   "source": [
    "Sparkify is a music streaming platform. This service can be leveraged on a free or a paid tier. When using a free tier this service includes advertising. \n",
    "Customers can register to the service and use the free tier. In order to use the paid tier w/o advertising the customer needs to upgrade their account by visiting the Upgrade-page and submitting their upgrade. Paid customers can also downgrade their service to the free tier by visiting the Downgrade page and submitting their downgrade. \n",
    "Both, paid customers and free customers can cancel their registration by visiting the cancel page and confirm cancellation. \n",
    "The following work will treat customer churn as paid customers downgrading or any customer leaving (cancelling) the service at all. \n",
    "\n",
    "A Customer can visit any of the following pages:\n",
    "* Cancel\n",
    "* Submit Downgrade\n",
    "* Thumbs Down\n",
    "* Home\n",
    "* Downgrade\n",
    "* Roll Advert\n",
    "* Logout\n",
    "* Save Settings\n",
    "* Cancellation Confirmation\n",
    "* About\n",
    "* Submit Registration\n",
    "* Settings\n",
    "* Login\n",
    "* Register\n",
    "* Add to Playlist\n",
    "* Add Friend\n",
    "* NextSong\n",
    "* Thumbs Up\n",
    "* Help\n",
    "* Upgrade\n",
    "* Error\n",
    "* Submit Upgrade"
   ]
  },
  {
   "cell_type": "markdown",
   "metadata": {},
   "source": [
    "### Installing and importing required libraries to EMR Cluster"
   ]
  },
  {
   "cell_type": "code",
   "execution_count": 1,
   "metadata": {},
   "outputs": [
    {
     "data": {
      "application/vnd.jupyter.widget-view+json": {
       "model_id": "cb7e3c61c5074603a57321c8858263ea",
       "version_major": 2,
       "version_minor": 0
      },
      "text/plain": [
       "VBox()"
      ]
     },
     "metadata": {},
     "output_type": "display_data"
    },
    {
     "name": "stdout",
     "output_type": "stream",
     "text": [
      "Starting Spark application\n"
     ]
    },
    {
     "data": {
      "text/html": [
       "<table>\n",
       "<tr><th>ID</th><th>YARN Application ID</th><th>Kind</th><th>State</th><th>Spark UI</th><th>Driver log</th><th>Current session?</th></tr><tr><td>2</td><td>application_1623526933074_0003</td><td>pyspark</td><td>idle</td><td><a target=\"_blank\" href=\"http://ip-172-31-4-218.eu-central-1.compute.internal:20888/proxy/application_1623526933074_0003/\">Link</a></td><td><a target=\"_blank\" href=\"http://ip-172-31-5-24.eu-central-1.compute.internal:8042/node/containerlogs/container_1623526933074_0003_01_000001/livy\">Link</a></td><td>✔</td></tr></table>"
      ],
      "text/plain": [
       "<IPython.core.display.HTML object>"
      ]
     },
     "metadata": {},
     "output_type": "display_data"
    },
    {
     "data": {
      "application/vnd.jupyter.widget-view+json": {
       "model_id": "",
       "version_major": 2,
       "version_minor": 0
      },
      "text/plain": [
       "FloatProgress(value=0.0, bar_style='info', description='Progress:', layout=Layout(height='25px', width='50%'),…"
      ]
     },
     "metadata": {},
     "output_type": "display_data"
    },
    {
     "name": "stdout",
     "output_type": "stream",
     "text": [
      "SparkSession available as 'spark'.\n"
     ]
    },
    {
     "data": {
      "application/vnd.jupyter.widget-view+json": {
       "model_id": "",
       "version_major": 2,
       "version_minor": 0
      },
      "text/plain": [
       "FloatProgress(value=0.0, bar_style='info', description='Progress:', layout=Layout(height='25px', width='50%'),…"
      ]
     },
     "metadata": {},
     "output_type": "display_data"
    },
    {
     "name": "stdout",
     "output_type": "stream",
     "text": [
      "Package                    Version\n",
      "-------------------------- -------\n",
      "beautifulsoup4             4.8.1\n",
      "boto                       2.49.0\n",
      "jmespath                   0.9.4\n",
      "lxml                       4.4.2\n",
      "mysqlclient                1.4.6\n",
      "nltk                       3.4.5\n",
      "nose                       1.3.4\n",
      "numpy                      1.14.5\n",
      "pip                        21.1.2\n",
      "py-dateutil                2.2\n",
      "python36-sagemaker-pyspark 1.2.6\n",
      "pytz                       2019.3\n",
      "PyYAML                     3.11\n",
      "setuptools                 57.0.0\n",
      "six                        1.13.0\n",
      "soupsieve                  1.9.5\n",
      "wheel                      0.36.2\n",
      "windmill                   1.6"
     ]
    }
   ],
   "source": [
    "sc.list_packages()"
   ]
  },
  {
   "cell_type": "code",
   "execution_count": 2,
   "metadata": {},
   "outputs": [
    {
     "data": {
      "application/vnd.jupyter.widget-view+json": {
       "model_id": "e23d8f869d4142c8a21c1cfa5aeac7a3",
       "version_major": 2,
       "version_minor": 0
      },
      "text/plain": [
       "VBox()"
      ]
     },
     "metadata": {},
     "output_type": "display_data"
    },
    {
     "data": {
      "application/vnd.jupyter.widget-view+json": {
       "model_id": "",
       "version_major": 2,
       "version_minor": 0
      },
      "text/plain": [
       "FloatProgress(value=0.0, bar_style='info', description='Progress:', layout=Layout(height='25px', width='50%'),…"
      ]
     },
     "metadata": {},
     "output_type": "display_data"
    },
    {
     "name": "stdout",
     "output_type": "stream",
     "text": [
      "Collecting pandas==0.25.1\n",
      "  Using cached pandas-0.25.1-cp36-cp36m-manylinux1_x86_64.whl (10.5 MB)\n",
      "Collecting python-dateutil>=2.6.1\n",
      "  Using cached python_dateutil-2.8.1-py2.py3-none-any.whl (227 kB)\n",
      "Requirement already satisfied: numpy>=1.13.3 in /usr/local/lib64/python3.6/site-packages (from pandas==0.25.1) (1.14.5)\n",
      "Requirement already satisfied: pytz>=2017.2 in /usr/local/lib/python3.6/site-packages (from pandas==0.25.1) (2019.3)\n",
      "Requirement already satisfied: six>=1.5 in /usr/local/lib/python3.6/site-packages (from python-dateutil>=2.6.1->pandas==0.25.1) (1.13.0)\n",
      "Installing collected packages: python-dateutil, pandas\n",
      "Successfully installed pandas-0.25.1 python-dateutil-2.8.1\n",
      "\n",
      "Collecting matplotlib==3.1.1\n",
      "  Using cached matplotlib-3.1.1-cp36-cp36m-manylinux1_x86_64.whl (13.1 MB)\n",
      "Collecting pyparsing!=2.0.4,!=2.1.2,!=2.1.6,>=2.0.1\n",
      "  Using cached pyparsing-2.4.7-py2.py3-none-any.whl (67 kB)\n",
      "Requirement already satisfied: numpy>=1.11 in /usr/local/lib64/python3.6/site-packages (from matplotlib==3.1.1) (1.14.5)\n",
      "Requirement already satisfied: python-dateutil>=2.1 in /mnt/tmp/1623528441702-0/lib/python3.6/site-packages (from matplotlib==3.1.1) (2.8.1)\n",
      "Collecting kiwisolver>=1.0.1\n",
      "  Using cached kiwisolver-1.3.1-cp36-cp36m-manylinux1_x86_64.whl (1.1 MB)\n",
      "Collecting cycler>=0.10\n",
      "  Using cached cycler-0.10.0-py2.py3-none-any.whl (6.5 kB)\n",
      "Requirement already satisfied: six in /usr/local/lib/python3.6/site-packages (from cycler>=0.10->matplotlib==3.1.1) (1.13.0)\n",
      "Installing collected packages: pyparsing, kiwisolver, cycler, matplotlib\n",
      "Successfully installed cycler-0.10.0 kiwisolver-1.3.1 matplotlib-3.1.1 pyparsing-2.4.7\n",
      "\n",
      "Collecting seaborn==0.11.1\n",
      "  Using cached seaborn-0.11.1-py3-none-any.whl (285 kB)\n",
      "Requirement already satisfied: pandas>=0.23 in /mnt/tmp/1623528441702-0/lib64/python3.6/site-packages (from seaborn==0.11.1) (0.25.1)\n",
      "Collecting scipy>=1.0\n",
      "  Using cached scipy-1.5.4-cp36-cp36m-manylinux1_x86_64.whl (25.9 MB)\n",
      "Requirement already satisfied: matplotlib>=2.2 in /mnt/tmp/1623528441702-0/lib64/python3.6/site-packages (from seaborn==0.11.1) (3.1.1)\n",
      "Collecting numpy>=1.15\n",
      "  Using cached numpy-1.19.5-cp36-cp36m-manylinux2010_x86_64.whl (14.8 MB)\n",
      "Requirement already satisfied: pyparsing!=2.0.4,!=2.1.2,!=2.1.6,>=2.0.1 in /mnt/tmp/1623528441702-0/lib/python3.6/site-packages (from matplotlib>=2.2->seaborn==0.11.1) (2.4.7)\n",
      "Requirement already satisfied: python-dateutil>=2.1 in /mnt/tmp/1623528441702-0/lib/python3.6/site-packages (from matplotlib>=2.2->seaborn==0.11.1) (2.8.1)\n",
      "Requirement already satisfied: kiwisolver>=1.0.1 in /mnt/tmp/1623528441702-0/lib64/python3.6/site-packages (from matplotlib>=2.2->seaborn==0.11.1) (1.3.1)\n",
      "Requirement already satisfied: cycler>=0.10 in /mnt/tmp/1623528441702-0/lib/python3.6/site-packages (from matplotlib>=2.2->seaborn==0.11.1) (0.10.0)\n",
      "Requirement already satisfied: six in /usr/local/lib/python3.6/site-packages (from cycler>=0.10->matplotlib>=2.2->seaborn==0.11.1) (1.13.0)\n",
      "Requirement already satisfied: pytz>=2017.2 in /usr/local/lib/python3.6/site-packages (from pandas>=0.23->seaborn==0.11.1) (2019.3)\n",
      "Installing collected packages: numpy, scipy, seaborn\n",
      "  Attempting uninstall: numpy\n",
      "    Found existing installation: numpy 1.14.5\n",
      "    Not uninstalling numpy at /usr/local/lib64/python3.6/site-packages, outside environment /tmp/1623528441702-0\n",
      "    Can't uninstall 'numpy'. No files were found to uninstall.\n",
      "Successfully installed numpy-1.19.5 scipy-1.5.4 seaborn-0.11.1\n",
      "\n",
      "\n",
      "\n",
      "ERROR: pip's dependency resolver does not currently take into account all the packages that are installed. This behaviour is the source of the following dependency conflicts.\n",
      "python36-sagemaker-pyspark 1.2.6 requires pyspark==2.3.2, which is not installed."
     ]
    }
   ],
   "source": [
    "sc.install_pypi_package(\"pandas==0.25.1\") #Install pandas version 0.25.1 on EMR\n",
    "sc.install_pypi_package(\"matplotlib==3.1.1\") #Install matplotlib version 3.1.1 on EMR\n",
    "sc.install_pypi_package(\"seaborn==0.11.1\") #Install seaborn version 0.11.1 on EMR\n"
   ]
  },
  {
   "cell_type": "code",
   "execution_count": 3,
   "metadata": {},
   "outputs": [
    {
     "data": {
      "application/vnd.jupyter.widget-view+json": {
       "model_id": "92ba186cf01446cfaf2f1220f050b63a",
       "version_major": 2,
       "version_minor": 0
      },
      "text/plain": [
       "VBox()"
      ]
     },
     "metadata": {},
     "output_type": "display_data"
    },
    {
     "data": {
      "application/vnd.jupyter.widget-view+json": {
       "model_id": "",
       "version_major": 2,
       "version_minor": 0
      },
      "text/plain": [
       "FloatProgress(value=0.0, bar_style='info', description='Progress:', layout=Layout(height='25px', width='50%'),…"
      ]
     },
     "metadata": {},
     "output_type": "display_data"
    },
    {
     "name": "stdout",
     "output_type": "stream",
     "text": [
      "Package                    Version\n",
      "-------------------------- -------\n",
      "beautifulsoup4             4.8.1\n",
      "boto                       2.49.0\n",
      "cycler                     0.10.0\n",
      "jmespath                   0.9.4\n",
      "kiwisolver                 1.3.1\n",
      "lxml                       4.4.2\n",
      "matplotlib                 3.1.1\n",
      "mysqlclient                1.4.6\n",
      "nltk                       3.4.5\n",
      "nose                       1.3.4\n",
      "numpy                      1.19.5\n",
      "pandas                     0.25.1\n",
      "pip                        21.1.2\n",
      "py-dateutil                2.2\n",
      "pyparsing                  2.4.7\n",
      "python-dateutil            2.8.1\n",
      "python36-sagemaker-pyspark 1.2.6\n",
      "pytz                       2019.3\n",
      "PyYAML                     3.11\n",
      "scipy                      1.5.4\n",
      "seaborn                    0.11.1\n",
      "setuptools                 57.0.0\n",
      "six                        1.13.0\n",
      "soupsieve                  1.9.5\n",
      "wheel                      0.36.2\n",
      "windmill                   1.6"
     ]
    }
   ],
   "source": [
    "sc.list_packages()"
   ]
  },
  {
   "cell_type": "code",
   "execution_count": 4,
   "metadata": {},
   "outputs": [
    {
     "data": {
      "application/vnd.jupyter.widget-view+json": {
       "model_id": "e31acb68a893479c9059fbbbe5c58d1a",
       "version_major": 2,
       "version_minor": 0
      },
      "text/plain": [
       "VBox()"
      ]
     },
     "metadata": {},
     "output_type": "display_data"
    },
    {
     "data": {
      "application/vnd.jupyter.widget-view+json": {
       "model_id": "",
       "version_major": 2,
       "version_minor": 0
      },
      "text/plain": [
       "FloatProgress(value=0.0, bar_style='info', description='Progress:', layout=Layout(height='25px', width='50%'),…"
      ]
     },
     "metadata": {},
     "output_type": "display_data"
    }
   ],
   "source": [
    "import pandas as pd\n",
    "import matplotlib.pyplot as plt\n",
    "import seaborn as sns\n",
    "import datetime as dt\n",
    "import numpy as np\n",
    "\n",
    "from pyspark.sql import SparkSession\n",
    "from pyspark.sql import functions as F\n",
    "from pyspark.sql.window import Window\n",
    "from pyspark.sql.types import IntegerType\n",
    "\n",
    "from pyspark.ml.feature import VectorAssembler, StandardScaler\n",
    "from pyspark.ml.tuning import CrossValidator, ParamGridBuilder\n",
    "from pyspark.ml import Pipeline\n",
    "from pyspark.ml.classification import LogisticRegression, GBTClassifier\n",
    "from pyspark.ml.evaluation import MulticlassClassificationEvaluator\n",
    "\n",
    "\n",
    "pd.set_option('display.max_columns', 50)"
   ]
  },
  {
   "cell_type": "code",
   "execution_count": 5,
   "metadata": {},
   "outputs": [
    {
     "data": {
      "application/vnd.jupyter.widget-view+json": {
       "model_id": "3cc84962e34843359c7c71c3cc15cfaa",
       "version_major": 2,
       "version_minor": 0
      },
      "text/plain": [
       "VBox()"
      ]
     },
     "metadata": {},
     "output_type": "display_data"
    },
    {
     "data": {
      "application/vnd.jupyter.widget-view+json": {
       "model_id": "",
       "version_major": 2,
       "version_minor": 0
      },
      "text/plain": [
       "FloatProgress(value=0.0, bar_style='info', description='Progress:', layout=Layout(height='25px', width='50%'),…"
      ]
     },
     "metadata": {},
     "output_type": "display_data"
    }
   ],
   "source": [
    "# Create spark session\n",
    "spark = SparkSession \\\n",
    "    .builder \\\n",
    "    .appName(\"Sparkify\") \\\n",
    "    .getOrCreate()"
   ]
  },
  {
   "cell_type": "markdown",
   "metadata": {},
   "source": [
    "## Section 2: Data Understanding"
   ]
  },
  {
   "cell_type": "code",
   "execution_count": 6,
   "metadata": {},
   "outputs": [
    {
     "data": {
      "application/vnd.jupyter.widget-view+json": {
       "model_id": "1f25e0785d8241f892604714f7542a46",
       "version_major": 2,
       "version_minor": 0
      },
      "text/plain": [
       "VBox()"
      ]
     },
     "metadata": {},
     "output_type": "display_data"
    },
    {
     "data": {
      "application/vnd.jupyter.widget-view+json": {
       "model_id": "",
       "version_major": 2,
       "version_minor": 0
      },
      "text/plain": [
       "FloatProgress(value=0.0, bar_style='info', description='Progress:', layout=Layout(height='25px', width='50%'),…"
      ]
     },
     "metadata": {},
     "output_type": "display_data"
    }
   ],
   "source": [
    "# Read in full sparkify dataset\n",
    "event_data = \"s3n://udacity-dsnd/sparkify/sparkify_event_data.json\"\n",
    "event_data_mini = \"s3n://udacity-dsnd/sparkify/mini_sparkify_event_data.json\"\n",
    "df = spark.read.json(event_data)"
   ]
  },
  {
   "cell_type": "code",
   "execution_count": 7,
   "metadata": {},
   "outputs": [
    {
     "data": {
      "application/vnd.jupyter.widget-view+json": {
       "model_id": "966ae290f86347cda3b8fbcbb564b87f",
       "version_major": 2,
       "version_minor": 0
      },
      "text/plain": [
       "VBox()"
      ]
     },
     "metadata": {},
     "output_type": "display_data"
    },
    {
     "data": {
      "application/vnd.jupyter.widget-view+json": {
       "model_id": "",
       "version_major": 2,
       "version_minor": 0
      },
      "text/plain": [
       "FloatProgress(value=0.0, bar_style='info', description='Progress:', layout=Layout(height='25px', width='50%'),…"
      ]
     },
     "metadata": {},
     "output_type": "display_data"
    },
    {
     "name": "stdout",
     "output_type": "stream",
     "text": [
      "root\n",
      " |-- artist: string (nullable = true)\n",
      " |-- auth: string (nullable = true)\n",
      " |-- firstName: string (nullable = true)\n",
      " |-- gender: string (nullable = true)\n",
      " |-- itemInSession: long (nullable = true)\n",
      " |-- lastName: string (nullable = true)\n",
      " |-- length: double (nullable = true)\n",
      " |-- level: string (nullable = true)\n",
      " |-- location: string (nullable = true)\n",
      " |-- method: string (nullable = true)\n",
      " |-- page: string (nullable = true)\n",
      " |-- registration: long (nullable = true)\n",
      " |-- sessionId: long (nullable = true)\n",
      " |-- song: string (nullable = true)\n",
      " |-- status: long (nullable = true)\n",
      " |-- ts: long (nullable = true)\n",
      " |-- userAgent: string (nullable = true)\n",
      " |-- userId: string (nullable = true)"
     ]
    }
   ],
   "source": [
    "df.printSchema()"
   ]
  },
  {
   "cell_type": "code",
   "execution_count": 8,
   "metadata": {},
   "outputs": [
    {
     "data": {
      "application/vnd.jupyter.widget-view+json": {
       "model_id": "d15f3d68db8d4042ba28aa47cf60c57b",
       "version_major": 2,
       "version_minor": 0
      },
      "text/plain": [
       "VBox()"
      ]
     },
     "metadata": {},
     "output_type": "display_data"
    },
    {
     "data": {
      "application/vnd.jupyter.widget-view+json": {
       "model_id": "",
       "version_major": 2,
       "version_minor": 0
      },
      "text/plain": [
       "FloatProgress(value=0.0, bar_style='info', description='Progress:', layout=Layout(height='25px', width='50%'),…"
      ]
     },
     "metadata": {},
     "output_type": "display_data"
    },
    {
     "name": "stdout",
     "output_type": "stream",
     "text": [
      "(26259199, 18)"
     ]
    }
   ],
   "source": [
    "# df shape\n",
    "print((df.count(), len(df.columns)))"
   ]
  },
  {
   "cell_type": "code",
   "execution_count": 9,
   "metadata": {},
   "outputs": [
    {
     "data": {
      "application/vnd.jupyter.widget-view+json": {
       "model_id": "54b4c32156fb4158ad3afb74db25434c",
       "version_major": 2,
       "version_minor": 0
      },
      "text/plain": [
       "VBox()"
      ]
     },
     "metadata": {},
     "output_type": "display_data"
    },
    {
     "data": {
      "application/vnd.jupyter.widget-view+json": {
       "model_id": "",
       "version_major": 2,
       "version_minor": 0
      },
      "text/plain": [
       "FloatProgress(value=0.0, bar_style='info', description='Progress:', layout=Layout(height='25px', width='50%'),…"
      ]
     },
     "metadata": {},
     "output_type": "display_data"
    },
    {
     "name": "stdout",
     "output_type": "stream",
     "text": [
      "+--------------------+----------+---------+------+-------------+---------+----------+-----+--------------------+------+--------+-------------+---------+--------------------+------+-------------+--------------------+-------+\n",
      "|              artist|      auth|firstName|gender|itemInSession| lastName|    length|level|            location|method|    page| registration|sessionId|                song|status|           ts|           userAgent| userId|\n",
      "+--------------------+----------+---------+------+-------------+---------+----------+-----+--------------------+------+--------+-------------+---------+--------------------+------+-------------+--------------------+-------+\n",
      "|           Popol Vuh| Logged In|    Shlok|     M|          278|  Johnson| 524.32934| paid|Dallas-Fort Worth...|   PUT|NextSong|1533734541000|    22683|Ich mache einen S...|   200|1538352001000|\"Mozilla/5.0 (Win...|1749042|\n",
      "|         Los Bunkers| Logged In|  Vianney|     F|            9|   Miller| 238.39302| paid|San Francisco-Oak...|   PUT|NextSong|1537500318000|    20836|         MiÃÂ©ntele|   200|1538352002000|\"Mozilla/5.0 (Mac...|1563081|\n",
      "|                Lush| Logged In|     Vina|     F|          109|   Bailey| 140.35546| paid|            Hilo, HI|   PUT|NextSong|1536414505000|     4593|           Baby Talk|   200|1538352002000|Mozilla/5.0 (Maci...|1697168|\n",
      "|Barry Tuckwell/Ac...| Logged In|   Andres|     M|           71|    Foley| 277.15873| paid|       Watertown, SD|   PUT|NextSong|1534386660000|     6370|Horn Concerto No....|   200|1538352003000|\"Mozilla/5.0 (Mac...|1222580|\n",
      "|                 Yes| Logged In|  Aaliyah|     F|           21|  Ramirez|1121.25342| paid|Baltimore-Columbi...|   PUT|NextSong|1537381415000|    22316|Close To The Edge...|   200|1538352003000|\"Mozilla/5.0 (Win...|1714398|\n",
      "|                MGMT| Logged In|     Ryan|     M|            8| Williams| 229.25016| paid|Cape Coral-Fort M...|   PUT|NextSong|1537602560000|    23924|       Electric Feel|   200|1538352004000|\"Mozilla/5.0 (Win...|1010522|\n",
      "|   Animal Collective| Logged In|    Isaac|     M|            6|    Brown|  313.5473| free|          Kokomo, IN|   PUT|NextSong|1536563853000|     1746|              Bluish|   200|1538352005000|Mozilla/5.0 (Wind...|1475659|\n",
      "|              Eminem| Logged In| Jonathan|     M|           29|   Martin|  250.8273| free|New York-Newark-J...|   PUT|NextSong|1538069376000|    22483|         Mockingbird|   200|1538352006000|\"Mozilla/5.0 (Win...|1465194|\n",
      "|         Leona Lewis| Logged In| Jennifer|     F|            0|  Shelton| 203.88526| free|      Pittsburgh, PA|   PUT|NextSong|1536455539000|    25128|          Forgive Me|   200|1538352006000|\"Mozilla/5.0 (Win...|1558463|\n",
      "|     The Cranberries| Logged In|  Michael|     M|           13|    Riley| 183.87546| paid|Albany-Schenectad...|   PUT|NextSong|1533220062000|     3992|         The Concept|   200|1538352006000|\"Mozilla/5.0 (Win...|1605667|\n",
      "|        Mariah Carey| Logged In|    Azari|     M|           37|   Hansen|  265.9522| free|    Martinsville, VA|   PUT|NextSong|1534393835000|    14642|Anytime You Need ...|   200|1538352006000|\"Mozilla/5.0 (X11...|1385500|\n",
      "|Johnny Cash with ...| Logged In|    Riley|     F|          300|Hernandez| 199.81016| paid|         Reading, PA|   PUT|NextSong|1537618545000|    14853|   Nine Pound Hammer|   200|1538352006000|\"Mozilla/5.0 (Mac...|1032628|\n",
      "|            Gorillaz| Logged In|    Brian|     M|           73|    Allen| 131.91791| free|San Diego-Carlsba...|   PUT|NextSong|1537868758000|     2526|Don't Get Lost In...|   200|1538352007000|\"Mozilla/5.0 (Mac...|1901081|\n",
      "|     Los Prisioneros| Logged In|  Brayden|     M|           95|Armstrong| 248.78975| paid|Dallas-Fort Worth...|   PUT|NextSong|1534635513000|    23917|   La Voz De Los '80|   200|1538352007000|\"Mozilla/5.0 (Win...|1611729|\n",
      "|   The White Stripes| Logged In|   Brooke|     F|            6|    Kirby| 126.40608| paid|Los Angeles-Long ...|   PUT|NextSong|1531817572000|    14085|          Good To Me|   200|1538352008000|\"Mozilla/5.0 (Win...|1497881|\n",
      "|   Brigitte Fontaine| Logged In|  Caitlin|     F|          117|  Barnett| 355.57832| free|Philadelphia-Camd...|   PUT|NextSong|1528964849000|     2303|Ah Que La Vie Est...|   200|1538352008000|\"Mozilla/5.0 (Mac...|1413952|\n",
      "|      Alien Ant Farm| Logged In|   Aminah|     F|            8|    Payne|  204.7473| free|Virginia Beach-No...|   PUT|NextSong|1536761240000|    19434|                Wish|   200|1538352008000|Mozilla/5.0 (X11;...|1585800|\n",
      "|                null|Logged Out|     null|  null|           87|     null|      null| paid|                null|   GET|    Home|         null|     8615|                null|   200|1538352008000|                null|1261737|\n",
      "|                null| Logged In|  Valarie|     F|          206|    Moore|      null| paid|Los Angeles-Long ...|   GET|    Home|1537790336000|     2948|                null|   200|1538352008000|\"Mozilla/5.0 (Win...|1009070|\n",
      "|          Dan Mangan| Logged In|    Hanna|     F|           15|   Peters| 293.85098| free|Boston-Cambridge-...|   PUT|NextSong|1534217490000|     7804|Some Place To Com...|   200|1538352010000|\"Mozilla/5.0 (Win...|1041334|\n",
      "+--------------------+----------+---------+------+-------------+---------+----------+-----+--------------------+------+--------+-------------+---------+--------------------+------+-------------+--------------------+-------+\n",
      "only showing top 20 rows"
     ]
    }
   ],
   "source": [
    "df.show()"
   ]
  },
  {
   "cell_type": "code",
   "execution_count": 10,
   "metadata": {},
   "outputs": [
    {
     "data": {
      "application/vnd.jupyter.widget-view+json": {
       "model_id": "bf8c5d6e85af4602b3a9531d33a0dc64",
       "version_major": 2,
       "version_minor": 0
      },
      "text/plain": [
       "VBox()"
      ]
     },
     "metadata": {},
     "output_type": "display_data"
    },
    {
     "data": {
      "application/vnd.jupyter.widget-view+json": {
       "model_id": "",
       "version_major": 2,
       "version_minor": 0
      },
      "text/plain": [
       "FloatProgress(value=0.0, bar_style='info', description='Progress:', layout=Layout(height='25px', width='50%'),…"
      ]
     },
     "metadata": {},
     "output_type": "display_data"
    },
    {
     "name": "stdout",
     "output_type": "stream",
     "text": [
      "+-------+------------------+\n",
      "|summary|     itemInSession|\n",
      "+-------+------------------+\n",
      "|  count|          26259199|\n",
      "|   mean|106.56267561702853|\n",
      "| stddev|117.65812617523801|\n",
      "|    min|                 0|\n",
      "|    max|              1428|\n",
      "+-------+------------------+\n",
      "\n",
      "None\n",
      "+-------+------------------+\n",
      "|summary|            length|\n",
      "+-------+------------------+\n",
      "|  count|          20850272|\n",
      "|   mean|248.72543296748836|\n",
      "| stddev| 97.28710387078065|\n",
      "|    min|             0.522|\n",
      "|    max|        3024.66567|\n",
      "+-------+------------------+\n",
      "\n",
      "None\n",
      "+-------+--------------------+\n",
      "|summary|        registration|\n",
      "+-------+--------------------+\n",
      "|  count|            25480720|\n",
      "|   mean|1.535220665260512...|\n",
      "| stddev|  3.24029909782507E9|\n",
      "|    min|       1508018725000|\n",
      "|    max|       1543821822000|\n",
      "+-------+--------------------+\n",
      "\n",
      "None\n",
      "+-------+------------------+\n",
      "|summary|         sessionId|\n",
      "+-------+------------------+\n",
      "|  count|          26259199|\n",
      "|   mean|100577.99253503505|\n",
      "| stddev| 71909.21077875949|\n",
      "|    min|                 1|\n",
      "|    max|            240381|\n",
      "+-------+------------------+\n",
      "\n",
      "None\n",
      "+-------+------------------+\n",
      "|summary|            status|\n",
      "+-------+------------------+\n",
      "|  count|          26259199|\n",
      "|   mean|210.06768953615074|\n",
      "| stddev| 31.55072878819762|\n",
      "|    min|               200|\n",
      "|    max|               404|\n",
      "+-------+------------------+\n",
      "\n",
      "None\n",
      "+-------+--------------------+\n",
      "|summary|                  ts|\n",
      "+-------+--------------------+\n",
      "|  count|            26259199|\n",
      "|   mean|1.540905636113772...|\n",
      "| stddev|1.5158105552719762E9|\n",
      "|    min|       1538352001000|\n",
      "|    max|       1543622402000|\n",
      "+-------+--------------------+\n",
      "\n",
      "None"
     ]
    }
   ],
   "source": [
    "# describing each numeric-like column\n",
    "\n",
    "for column in df.dtypes:\n",
    "    if column[1] != 'string':\n",
    "        print(df.describe(column[0]).show())"
   ]
  },
  {
   "cell_type": "code",
   "execution_count": 11,
   "metadata": {},
   "outputs": [
    {
     "data": {
      "application/vnd.jupyter.widget-view+json": {
       "model_id": "53bd5f250101406996236284caf143c8",
       "version_major": 2,
       "version_minor": 0
      },
      "text/plain": [
       "VBox()"
      ]
     },
     "metadata": {},
     "output_type": "display_data"
    },
    {
     "data": {
      "application/vnd.jupyter.widget-view+json": {
       "model_id": "",
       "version_major": 2,
       "version_minor": 0
      },
      "text/plain": [
       "FloatProgress(value=0.0, bar_style='info', description='Progress:', layout=Layout(height='25px', width='50%'),…"
      ]
     },
     "metadata": {},
     "output_type": "display_data"
    },
    {
     "name": "stdout",
     "output_type": "stream",
     "text": [
      "+--------------------+-------+\n",
      "|              artist|  count|\n",
      "+--------------------+-------+\n",
      "|                null|5408927|\n",
      "|       Kings Of Leon| 169824|\n",
      "|            Coldplay| 164369|\n",
      "|Florence + The Ma...| 115348|\n",
      "|       Dwight Yoakam| 107284|\n",
      "|                Muse| 104710|\n",
      "|            BjÃÂ¶rk| 104654|\n",
      "|      The Black Keys| 102694|\n",
      "|       Justin Bieber| 100219|\n",
      "|        Jack Johnson|  94263|\n",
      "+--------------------+-------+\n",
      "only showing top 10 rows\n",
      "\n",
      "None\n",
      "+----------+--------+\n",
      "|      auth|   count|\n",
      "+----------+--------+\n",
      "| Logged In|25475717|\n",
      "|Logged Out|  774285|\n",
      "| Cancelled|    5003|\n",
      "|     Guest|    4194|\n",
      "+----------+--------+\n",
      "\n",
      "None\n",
      "+---------+------+\n",
      "|firstName| count|\n",
      "+---------+------+\n",
      "|     null|778479|\n",
      "| Isabella|164727|\n",
      "|    Jacob|164502|\n",
      "|   Sophia|155278|\n",
      "|  Anthony|142531|\n",
      "|  Michael|133171|\n",
      "|   Jayden|130552|\n",
      "|    Aiden|120007|\n",
      "|      Ava|118971|\n",
      "|     Noah|118132|\n",
      "+---------+------+\n",
      "only showing top 10 rows\n",
      "\n",
      "None\n",
      "+------+--------+\n",
      "|gender|   count|\n",
      "+------+--------+\n",
      "|     M|13299562|\n",
      "|     F|12181158|\n",
      "|  null|  778479|\n",
      "+------+--------+\n",
      "\n",
      "None\n",
      "+-------------+------+\n",
      "|itemInSession| count|\n",
      "+-------------+------+\n",
      "|            0|306295|\n",
      "|            1|293438|\n",
      "|            2|288287|\n",
      "|            3|283276|\n",
      "|            4|279211|\n",
      "|            5|275051|\n",
      "|            6|271030|\n",
      "|            7|267067|\n",
      "|            8|263161|\n",
      "|            9|259313|\n",
      "+-------------+------+\n",
      "only showing top 10 rows\n",
      "\n",
      "None\n",
      "+--------+------+\n",
      "|lastName| count|\n",
      "+--------+------+\n",
      "|    null|778479|\n",
      "|   Smith|508054|\n",
      "| Johnson|472193|\n",
      "|   Brown|355606|\n",
      "|Williams|347134|\n",
      "|   Jones|309336|\n",
      "|  Miller|269204|\n",
      "|   Davis|253037|\n",
      "|  Wilson|198356|\n",
      "|Anderson|197542|\n",
      "+--------+------+\n",
      "only showing top 10 rows\n",
      "\n",
      "None\n",
      "+---------+-------+\n",
      "|   length|  count|\n",
      "+---------+-------+\n",
      "|     null|5408927|\n",
      "| 239.3073| 113197|\n",
      "|348.57751|  95286|\n",
      "|201.79546|  83494|\n",
      "|655.77751|  62489|\n",
      "|277.15873|  57666|\n",
      "|219.66322|  52952|\n",
      "|220.89098|  50296|\n",
      "|224.67873|  48343|\n",
      "|236.09424|  42391|\n",
      "+---------+-------+\n",
      "only showing top 10 rows\n",
      "\n",
      "None\n",
      "+-----+--------+\n",
      "|level|   count|\n",
      "+-----+--------+\n",
      "| paid|20595828|\n",
      "| free| 5663371|\n",
      "+-----+--------+\n",
      "\n",
      "None\n",
      "+--------------------+-------+\n",
      "|            location|  count|\n",
      "+--------------------+-------+\n",
      "|New York-Newark-J...|1732380|\n",
      "|Los Angeles-Long ...|1218495|\n",
      "|                null| 778479|\n",
      "|Chicago-Napervill...| 725147|\n",
      "|Philadelphia-Camd...| 613289|\n",
      "|Dallas-Fort Worth...| 568133|\n",
      "|Washington-Arling...| 532650|\n",
      "|Miami-Fort Lauder...| 498435|\n",
      "|Houston-The Woodl...| 494099|\n",
      "|Phoenix-Mesa-Scot...| 453895|\n",
      "+--------------------+-------+\n",
      "only showing top 10 rows\n",
      "\n",
      "None\n",
      "+------+--------+\n",
      "|method|   count|\n",
      "+------+--------+\n",
      "|   PUT|23869438|\n",
      "|   GET| 2389761|\n",
      "+------+--------+\n",
      "\n",
      "None\n",
      "+---------------+--------+\n",
      "|           page|   count|\n",
      "+---------------+--------+\n",
      "|       NextSong|20850272|\n",
      "|           Home| 1343102|\n",
      "|      Thumbs Up| 1151465|\n",
      "|Add to Playlist|  597921|\n",
      "|    Roll Advert|  385212|\n",
      "|     Add Friend|  381664|\n",
      "|          Login|  296350|\n",
      "|         Logout|  296005|\n",
      "|    Thumbs Down|  239212|\n",
      "|      Downgrade|  184240|\n",
      "+---------------+--------+\n",
      "only showing top 10 rows\n",
      "\n",
      "None\n",
      "+-------------+------+\n",
      "| registration| count|\n",
      "+-------------+------+\n",
      "|         null|778479|\n",
      "|1534254091000| 13591|\n",
      "|1537706410000| 12831|\n",
      "|1537210724000| 12372|\n",
      "|1536852412000| 11858|\n",
      "|1537726951000| 11578|\n",
      "|1538172920000| 11356|\n",
      "|1534295798000| 11243|\n",
      "|1538307555000| 11217|\n",
      "|1538070182000| 11202|\n",
      "+-------------+------+\n",
      "only showing top 10 rows\n",
      "\n",
      "None\n",
      "+---------+-----+\n",
      "|sessionId|count|\n",
      "+---------+-----+\n",
      "|    14073| 1446|\n",
      "|    84971| 1429|\n",
      "|    47184| 1425|\n",
      "|   128347| 1371|\n",
      "|    89129| 1359|\n",
      "|    23820| 1325|\n",
      "|   143782| 1315|\n",
      "|   125892| 1290|\n",
      "|   116166| 1282|\n",
      "|    39741| 1224|\n",
      "+---------+-----+\n",
      "only showing top 10 rows\n",
      "\n",
      "None\n",
      "+--------------------+-------+\n",
      "|                song|  count|\n",
      "+--------------------+-------+\n",
      "|                null|5408927|\n",
      "|      You're The One| 108085|\n",
      "|                Undo|  94183|\n",
      "|             Revelry|  77588|\n",
      "|       Sehr kosmisch|  62450|\n",
      "|Horn Concerto No....|  57267|\n",
      "|Dog Days Are Over...|  52160|\n",
      "|             Secrets|  43483|\n",
      "|        Use Somebody|  42670|\n",
      "|              Canada|  40765|\n",
      "+--------------------+-------+\n",
      "only showing top 10 rows\n",
      "\n",
      "None\n",
      "+------+--------+\n",
      "|status|   count|\n",
      "+------+--------+\n",
      "|   200|23811992|\n",
      "|   307| 2421245|\n",
      "|   404|   25962|\n",
      "+------+--------+\n",
      "\n",
      "None\n",
      "+-------------+-----+\n",
      "|           ts|count|\n",
      "+-------------+-----+\n",
      "|1539886449000|   24|\n",
      "|1539906559000|   23|\n",
      "|1539282965000|   22|\n",
      "|1539097302000|   22|\n",
      "|1539109331000|   22|\n",
      "|1539190198000|   22|\n",
      "|1538762566000|   22|\n",
      "|1539110890000|   22|\n",
      "|1539790653000|   22|\n",
      "|1539978625000|   21|\n",
      "+-------------+-----+\n",
      "only showing top 10 rows\n",
      "\n",
      "None\n",
      "+--------------------+-------+\n",
      "|           userAgent|  count|\n",
      "+--------------------+-------+\n",
      "|\"Mozilla/5.0 (Win...|2400726|\n",
      "|Mozilla/5.0 (Wind...|1962722|\n",
      "|\"Mozilla/5.0 (Win...|1562542|\n",
      "|\"Mozilla/5.0 (Mac...|1523670|\n",
      "|\"Mozilla/5.0 (Mac...|1354485|\n",
      "|\"Mozilla/5.0 (Mac...|1290830|\n",
      "|\"Mozilla/5.0 (Mac...|1143199|\n",
      "|Mozilla/5.0 (Maci...|1097003|\n",
      "|\"Mozilla/5.0 (Mac...|1050341|\n",
      "|\"Mozilla/5.0 (Win...| 861096|\n",
      "+--------------------+-------+\n",
      "only showing top 10 rows\n",
      "\n",
      "None\n",
      "+-------+------+\n",
      "| userId| count|\n",
      "+-------+------+\n",
      "|1261737|778479|\n",
      "|1564221| 13591|\n",
      "|1931933| 12831|\n",
      "|1006695| 12372|\n",
      "|1336969| 11858|\n",
      "|1663631| 11578|\n",
      "|1113757| 11356|\n",
      "|1662781| 11243|\n",
      "|1019103| 11217|\n",
      "|1560520| 11202|\n",
      "+-------+------+\n",
      "only showing top 10 rows\n",
      "\n",
      "None"
     ]
    }
   ],
   "source": [
    "# count values for each column\n",
    "\n",
    "for column in df.dtypes:\n",
    "    print(df.select(F.col(column[0])).groupBy(F.col(column[0])).count().orderBy(F.col('count').desc()).show(10))"
   ]
  },
  {
   "cell_type": "code",
   "execution_count": 16,
   "metadata": {},
   "outputs": [
    {
     "data": {
      "application/vnd.jupyter.widget-view+json": {
       "model_id": "394bca336a8c4219b4d87a6e36bcd7be",
       "version_major": 2,
       "version_minor": 0
      },
      "text/plain": [
       "VBox()"
      ]
     },
     "metadata": {},
     "output_type": "display_data"
    },
    {
     "data": {
      "application/vnd.jupyter.widget-view+json": {
       "model_id": "",
       "version_major": 2,
       "version_minor": 0
      },
      "text/plain": [
       "FloatProgress(value=0.0, bar_style='info', description='Progress:', layout=Layout(height='25px', width='50%'),…"
      ]
     },
     "metadata": {},
     "output_type": "display_data"
    },
    {
     "name": "stdout",
     "output_type": "stream",
     "text": [
      "+------+-------+\n",
      "|artist|  count|\n",
      "+------+-------+\n",
      "|  null|5408927|\n",
      "+------+-------+\n",
      "\n",
      "None\n",
      "+----+-----+\n",
      "|auth|count|\n",
      "+----+-----+\n",
      "+----+-----+\n",
      "\n",
      "None\n",
      "+---------+------+\n",
      "|firstName| count|\n",
      "+---------+------+\n",
      "|     null|778479|\n",
      "+---------+------+\n",
      "\n",
      "None\n",
      "+------+------+\n",
      "|gender| count|\n",
      "+------+------+\n",
      "|  null|778479|\n",
      "+------+------+\n",
      "\n",
      "None\n",
      "+-------------+-----+\n",
      "|itemInSession|count|\n",
      "+-------------+-----+\n",
      "+-------------+-----+\n",
      "\n",
      "None\n",
      "+--------+------+\n",
      "|lastName| count|\n",
      "+--------+------+\n",
      "|    null|778479|\n",
      "+--------+------+\n",
      "\n",
      "None\n",
      "+------+-------+\n",
      "|length|  count|\n",
      "+------+-------+\n",
      "|  null|5408927|\n",
      "+------+-------+\n",
      "\n",
      "None\n",
      "+-----+-----+\n",
      "|level|count|\n",
      "+-----+-----+\n",
      "+-----+-----+\n",
      "\n",
      "None\n",
      "+--------+------+\n",
      "|location| count|\n",
      "+--------+------+\n",
      "|    null|778479|\n",
      "+--------+------+\n",
      "\n",
      "None\n",
      "+------+-----+\n",
      "|method|count|\n",
      "+------+-----+\n",
      "+------+-----+\n",
      "\n",
      "None\n",
      "+----+-----+\n",
      "|page|count|\n",
      "+----+-----+\n",
      "+----+-----+\n",
      "\n",
      "None\n",
      "+------------+------+\n",
      "|registration| count|\n",
      "+------------+------+\n",
      "|        null|778479|\n",
      "+------------+------+\n",
      "\n",
      "None\n",
      "+---------+-----+\n",
      "|sessionId|count|\n",
      "+---------+-----+\n",
      "+---------+-----+\n",
      "\n",
      "None\n",
      "+----+-------+\n",
      "|song|  count|\n",
      "+----+-------+\n",
      "|null|5408927|\n",
      "+----+-------+\n",
      "\n",
      "None\n",
      "+------+-----+\n",
      "|status|count|\n",
      "+------+-----+\n",
      "+------+-----+\n",
      "\n",
      "None\n",
      "+---+-----+\n",
      "| ts|count|\n",
      "+---+-----+\n",
      "+---+-----+\n",
      "\n",
      "None\n",
      "+---------+------+\n",
      "|userAgent| count|\n",
      "+---------+------+\n",
      "|     null|778479|\n",
      "+---------+------+\n",
      "\n",
      "None\n",
      "+------+-----+\n",
      "|userId|count|\n",
      "+------+-----+\n",
      "+------+-----+\n",
      "\n",
      "None"
     ]
    }
   ],
   "source": [
    "# checking for null or null-like ('') values in columns\n",
    "\n",
    "for column in df.dtypes:\n",
    "    print(df.filter((F.col(column[0]).isNull()==True) | (F.col(column[0])=='')).select(F.col(column[0])).groupBy(F.col(column[0])).count().show())"
   ]
  },
  {
   "cell_type": "code",
   "execution_count": 17,
   "metadata": {},
   "outputs": [
    {
     "data": {
      "application/vnd.jupyter.widget-view+json": {
       "model_id": "c269ffe15b5244b08480ff0bb8bbca0c",
       "version_major": 2,
       "version_minor": 0
      },
      "text/plain": [
       "VBox()"
      ]
     },
     "metadata": {},
     "output_type": "display_data"
    },
    {
     "data": {
      "application/vnd.jupyter.widget-view+json": {
       "model_id": "",
       "version_major": 2,
       "version_minor": 0
      },
      "text/plain": [
       "FloatProgress(value=0.0, bar_style='info', description='Progress:', layout=Layout(height='25px', width='50%'),…"
      ]
     },
     "metadata": {},
     "output_type": "display_data"
    },
    {
     "name": "stdout",
     "output_type": "stream",
     "text": [
      "+-------------------------+\n",
      "|Page                     |\n",
      "+-------------------------+\n",
      "|Cancel                   |\n",
      "|Submit Downgrade         |\n",
      "|Thumbs Down              |\n",
      "|Home                     |\n",
      "|Downgrade                |\n",
      "|Roll Advert              |\n",
      "|Logout                   |\n",
      "|Save Settings            |\n",
      "|Cancellation Confirmation|\n",
      "|About                    |\n",
      "|Submit Registration      |\n",
      "|Settings                 |\n",
      "|Login                    |\n",
      "|Register                 |\n",
      "|Add to Playlist          |\n",
      "|Add Friend               |\n",
      "|NextSong                 |\n",
      "|Thumbs Up                |\n",
      "|Help                     |\n",
      "|Upgrade                  |\n",
      "|Error                    |\n",
      "|Submit Upgrade           |\n",
      "+-------------------------+"
     ]
    }
   ],
   "source": [
    "# all possible pages visited \n",
    "\n",
    "df.select(F.col('Page')).drop_duplicates().show(50, False)"
   ]
  },
  {
   "cell_type": "code",
   "execution_count": 18,
   "metadata": {},
   "outputs": [
    {
     "data": {
      "application/vnd.jupyter.widget-view+json": {
       "model_id": "872a7d936c48423b931ea31716c9d316",
       "version_major": 2,
       "version_minor": 0
      },
      "text/plain": [
       "VBox()"
      ]
     },
     "metadata": {},
     "output_type": "display_data"
    },
    {
     "data": {
      "application/vnd.jupyter.widget-view+json": {
       "model_id": "",
       "version_major": 2,
       "version_minor": 0
      },
      "text/plain": [
       "FloatProgress(value=0.0, bar_style='info', description='Progress:', layout=Layout(height='25px', width='50%'),…"
      ]
     },
     "metadata": {},
     "output_type": "display_data"
    },
    {
     "name": "stdout",
     "output_type": "stream",
     "text": [
      "+-------+---------+--------+\n",
      "| userId|firstName|lastName|\n",
      "+-------+---------+--------+\n",
      "|1261737|     null|    null|\n",
      "+-------+---------+--------+"
     ]
    }
   ],
   "source": [
    "# what is gender null?\n",
    "df.filter(F.col('Gender').isNull()==True).select('userId','firstName','lastName').drop_duplicates().show(25)"
   ]
  },
  {
   "cell_type": "code",
   "execution_count": 21,
   "metadata": {},
   "outputs": [
    {
     "data": {
      "application/vnd.jupyter.widget-view+json": {
       "model_id": "f49006ba6c6e471e82b9dbb7bd6f4c5c",
       "version_major": 2,
       "version_minor": 0
      },
      "text/plain": [
       "VBox()"
      ]
     },
     "metadata": {},
     "output_type": "display_data"
    },
    {
     "data": {
      "application/vnd.jupyter.widget-view+json": {
       "model_id": "",
       "version_major": 2,
       "version_minor": 0
      },
      "text/plain": [
       "FloatProgress(value=0.0, bar_style='info', description='Progress:', layout=Layout(height='25px', width='50%'),…"
      ]
     },
     "metadata": {},
     "output_type": "display_data"
    },
    {
     "name": "stdout",
     "output_type": "stream",
     "text": [
      "+-------+----------+------+-----+--------+-------------------+------------+------+\n",
      "| userId|      auth|gender|level|location|               page|registration| count|\n",
      "+-------+----------+------+-----+--------+-------------------+------------+------+\n",
      "|1261737|     Guest|  null| free|    null|              About|        null|   635|\n",
      "|1261737|     Guest|  null| free|    null|Submit Registration|        null|   401|\n",
      "|1261737|Logged Out|  null| free|    null|              Login|        null| 91245|\n",
      "|1261737|Logged Out|  null| paid|    null|              About|        null| 29095|\n",
      "|1261737|Logged Out|  null| free|    null|              Error|        null|   259|\n",
      "|1261737|     Guest|  null| free|    null|           Register|        null|   802|\n",
      "|1261737|     Guest|  null| free|    null|               Home|        null|  1653|\n",
      "|1261737|     Guest|  null| free|    null|              Error|        null|    74|\n",
      "|1261737|Logged Out|  null| free|    null|               Help|        null|  8297|\n",
      "|1261737|Logged Out|  null| paid|    null|               Help|        null| 16726|\n",
      "|1261737|Logged Out|  null| paid|    null|              Error|        null|   581|\n",
      "|1261737|Logged Out|  null| free|    null|               Home|        null|136484|\n",
      "|1261737|     Guest|  null| free|    null|               Help|        null|   629|\n",
      "|1261737|Logged Out|  null| paid|    null|              Login|        null|205105|\n",
      "|1261737|Logged Out|  null| free|    null|              About|        null| 14652|\n",
      "|1261737|Logged Out|  null| paid|    null|               Home|        null|271841|\n",
      "+-------+----------+------+-----+--------+-------------------+------------+------+"
     ]
    }
   ],
   "source": [
    "#user 1261737 corrupt?\n",
    "df.filter(F.col('userId')==1261737).groupBy('userId','auth','gender','level','location','page','registration').count().show(25)"
   ]
  },
  {
   "cell_type": "markdown",
   "metadata": {},
   "source": [
    "The user 1261737 seems to be a corrupt user. \n",
    "This user is both, free and paid level, but never upgraded or downgraded the level. \n",
    "This user is associated with null in registration, gender, firstName, lastName, location and occurs most in the whole dataset (778479 times vs. 13591 occurances for the 2nd most occuring user). \n",
    "The user 1261737 will be excluded from the further analysis. \n"
   ]
  },
  {
   "cell_type": "markdown",
   "metadata": {},
   "source": [
    "## Section 3: Data Preparation"
   ]
  },
  {
   "cell_type": "markdown",
   "metadata": {},
   "source": [
    "In order to tackle the problem, an user_df will be created with 1 row per user. The next steps will include feature engeneering to calculate relevant measurements with predictive power for customer churn. \n",
    "\n",
    "* <b>isGenderFemale</b>: \n",
    "Indicator, if the userId is female or not. There might be a correlation between the gender and the sensitivity for churning\n",
    "* <b>label (churned user)</b>: \n",
    "Indicator, if the user churned or not. This is the label which needs to be predicted by the model. \n",
    "* <b>downgraded</b>: \n",
    "Indicator, if the user ever downgraded from paid to free tier. There might be a different behavior of a user, who ever downgraded vs. who did not in terms of churning. A downgraded customer might be already dissatisfied. \n",
    "* <b>isPaidCustomer</b>: \n",
    "Indicator, if the users latest level is the paid tier or not. Paid customers might have a higher restraint to churn. \n",
    "* <b>membershipDurationDays</b>: \n",
    "Number of days from first interaction with Sparkify to latest interaction with Sparkify. The membership duration might indicate the satisfaction towards the service. \n",
    "* <b>numberOfSongs, numberOfSongsPerDay</b>: \n",
    "Number of songs totally consumed by the user, and per day of membership in average. The Number of songs per day might indicate the level of usage of the service and indicate the level of satisfaction towards the service. \n",
    "* <b>thumbsDown, thumbsUp, relThumbsDown, relThumbsUp</b>: \n",
    "The rating behavior of the user. Total number of Thumb Up and Down interactions. Each rating interaction is also calculated per song consumed to achieve the number of Thumbs Up and Down per song listened to. This might indicate the satisfaction of the user towards Sparkify\n",
    "* <b>songsSkipped</b>: \n",
    "Number of songs skipped before they ended. This might indicate if an user receives bad song recommendation what might reduce the level of satisfaction. \n",
    "* <b>numberOfErrors, numberOfInteractions, relNumberOfErrors</b>: \n",
    "The number of Errors received from the service and versus all interactions with the system might indicate the system performance for the user. A bad system performance might end up in a higher level of dissatisfaction. \n",
    "* <b>downgradeAttempts</b>: \n",
    "How often did a user visit the \"Downgrade\"-page. An user might not downgrade direcly, but visit the downgrade page, rethink about it and decide not to submit the downgrade. But a user, trying to downgrade but not submitting the downgrade might already indicate a level of dissatisfaction towards the service.\n",
    "* <b>numberOfSongsPerSession</b>: \n",
    "When the service is used, how long does the user use the service. Longer session utilization might indicate a higher level of satisfaction. \n",
    "* <b>addedFriends</b>: \n",
    "The total number of friends added to the platform per user. Hypothis: The higher the social interaction with the system the higher might be the bonding to the system and the higher the restraints to churn. \n",
    "* <b>skew</b>: \n",
    "The skew of the distribution of songs per day per user (from first interaction to last). A right skewed distribution of songs might indicate a decrease of satisfaction of relevance of the service for the user. "
   ]
  },
  {
   "cell_type": "code",
   "execution_count": 22,
   "metadata": {},
   "outputs": [
    {
     "data": {
      "application/vnd.jupyter.widget-view+json": {
       "model_id": "65e55320b9ab4e778ab01ec0d770e46c",
       "version_major": 2,
       "version_minor": 0
      },
      "text/plain": [
       "VBox()"
      ]
     },
     "metadata": {},
     "output_type": "display_data"
    },
    {
     "data": {
      "application/vnd.jupyter.widget-view+json": {
       "model_id": "",
       "version_major": 2,
       "version_minor": 0
      },
      "text/plain": [
       "FloatProgress(value=0.0, bar_style='info', description='Progress:', layout=Layout(height='25px', width='50%'),…"
      ]
     },
     "metadata": {},
     "output_type": "display_data"
    }
   ],
   "source": [
    "# filtering out all rows with userId 1261737\n",
    "df = df.filter(F.col('userId')!=1261737)"
   ]
  },
  {
   "cell_type": "code",
   "execution_count": 23,
   "metadata": {},
   "outputs": [
    {
     "data": {
      "application/vnd.jupyter.widget-view+json": {
       "model_id": "5b4f6111c8ac49049ce121db72e66c8b",
       "version_major": 2,
       "version_minor": 0
      },
      "text/plain": [
       "VBox()"
      ]
     },
     "metadata": {},
     "output_type": "display_data"
    },
    {
     "data": {
      "application/vnd.jupyter.widget-view+json": {
       "model_id": "",
       "version_major": 2,
       "version_minor": 0
      },
      "text/plain": [
       "FloatProgress(value=0.0, bar_style='info', description='Progress:', layout=Layout(height='25px', width='50%'),…"
      ]
     },
     "metadata": {},
     "output_type": "display_data"
    },
    {
     "name": "stdout",
     "output_type": "stream",
     "text": [
      "+-------+------+\n",
      "| userId|gender|\n",
      "+-------+------+\n",
      "|1679072|     M|\n",
      "|1141231|     M|\n",
      "|1163054|     M|\n",
      "|1585825|     M|\n",
      "|1367398|     M|\n",
      "+-------+------+\n",
      "only showing top 5 rows"
     ]
    }
   ],
   "source": [
    "# creation of a dimensional user df\n",
    "\n",
    "user_cols = ['userId', 'gender']\n",
    "\n",
    "user_df = df.select(user_cols).drop_duplicates().cache()\n",
    "\n",
    "user_df.show(5)"
   ]
  },
  {
   "cell_type": "code",
   "execution_count": 24,
   "metadata": {},
   "outputs": [
    {
     "data": {
      "application/vnd.jupyter.widget-view+json": {
       "model_id": "a10a450073b44097a344bcbd1378c5de",
       "version_major": 2,
       "version_minor": 0
      },
      "text/plain": [
       "VBox()"
      ]
     },
     "metadata": {},
     "output_type": "display_data"
    },
    {
     "data": {
      "application/vnd.jupyter.widget-view+json": {
       "model_id": "",
       "version_major": 2,
       "version_minor": 0
      },
      "text/plain": [
       "FloatProgress(value=0.0, bar_style='info', description='Progress:', layout=Layout(height='25px', width='50%'),…"
      ]
     },
     "metadata": {},
     "output_type": "display_data"
    },
    {
     "name": "stdout",
     "output_type": "stream",
     "text": [
      "user_df at correct level of detail"
     ]
    }
   ],
   "source": [
    "# qc for duplicated userIds\n",
    "\n",
    "if user_df.select('userId').groupBy(F.col('userId')).count().orderBy(F.col('count').desc()).filter(F.col('count')>1).count() > 0:\n",
    "    print('user_df has duplicated userId')\n",
    "else:\n",
    "    print('user_df at correct level of detail')"
   ]
  },
  {
   "cell_type": "code",
   "execution_count": 25,
   "metadata": {},
   "outputs": [
    {
     "data": {
      "application/vnd.jupyter.widget-view+json": {
       "model_id": "c484d20610ab47d1b38fc016a5511b7b",
       "version_major": 2,
       "version_minor": 0
      },
      "text/plain": [
       "VBox()"
      ]
     },
     "metadata": {},
     "output_type": "display_data"
    },
    {
     "data": {
      "application/vnd.jupyter.widget-view+json": {
       "model_id": "",
       "version_major": 2,
       "version_minor": 0
      },
      "text/plain": [
       "FloatProgress(value=0.0, bar_style='info', description='Progress:', layout=Layout(height='25px', width='50%'),…"
      ]
     },
     "metadata": {},
     "output_type": "display_data"
    }
   ],
   "source": [
    "#There is a gender null in the origin dataset but the gender null is associated to userId null only. userId null had been filtered out the dataset. \n",
    "def is_gener_female(user_df):\n",
    "    '''\n",
    "    INPUT:\n",
    "    user_df - spark df with one row per user_id\n",
    "    \n",
    "    OUTPUT\n",
    "    user_df - spark df with added column 'isGenderFemale'\n",
    "    \n",
    "    This function adds an indicator for customers churned from service to user_df.\n",
    "\n",
    "    '''\n",
    "\n",
    "    user_df = user_df.withColumn('isGenderFemale', F.when(F.col('gender')=='F', F.lit(1)).otherwise(F.lit(0)))\n",
    "    \n",
    "    return user_df\n",
    "\n",
    "user_df = is_gener_female(user_df)"
   ]
  },
  {
   "cell_type": "code",
   "execution_count": 26,
   "metadata": {},
   "outputs": [
    {
     "data": {
      "application/vnd.jupyter.widget-view+json": {
       "model_id": "c1f19544dd644b35b58263677dcd25f1",
       "version_major": 2,
       "version_minor": 0
      },
      "text/plain": [
       "VBox()"
      ]
     },
     "metadata": {},
     "output_type": "display_data"
    },
    {
     "data": {
      "application/vnd.jupyter.widget-view+json": {
       "model_id": "",
       "version_major": 2,
       "version_minor": 0
      },
      "text/plain": [
       "FloatProgress(value=0.0, bar_style='info', description='Progress:', layout=Layout(height='25px', width='50%'),…"
      ]
     },
     "metadata": {},
     "output_type": "display_data"
    }
   ],
   "source": [
    "# adding churned users to user_df\n",
    "\n",
    "def churned_users(df, user_df):\n",
    "    '''\n",
    "    INPUT:\n",
    "    df - log df structure\n",
    "    user_df - spark df with one row per user_id\n",
    "    \n",
    "    OUTPUT\n",
    "    user_df - spark df with added column 'churned'\n",
    "    \n",
    "    This function adds an indicator for customers churned from service to user_df.\n",
    "\n",
    "    '''\n",
    "    \n",
    "    churned_users = df.filter((F.col('page') == 'Cancellation Confirmation')).select('userId').drop_duplicates()\n",
    "    churned_users = churned_users.withColumn('label', F.lit(1))\n",
    "\n",
    "    user_df = user_df.join(churned_users, 'userId', how='left').fillna(value=0, subset=['label'])\n",
    "    \n",
    "    return user_df\n",
    "\n",
    "user_df = churned_users(df, user_df)"
   ]
  },
  {
   "cell_type": "code",
   "execution_count": 27,
   "metadata": {},
   "outputs": [
    {
     "data": {
      "application/vnd.jupyter.widget-view+json": {
       "model_id": "f5ce56d160a34bfcacd65f035dc03d70",
       "version_major": 2,
       "version_minor": 0
      },
      "text/plain": [
       "VBox()"
      ]
     },
     "metadata": {},
     "output_type": "display_data"
    },
    {
     "data": {
      "application/vnd.jupyter.widget-view+json": {
       "model_id": "",
       "version_major": 2,
       "version_minor": 0
      },
      "text/plain": [
       "FloatProgress(value=0.0, bar_style='info', description='Progress:', layout=Layout(height='25px', width='50%'),…"
      ]
     },
     "metadata": {},
     "output_type": "display_data"
    }
   ],
   "source": [
    "# adding indicator for users who downgraded from paid to free for user_df\n",
    "\n",
    "def downgraded(df, user_df):\n",
    "    '''\n",
    "    INPUT:\n",
    "    df - log df structure\n",
    "    user_df - spark df with one row per user_id\n",
    "    \n",
    "    OUTPUT\n",
    "    user_df - spark df with added column 'downgraded'\n",
    "    \n",
    "    This function adds an indicator for customers downgraded from paid to free per userId to user_df.\n",
    "\n",
    "    '''\n",
    "\n",
    "    downgraded_users = df.filter((F.col('page') == 'Submit Downgrade')).select('userId').drop_duplicates()\n",
    "    downgraded_users = downgraded_users.withColumn('downgraded', F.lit(1))\n",
    "\n",
    "    user_df = user_df.join(downgraded_users, 'userId', how='left').fillna(value=0, subset=['downgraded'])\n",
    "    \n",
    "    return user_df\n",
    "\n",
    "user_df = downgraded(df, user_df)"
   ]
  },
  {
   "cell_type": "code",
   "execution_count": 28,
   "metadata": {},
   "outputs": [
    {
     "data": {
      "application/vnd.jupyter.widget-view+json": {
       "model_id": "a26bff3e72a249a3b36b6087f3b5725e",
       "version_major": 2,
       "version_minor": 0
      },
      "text/plain": [
       "VBox()"
      ]
     },
     "metadata": {},
     "output_type": "display_data"
    },
    {
     "data": {
      "application/vnd.jupyter.widget-view+json": {
       "model_id": "",
       "version_major": 2,
       "version_minor": 0
      },
      "text/plain": [
       "FloatProgress(value=0.0, bar_style='info', description='Progress:', layout=Layout(height='25px', width='50%'),…"
      ]
     },
     "metadata": {},
     "output_type": "display_data"
    }
   ],
   "source": [
    "def is_paid_customer(df, user_df):\n",
    "    '''\n",
    "    INPUT:\n",
    "    df - log df structure\n",
    "    user_df - spark df with one row per user_id\n",
    "    \n",
    "    OUTPUT\n",
    "    user_df - spark df with added column 'isPaidCustomer'\n",
    "    \n",
    "    This function adds an indicator per user if the latest status of the customer is paid level to user_df.\n",
    "\n",
    "    '''\n",
    "\n",
    "    latest_tier = df.withColumn('rn_desc', F.row_number().over(Window.partitionBy(F.col('userId')).orderBy(F.col('ts').desc())))\\\n",
    "                    .filter(F.col('rn_desc')==1)\\\n",
    "                    .withColumn('isPaidCustomer', F.when(F.col('level')=='paid', F.lit(1)).otherwise(F.lit(0)))\\\n",
    "                    .select('userId','isPaidCustomer')\n",
    "\n",
    "    user_df = user_df.join(latest_tier, 'userId', how='left').fillna(value=0, subset=['isPaidCustomer'])\n",
    "    \n",
    "    return user_df\n",
    "\n",
    "user_df = is_paid_customer(df, user_df)"
   ]
  },
  {
   "cell_type": "code",
   "execution_count": 29,
   "metadata": {},
   "outputs": [
    {
     "data": {
      "application/vnd.jupyter.widget-view+json": {
       "model_id": "825a1002d0f8486389fc87adb72237eb",
       "version_major": 2,
       "version_minor": 0
      },
      "text/plain": [
       "VBox()"
      ]
     },
     "metadata": {},
     "output_type": "display_data"
    },
    {
     "data": {
      "application/vnd.jupyter.widget-view+json": {
       "model_id": "",
       "version_major": 2,
       "version_minor": 0
      },
      "text/plain": [
       "FloatProgress(value=0.0, bar_style='info', description='Progress:', layout=Layout(height='25px', width='50%'),…"
      ]
     },
     "metadata": {},
     "output_type": "display_data"
    }
   ],
   "source": [
    "# adding number of membership days per user to user_df\n",
    "def membership_duration(df, user_df):\n",
    "    '''\n",
    "    INPUT:\n",
    "    df - log df structure\n",
    "    user_df - spark df with one row per user_id\n",
    "    \n",
    "    OUTPUT\n",
    "    user_df - spark df with added column 'membershipDurationDays'\n",
    "    \n",
    "    This function calculates the membership duration in days per userId and adds this to user_df. \n",
    "\n",
    "    '''\n",
    "\n",
    "    df_member = df.select('userId','ts').groupBy('userId').agg(F.min('ts'), F.max('ts'))\n",
    "    df_member = df_member.withColumn('membershipDurationDays', (F.col('max(ts)') - F.col('min(ts)'))/1000/60/60/24)\n",
    "\n",
    "    user_df = user_df.join(df_member, 'userId', how='left').fillna(value=0, subset=['membershipDurationDays'])\n",
    "    \n",
    "    return user_df\n",
    "\n",
    "user_df = membership_duration(df, user_df)"
   ]
  },
  {
   "cell_type": "code",
   "execution_count": 30,
   "metadata": {},
   "outputs": [
    {
     "data": {
      "application/vnd.jupyter.widget-view+json": {
       "model_id": "cec1833b7291403eb82c419b14c22fa4",
       "version_major": 2,
       "version_minor": 0
      },
      "text/plain": [
       "VBox()"
      ]
     },
     "metadata": {},
     "output_type": "display_data"
    },
    {
     "data": {
      "application/vnd.jupyter.widget-view+json": {
       "model_id": "",
       "version_major": 2,
       "version_minor": 0
      },
      "text/plain": [
       "FloatProgress(value=0.0, bar_style='info', description='Progress:', layout=Layout(height='25px', width='50%'),…"
      ]
     },
     "metadata": {},
     "output_type": "display_data"
    }
   ],
   "source": [
    "def number_of_songs(df, user_df):\n",
    "    '''\n",
    "    INPUT:\n",
    "    df - log df structure\n",
    "    user_df - spark df with one row per user_id\n",
    "    \n",
    "    OUTPUT\n",
    "    user_df - spark df with added columns 'numberOfSongs', 'numberOfSongsPerDay'\n",
    "    \n",
    "    This function calculates the total number of songs consumed per userId and adds this column to the user_df. \n",
    "    Additionally this function calculates based on the column 'membershipDurationDays' present in user_df the number of Songs per day per userId.\n",
    "\n",
    "    '''\n",
    "    \n",
    "    df_listen = df.filter(F.col('song').isNull()==False)\n",
    "    df_listen = df_listen.select('userId','song').groupBy(F.col('userId')).count().withColumnRenamed('count','numberOfSongs')\n",
    "\n",
    "    user_df = user_df.join(df_listen, 'userId', how='left').fillna(value=0, subset=['numberOfSongs'])\n",
    "    user_df = user_df.withColumn('numberOfSongsPerDay', F.col('numberOfSongs')/F.col('membershipDurationDays'))\n",
    "    \n",
    "    return user_df\n",
    "    \n",
    "user_df = number_of_songs(df, user_df)"
   ]
  },
  {
   "cell_type": "code",
   "execution_count": 31,
   "metadata": {},
   "outputs": [
    {
     "data": {
      "application/vnd.jupyter.widget-view+json": {
       "model_id": "cf6be85b19e44e8fa7fdfa193693e01d",
       "version_major": 2,
       "version_minor": 0
      },
      "text/plain": [
       "VBox()"
      ]
     },
     "metadata": {},
     "output_type": "display_data"
    },
    {
     "data": {
      "application/vnd.jupyter.widget-view+json": {
       "model_id": "",
       "version_major": 2,
       "version_minor": 0
      },
      "text/plain": [
       "FloatProgress(value=0.0, bar_style='info', description='Progress:', layout=Layout(height='25px', width='50%'),…"
      ]
     },
     "metadata": {},
     "output_type": "display_data"
    }
   ],
   "source": [
    "def rating(df, user_df):\n",
    "    '''\n",
    "    INPUT:\n",
    "    df - log df structure\n",
    "    user_df - spark df with one row per user_id\n",
    "    \n",
    "    OUTPUT\n",
    "    user_df - spark df with added columns 'thumbsDown', 'thumbsUp', 'relThumbsDown', 'relThumbsUp'\n",
    "    \n",
    "    This function calculates the total number of Thumbs Down and total number of Thumbs Up interactions per userId and adds those to the user_df. \n",
    "    Additionally this function calculates based on the column 'numberOfSongs' present in user_df the number relative number of Thumbs Up and Thumbs Down\n",
    "    interaction per song per userId.\n",
    "    '''\n",
    "    \n",
    "    df_rating = df.filter(F.col('page').isin(['Thumbs Down','Thumbs Up'])==True).select('userId','page').groupBy(F.col('userId')).pivot('page').count()\n",
    "    df_rating = df_rating.withColumnRenamed('Thumbs Down','thumbsDown').withColumnRenamed('Thumbs Up','thumbsUp')\n",
    "\n",
    "    user_df = user_df.join(df_rating, 'userId', how='left').fillna(value=0, subset=['thumbsDown','thumbsUp'])\n",
    "    \n",
    "    user_df = user_df.withColumn('relThumbsDown', F.col('thumbsDown')/F.col('numberOfSongs'))\\\n",
    "                     .withColumn('relThumbsUp', F.col('thumbsUp')/F.col('numberOfSongs'))\n",
    "    \n",
    "    return user_df\n",
    "\n",
    "user_df = rating(df, user_df)"
   ]
  },
  {
   "cell_type": "code",
   "execution_count": 32,
   "metadata": {},
   "outputs": [
    {
     "data": {
      "application/vnd.jupyter.widget-view+json": {
       "model_id": "13f9751d08d24388b225dc9915c863a0",
       "version_major": 2,
       "version_minor": 0
      },
      "text/plain": [
       "VBox()"
      ]
     },
     "metadata": {},
     "output_type": "display_data"
    },
    {
     "data": {
      "application/vnd.jupyter.widget-view+json": {
       "model_id": "",
       "version_major": 2,
       "version_minor": 0
      },
      "text/plain": [
       "FloatProgress(value=0.0, bar_style='info', description='Progress:', layout=Layout(height='25px', width='50%'),…"
      ]
     },
     "metadata": {},
     "output_type": "display_data"
    }
   ],
   "source": [
    "def songs_skipped(df, user_df):\n",
    "    '''\n",
    "    INPUT:\n",
    "    df - log df structure\n",
    "    user_df - spark df with one row per user_id\n",
    "    \n",
    "    OUTPUT\n",
    "    user_df - spark df with added columns 'songsSkipped', 'relSongsskipped'\n",
    "    \n",
    "    This function calculates the total number of songs skipped per userId and adds this column to the user_df. The total number of songs skipped\n",
    "    is defined as interaction when the next song is played at least 5 seconds before the former song ended. \n",
    "    Additionally this function calculates based on the column 'numberOfSongs' present in user_df the relative number of Songs skipped per song per userId.\n",
    "    '''\n",
    "\n",
    "    # filter df for all song listening activities\n",
    "    df_skipped = df.filter(F.col('song').isNull()==False).orderBy(F.col('ts'))\n",
    "\n",
    "    # 1. getting the sessionId of the next activity per user\n",
    "    # 2. if the next sessionId of the user activity equals to the former, getting the ts of the next sessionId\n",
    "    # 3. calculating the difference of the ts of the former and the next activity\n",
    "    # 4. calculating the difference of the duration between the two consecutive activities and the length of the song. if this difference is greater than 5 seconds this song is defined as skipped song. \n",
    "    df_skipped = df_skipped.withColumn('sessionIdNextSong', F.lead(F.col('sessionId'), 1).over(Window.orderBy('userId','ts')))\\\n",
    "                           .withColumn('tsAfterSong', F.when(F.col('sessionIdNextSong')==F.col('sessionId'), F.lead(F.col('ts'), 1).over(Window.orderBy('userId','ts')))\\\n",
    "                                                       .otherwise(F.lit(None)))\\\n",
    "                           .withColumn('durationOfSongListened', F.col('tsAfterSong') - F.col('ts')) \\\n",
    "                           .withColumn('songSkipped', F.when(F.abs(F.col('durationOfSongListened')/1000 - F.col('length')) > 10, 1).otherwise(0))\n",
    "\n",
    "    #calculating the number of skipped songs per userId\n",
    "    df_skipped = df_skipped.filter(F.col('songSkipped')==1).select('userId').groupBy(F.col('userId')).count()\n",
    "    df_skipped = df_skipped.withColumnRenamed('count','songsSkipped')\n",
    "\n",
    "    #adding the number of skipped songs to the user_df\n",
    "    user_df = user_df.join(df_skipped, 'userId', how='left').fillna(value=0, subset=['songsSkipped'])\n",
    "    \n",
    "    #calculating the relative number of skipped songs\n",
    "    user_df = user_df.withColumn('relSongsskipped', F.col('songsSkipped')/F.col('numberOfSongs'))\n",
    "    \n",
    "    return user_df\n",
    "\n",
    "user_df = songs_skipped(df, user_df)"
   ]
  },
  {
   "cell_type": "code",
   "execution_count": 33,
   "metadata": {},
   "outputs": [
    {
     "data": {
      "application/vnd.jupyter.widget-view+json": {
       "model_id": "572f146db757429b85bfd40f7525385f",
       "version_major": 2,
       "version_minor": 0
      },
      "text/plain": [
       "VBox()"
      ]
     },
     "metadata": {},
     "output_type": "display_data"
    },
    {
     "data": {
      "application/vnd.jupyter.widget-view+json": {
       "model_id": "",
       "version_major": 2,
       "version_minor": 0
      },
      "text/plain": [
       "FloatProgress(value=0.0, bar_style='info', description='Progress:', layout=Layout(height='25px', width='50%'),…"
      ]
     },
     "metadata": {},
     "output_type": "display_data"
    }
   ],
   "source": [
    "def errors(df, user_df):\n",
    "    '''\n",
    "    INPUT:\n",
    "    df - log df structure\n",
    "    user_df - spark df with one row per user_id\n",
    "    \n",
    "    OUTPUT\n",
    "    user_df - spark df with added columns 'numberOfErrors', 'relNumberOfErrors'\n",
    "    \n",
    "    This function calculates the total number of errors occured per userId and the total number of activities per userId \n",
    "    and adds these column to the user_df. \n",
    "    Additionally this function calculates the relative number of errors per activity per userId.\n",
    "    '''\n",
    "    # number of errors occured per user added to user_df\n",
    "    \n",
    "    df_err = df.filter(F.col('status')==404).select('userId').groupBy('userId').count()\n",
    "    df_err = df_err.withColumnRenamed('count', 'numberOfErrors')\n",
    "\n",
    "    user_df = user_df.join(df_err, 'userId', how='left').fillna(value=0, subset=['numberOfErrors'])\n",
    "    \n",
    "    \n",
    "    # in order to express the number of errors relatively the total number of interactions per user is added to user_df\n",
    "    # based on number of errors and total number of interactions the relative number of errors is calculated\n",
    "\n",
    "    df_interact = df.select('userId').groupBy('userId').count()\n",
    "    df_interact = df_interact.withColumnRenamed('count','numberOfInteractions')\n",
    "    user_df = user_df.join(df_interact, 'userId', how='left')\n",
    "\n",
    "    user_df = user_df.withColumn('relNumberOfErrors', F.col('numberOfErrors')/F.col('numberOfInteractions'))\n",
    "    \n",
    "    return user_df\n",
    "\n",
    "user_df = errors(df, user_df)"
   ]
  },
  {
   "cell_type": "code",
   "execution_count": 34,
   "metadata": {},
   "outputs": [
    {
     "data": {
      "application/vnd.jupyter.widget-view+json": {
       "model_id": "16570ba9b3b742e0936f9e8f20925e50",
       "version_major": 2,
       "version_minor": 0
      },
      "text/plain": [
       "VBox()"
      ]
     },
     "metadata": {},
     "output_type": "display_data"
    },
    {
     "data": {
      "application/vnd.jupyter.widget-view+json": {
       "model_id": "",
       "version_major": 2,
       "version_minor": 0
      },
      "text/plain": [
       "FloatProgress(value=0.0, bar_style='info', description='Progress:', layout=Layout(height='25px', width='50%'),…"
      ]
     },
     "metadata": {},
     "output_type": "display_data"
    }
   ],
   "source": [
    "def downgrade_attempts(df, user_df):\n",
    "    '''\n",
    "    INPUT:\n",
    "    df - log df structure\n",
    "    user_df - spark df with one row per user_id\n",
    "    \n",
    "    OUTPUT\n",
    "    user_df - spark df with added columns 'churnAttempts'\n",
    "    \n",
    "    This function calculates the total number of 'Cancel' (or 'Downgrade' if paid = True) activities per userId and adds this column to the user_df. \n",
    "    '''\n",
    "    # the number of downgrade attempts  added to user_df\n",
    "\n",
    "    downgrade_indicator=['Downgrade']\n",
    "    \n",
    "    df_churn = df.filter(F.col('page').isin(downgrade_indicator)).select('userId').groupBy('userId').count()\n",
    "    df_churn = df_churn.withColumnRenamed('count', 'downgradeAttempts')\n",
    "\n",
    "    user_df = user_df.join(df_churn, 'userId', how='left').fillna(value=0, subset=['downgradeAttempts'])\n",
    "    \n",
    "    return user_df\n",
    "\n",
    "user_df = downgrade_attempts(df, user_df)"
   ]
  },
  {
   "cell_type": "code",
   "execution_count": 35,
   "metadata": {},
   "outputs": [
    {
     "data": {
      "application/vnd.jupyter.widget-view+json": {
       "model_id": "6e6e453a676f46b7b0ea13c731ed8dae",
       "version_major": 2,
       "version_minor": 0
      },
      "text/plain": [
       "VBox()"
      ]
     },
     "metadata": {},
     "output_type": "display_data"
    },
    {
     "data": {
      "application/vnd.jupyter.widget-view+json": {
       "model_id": "",
       "version_major": 2,
       "version_minor": 0
      },
      "text/plain": [
       "FloatProgress(value=0.0, bar_style='info', description='Progress:', layout=Layout(height='25px', width='50%'),…"
      ]
     },
     "metadata": {},
     "output_type": "display_data"
    }
   ],
   "source": [
    "def mean_songs_per_session(df, user_df):\n",
    "    '''\n",
    "    INPUT:\n",
    "    df - log df structure\n",
    "    user_df - spark df with one row per user_id\n",
    "    \n",
    "    OUTPUT\n",
    "    user_df - spark df with added columns 'numberOfSongsPerSession'\n",
    "    \n",
    "    This function calculates the mean number of songs per sessionId per userId and adds this column to the user_df. \n",
    "    '''\n",
    "    # the number of songs per session in averade added to user_df\n",
    "    \n",
    "    df_mean = df.filter(F.col('song').isNull()==False).groupBy('userId', 'sessionId').count()\n",
    "    df_mean = df_mean.select('userId','count').groupBy('userId').mean()\n",
    "    df_mean = df_mean.withColumnRenamed('avg(count)', 'numberOfSongsPerSession')\n",
    "\n",
    "    user_df = user_df.join(df_mean, 'userId', how='left').fillna(value=0, subset=['numberOfSongsPerSession'])\n",
    "    \n",
    "    return user_df\n",
    "\n",
    "user_df = mean_songs_per_session(df, user_df)"
   ]
  },
  {
   "cell_type": "code",
   "execution_count": 36,
   "metadata": {},
   "outputs": [
    {
     "data": {
      "application/vnd.jupyter.widget-view+json": {
       "model_id": "05c9c01e7b9c48d89b5843e530b07b0a",
       "version_major": 2,
       "version_minor": 0
      },
      "text/plain": [
       "VBox()"
      ]
     },
     "metadata": {},
     "output_type": "display_data"
    },
    {
     "data": {
      "application/vnd.jupyter.widget-view+json": {
       "model_id": "",
       "version_major": 2,
       "version_minor": 0
      },
      "text/plain": [
       "FloatProgress(value=0.0, bar_style='info', description='Progress:', layout=Layout(height='25px', width='50%'),…"
      ]
     },
     "metadata": {},
     "output_type": "display_data"
    }
   ],
   "source": [
    "def added_friends(df, user_df):\n",
    "    '''\n",
    "    INPUT:\n",
    "    df - log df structure\n",
    "    user_df - spark df with one row per user_id\n",
    "    \n",
    "    OUTPUT\n",
    "    user_df - spark df with added columns 'addedFriends'\n",
    "    \n",
    "    This function calculates the 'Add Friend' activities per userId and adds this column to the user_df. \n",
    "    '''\n",
    "    \n",
    "    df_friend = df.filter(F.col('page')=='Add Friend').groupBy('userId').count()\n",
    "    df_friend = df_friend.withColumnRenamed('count', 'addedFriends')\n",
    "\n",
    "    user_df = user_df.join(df_friend, 'userId', how='left').fillna(value=0, subset=['addedFriends'])\n",
    "    \n",
    "    return user_df\n",
    "\n",
    "user_df = added_friends(df, user_df)"
   ]
  },
  {
   "cell_type": "code",
   "execution_count": 37,
   "metadata": {},
   "outputs": [
    {
     "data": {
      "application/vnd.jupyter.widget-view+json": {
       "model_id": "5a2ab016a24d42bcabbc6762cf614d6d",
       "version_major": 2,
       "version_minor": 0
      },
      "text/plain": [
       "VBox()"
      ]
     },
     "metadata": {},
     "output_type": "display_data"
    },
    {
     "data": {
      "application/vnd.jupyter.widget-view+json": {
       "model_id": "",
       "version_major": 2,
       "version_minor": 0
      },
      "text/plain": [
       "FloatProgress(value=0.0, bar_style='info', description='Progress:', layout=Layout(height='25px', width='50%'),…"
      ]
     },
     "metadata": {},
     "output_type": "display_data"
    }
   ],
   "source": [
    "def skew_songs_per_day(df, user_df):\n",
    "    '''\n",
    "    INPUT:\n",
    "    df - log df structure\n",
    "    user_df - spark df with one row per user_id\n",
    "    \n",
    "    OUTPUT\n",
    "    user_df - spark df with added columns 'skew'\n",
    "    \n",
    "    This function calculates the the distribution of song listening activities per userId over time. Based on this distribution the skew of the \n",
    "    distribution is calculated and added to the user_df. \n",
    "    '''\n",
    "    \n",
    "    df_skew = df.filter(F.col('song').isNull()==False).withColumn('date', (F.col('ts')).cast('timestamp')).select('userId','ts')\n",
    "    df_skew = df_skew.groupBy('userId').agg(F.skewness('ts')).withColumnRenamed('skewness(ts)', 'skew')\n",
    "\n",
    "    user_df = user_df.join(df_skew, ['userId'], how='left').fillna(value=0, subset=['skew'])\n",
    "    \n",
    "    return user_df\n",
    "\n",
    "user_df = skew_songs_per_day(df, user_df)"
   ]
  },
  {
   "cell_type": "markdown",
   "metadata": {},
   "source": [
    "### Dataset finalization"
   ]
  },
  {
   "cell_type": "code",
   "execution_count": 38,
   "metadata": {},
   "outputs": [
    {
     "data": {
      "application/vnd.jupyter.widget-view+json": {
       "model_id": "63b8027ea5a34bdcb8f4ae23e94b5592",
       "version_major": 2,
       "version_minor": 0
      },
      "text/plain": [
       "VBox()"
      ]
     },
     "metadata": {},
     "output_type": "display_data"
    },
    {
     "data": {
      "application/vnd.jupyter.widget-view+json": {
       "model_id": "",
       "version_major": 2,
       "version_minor": 0
      },
      "text/plain": [
       "FloatProgress(value=0.0, bar_style='info', description='Progress:', layout=Layout(height='25px', width='50%'),…"
      ]
     },
     "metadata": {},
     "output_type": "display_data"
    }
   ],
   "source": [
    "#due to sparks lazy evaluation, the user_df will be cached\n",
    "user_df = user_df.persist()"
   ]
  },
  {
   "cell_type": "code",
   "execution_count": 39,
   "metadata": {},
   "outputs": [
    {
     "data": {
      "application/vnd.jupyter.widget-view+json": {
       "model_id": "49be3090cfa641c2981bc86c222d89da",
       "version_major": 2,
       "version_minor": 0
      },
      "text/plain": [
       "VBox()"
      ]
     },
     "metadata": {},
     "output_type": "display_data"
    },
    {
     "data": {
      "application/vnd.jupyter.widget-view+json": {
       "model_id": "",
       "version_major": 2,
       "version_minor": 0
      },
      "text/plain": [
       "FloatProgress(value=0.0, bar_style='info', description='Progress:', layout=Layout(height='25px', width='50%'),…"
      ]
     },
     "metadata": {},
     "output_type": "display_data"
    },
    {
     "name": "stdout",
     "output_type": "stream",
     "text": [
      "root\n",
      " |-- userId: string (nullable = true)\n",
      " |-- gender: string (nullable = true)\n",
      " |-- isGenderFemale: integer (nullable = false)\n",
      " |-- label: integer (nullable = true)\n",
      " |-- downgraded: integer (nullable = true)\n",
      " |-- isPaidCustomer: integer (nullable = true)\n",
      " |-- min(ts): long (nullable = true)\n",
      " |-- max(ts): long (nullable = true)\n",
      " |-- membershipDurationDays: double (nullable = false)\n",
      " |-- numberOfSongs: long (nullable = true)\n",
      " |-- numberOfSongsPerDay: double (nullable = true)\n",
      " |-- thumbsDown: long (nullable = true)\n",
      " |-- thumbsUp: long (nullable = true)\n",
      " |-- relThumbsDown: double (nullable = true)\n",
      " |-- relThumbsUp: double (nullable = true)\n",
      " |-- songsSkipped: long (nullable = true)\n",
      " |-- relSongsskipped: double (nullable = true)\n",
      " |-- numberOfErrors: long (nullable = true)\n",
      " |-- numberOfInteractions: long (nullable = true)\n",
      " |-- relNumberOfErrors: double (nullable = true)\n",
      " |-- downgradeAttempts: long (nullable = true)\n",
      " |-- numberOfSongsPerSession: double (nullable = false)\n",
      " |-- addedFriends: long (nullable = true)\n",
      " |-- skew: double (nullable = false)"
     ]
    }
   ],
   "source": [
    "user_df.printSchema()"
   ]
  },
  {
   "cell_type": "code",
   "execution_count": 40,
   "metadata": {},
   "outputs": [
    {
     "data": {
      "application/vnd.jupyter.widget-view+json": {
       "model_id": "8a89122e479c478f847e9fa665f392dc",
       "version_major": 2,
       "version_minor": 0
      },
      "text/plain": [
       "VBox()"
      ]
     },
     "metadata": {},
     "output_type": "display_data"
    },
    {
     "data": {
      "application/vnd.jupyter.widget-view+json": {
       "model_id": "",
       "version_major": 2,
       "version_minor": 0
      },
      "text/plain": [
       "FloatProgress(value=0.0, bar_style='info', description='Progress:', layout=Layout(height='25px', width='50%'),…"
      ]
     },
     "metadata": {},
     "output_type": "display_data"
    }
   ],
   "source": [
    "# Number of null values in any column of the user_df\n",
    "\n",
    "# Reference: https://stackoverflow.com/questions/44627386/how-to-find-count-of-null-and-nan-values-for-each-column-in-a-pyspark-dataframe\n",
    "# Reference: https://stackoverflow.com/questions/31955309/add-column-sum-as-new-column-in-pyspark-dataframe/31955747\n",
    "\n",
    "def numbers_of_null(user_df):\n",
    "    '''\n",
    "    INPUT:\n",
    "    user_df - spark df with one row per user_id\n",
    "    \n",
    "    OUTPUT\n",
    "    None    \n",
    "    \n",
    "    This function prints the number of null values in all columns of the given df\n",
    "    '''\n",
    "\n",
    "    number_of_nulls = user_df.select([F.count(F.when(F.isnan(c), c)).alias(c) for c in user_df.columns])\n",
    "    number_of_nulls = number_of_nulls.withColumn('total_number_of_nulls', sum(number_of_nulls[col] for col in number_of_nulls.columns))\n",
    "    number_of_nulls.select('total_number_of_nulls').show()"
   ]
  },
  {
   "cell_type": "code",
   "execution_count": 41,
   "metadata": {},
   "outputs": [
    {
     "data": {
      "application/vnd.jupyter.widget-view+json": {
       "model_id": "9581631cd62541958726ddb5bcd8ff60",
       "version_major": 2,
       "version_minor": 0
      },
      "text/plain": [
       "VBox()"
      ]
     },
     "metadata": {},
     "output_type": "display_data"
    },
    {
     "data": {
      "application/vnd.jupyter.widget-view+json": {
       "model_id": "",
       "version_major": 2,
       "version_minor": 0
      },
      "text/plain": [
       "FloatProgress(value=0.0, bar_style='info', description='Progress:', layout=Layout(height='25px', width='50%'),…"
      ]
     },
     "metadata": {},
     "output_type": "display_data"
    },
    {
     "name": "stdout",
     "output_type": "stream",
     "text": [
      "+---------------------+\n",
      "|total_number_of_nulls|\n",
      "+---------------------+\n",
      "|                    0|\n",
      "+---------------------+"
     ]
    }
   ],
   "source": [
    "numbers_of_null(user_df)"
   ]
  },
  {
   "cell_type": "markdown",
   "metadata": {},
   "source": [
    "## Section 4: Modeling "
   ]
  },
  {
   "cell_type": "markdown",
   "metadata": {},
   "source": [
    "For the modeling part, the user_df will be transformed that way, that only needed columns will be kept. \n",
    "The df will be split into training and test dataset with a train-test split of 80/20. \n",
    "The df will be vector assembled and scaled using the standard scaler. \n",
    "\n",
    "For the modeling part, a logistic regression and a gradient boost tree model will be trained and compared. The main measure to evaluate will be the recall, as already justified at the beginning of this notebook. "
   ]
  },
  {
   "cell_type": "code",
   "execution_count": 42,
   "metadata": {},
   "outputs": [
    {
     "data": {
      "application/vnd.jupyter.widget-view+json": {
       "model_id": "008973eefecb4f5d9d1b90e949fc5f3c",
       "version_major": 2,
       "version_minor": 0
      },
      "text/plain": [
       "VBox()"
      ]
     },
     "metadata": {},
     "output_type": "display_data"
    },
    {
     "data": {
      "application/vnd.jupyter.widget-view+json": {
       "model_id": "",
       "version_major": 2,
       "version_minor": 0
      },
      "text/plain": [
       "FloatProgress(value=0.0, bar_style='info', description='Progress:', layout=Layout(height='25px', width='50%'),…"
      ]
     },
     "metadata": {},
     "output_type": "display_data"
    }
   ],
   "source": [
    "def train_test_df_creation(user_df, chosen_cols, train_size=.8, seed=42):\n",
    "    '''\n",
    "    INPUT:\n",
    "    user_df - spark df with one row per user_id\n",
    "    chosen_cols - list of columns to be present in the output df\n",
    "    train_size - float between 0 and 1 defining the split of the train df\n",
    "    seed - random seed of the random split\n",
    "    \n",
    "    OUTPUT\n",
    "    train_df - spark df split based on the train_size randomly based on the seed with only chosen_cols present\n",
    "    test_df - spark df split based on the train_size randomly based on the seed with only chosen_cols present\n",
    "\n",
    "    This function \n",
    "    1. selects only the chosen_cols and\n",
    "    2. performs a random split based on train_size and seed\n",
    "    '''\n",
    "    \n",
    "    user_df = user_df.select(chosen_cols)\n",
    "\n",
    "    train_df, test_df = user_df.randomSplit([train_size, 1-train_size], seed=seed)\n",
    "\n",
    "    train_df, test_df = train_df.cache(), test_df.cache()\n",
    "    \n",
    "    return train_df, test_df\n"
   ]
  },
  {
   "cell_type": "code",
   "execution_count": 43,
   "metadata": {},
   "outputs": [
    {
     "data": {
      "application/vnd.jupyter.widget-view+json": {
       "model_id": "ce60116e7ff149389bc640e2e955b8aa",
       "version_major": 2,
       "version_minor": 0
      },
      "text/plain": [
       "VBox()"
      ]
     },
     "metadata": {},
     "output_type": "display_data"
    },
    {
     "data": {
      "application/vnd.jupyter.widget-view+json": {
       "model_id": "",
       "version_major": 2,
       "version_minor": 0
      },
      "text/plain": [
       "FloatProgress(value=0.0, bar_style='info', description='Progress:', layout=Layout(height='25px', width='50%'),…"
      ]
     },
     "metadata": {},
     "output_type": "display_data"
    }
   ],
   "source": [
    "chosen_cols = ['userId','isGenderFemale','label','membershipDurationDays','numberOfSongs','numberOfSongsPerDay','downgradeAttempts',\n",
    "               'relThumbsDown','relThumbsUp','relSongsSkipped','relNumberOfErrors','numberOfSongsPerSession',\n",
    "               'addedFriends','skew', 'downgraded', 'isPaidCustomer']\n",
    "\n",
    "train_df, test_df = train_test_df_creation(user_df, chosen_cols)"
   ]
  },
  {
   "cell_type": "markdown",
   "metadata": {},
   "source": [
    "## Model"
   ]
  },
  {
   "cell_type": "code",
   "execution_count": 44,
   "metadata": {},
   "outputs": [
    {
     "data": {
      "application/vnd.jupyter.widget-view+json": {
       "model_id": "6985d458d59544f1a77cd40d8c0a5055",
       "version_major": 2,
       "version_minor": 0
      },
      "text/plain": [
       "VBox()"
      ]
     },
     "metadata": {},
     "output_type": "display_data"
    },
    {
     "data": {
      "application/vnd.jupyter.widget-view+json": {
       "model_id": "",
       "version_major": 2,
       "version_minor": 0
      },
      "text/plain": [
       "FloatProgress(value=0.0, bar_style='info', description='Progress:', layout=Layout(height='25px', width='50%'),…"
      ]
     },
     "metadata": {},
     "output_type": "display_data"
    }
   ],
   "source": [
    "def instantiate_assembler_scaler(inputCols):\n",
    "    '''\n",
    "    INPUT:\n",
    "    inputCols - list of columns to take into account for ML model\n",
    "    \n",
    "    OUTPUT:\n",
    "    None\n",
    "    \n",
    "    The VectorAssembler and the Standard Scaler will be instantiated.     \n",
    "    '''\n",
    "\n",
    "    assembler = VectorAssembler(inputCols=inputCols, outputCol='featureVec', handleInvalid='skip')\n",
    "    scaler = StandardScaler(inputCol='featureVec', outputCol='featureVecScaled')\n",
    "    \n",
    "    return assembler, scaler"
   ]
  },
  {
   "cell_type": "code",
   "execution_count": 45,
   "metadata": {},
   "outputs": [
    {
     "data": {
      "application/vnd.jupyter.widget-view+json": {
       "model_id": "e3e4c120bcf54568bf3959688c87fa46",
       "version_major": 2,
       "version_minor": 0
      },
      "text/plain": [
       "VBox()"
      ]
     },
     "metadata": {},
     "output_type": "display_data"
    },
    {
     "data": {
      "application/vnd.jupyter.widget-view+json": {
       "model_id": "",
       "version_major": 2,
       "version_minor": 0
      },
      "text/plain": [
       "FloatProgress(value=0.0, bar_style='info', description='Progress:', layout=Layout(height='25px', width='50%'),…"
      ]
     },
     "metadata": {},
     "output_type": "display_data"
    }
   ],
   "source": [
    "def calculate_lr_feature_importance(cv_model_lr, inputCols):\n",
    "    '''\n",
    "    INPUT:\n",
    "    cv_model_lr - CrossValidator Object of a linear regression model\n",
    "    inputCols - list of columns taken into account for model training\n",
    "    \n",
    "    OUTPUT:\n",
    "    feature importance - pandas dataframe of feature importances\n",
    "    \n",
    "    this function extracts the feature importance of the best model of the CV object and returns these into a pandas dataframe\n",
    "    '''\n",
    "    \n",
    "    shape0 = cv_model_lr.bestModel.stages[2].coefficientMatrix.values.shape[0]\n",
    "    \n",
    "    #retrieving lr coefficients (absolute) from cv_mode_lr\n",
    "    coef = cv_model_lr.bestModel.stages[2].coefficientMatrix.values.reshape(1,shape0)\n",
    "\n",
    "    #creation of pandas DF for feature importance\n",
    "    feature_importance = pd.DataFrame(coef, columns=inputCols).melt()\n",
    "    feature_importance['abs_value'] = feature_importance['value'].abs()\n",
    "    feature_importance = feature_importance.sort_values('abs_value', ascending=False)\n",
    "    \n",
    "    return feature_importance[['variable', 'value']]"
   ]
  },
  {
   "cell_type": "code",
   "execution_count": 46,
   "metadata": {},
   "outputs": [
    {
     "data": {
      "application/vnd.jupyter.widget-view+json": {
       "model_id": "2c30c2d9a1b14400a5d6ed1275d6d81a",
       "version_major": 2,
       "version_minor": 0
      },
      "text/plain": [
       "VBox()"
      ]
     },
     "metadata": {},
     "output_type": "display_data"
    },
    {
     "data": {
      "application/vnd.jupyter.widget-view+json": {
       "model_id": "",
       "version_major": 2,
       "version_minor": 0
      },
      "text/plain": [
       "FloatProgress(value=0.0, bar_style='info', description='Progress:', layout=Layout(height='25px', width='50%'),…"
      ]
     },
     "metadata": {},
     "output_type": "display_data"
    }
   ],
   "source": [
    "def do_logistic_regression(train_df, test_df, inputCols):\n",
    "    '''\n",
    "    INPUT:\n",
    "    train_df - spark df with train dataset\n",
    "    test_df - spark df with test dataset\n",
    "    inputCols - list of columns to take into account for ML model\n",
    "    \n",
    "    OUTPUT:\n",
    "    cv_model_lr - trained spark CrossValidator object\n",
    "    \n",
    "    This function trains and tests a logistic regression model, performs a grid search based on regParam, \n",
    "    prints the performance measures of the model and returns the CV object. \n",
    "    '''\n",
    "    \n",
    "    assembler, scaler = instantiate_assembler_scaler(inputCols)\n",
    "\n",
    "    #instantiate logistic regression model\n",
    "    model_lr = LogisticRegression(labelCol='label', featuresCol='featureVecScaled', maxIter=10)\n",
    "\n",
    "    #instantiate evaluators\n",
    "    accuracy_evaluator = MulticlassClassificationEvaluator(metricName=\"accuracy\")\n",
    "    precision_evaluator = MulticlassClassificationEvaluator(metricName=\"weightedPrecision\")\n",
    "    recall_evaluator = MulticlassClassificationEvaluator(metricName=\"weightedRecall\")\n",
    "    f1_evaluator = MulticlassClassificationEvaluator(metricName=\"f1\")\n",
    "\n",
    "    #instantiate pipeline\n",
    "    pipe_lr = Pipeline(stages=[assembler, scaler, model_lr])\n",
    "\n",
    "    #define GridSearch parameters to optimize\n",
    "    paramGrid = ParamGridBuilder() \\\n",
    "                .addGrid(model_lr.regParam, [0.1, 0.01]) \\\n",
    "                .build()\n",
    "\n",
    "    #wrapping pipeline in CrossValidator to perform GridSearch optimization\n",
    "    crossval = CrossValidator(estimator=pipe_lr,\n",
    "                              estimatorParamMaps=paramGrid,\n",
    "                              evaluator=recall_evaluator,\n",
    "                              numFolds=3)\n",
    "\n",
    "    #fitting model\n",
    "    cv_model_lr = crossval.fit(train_df)\n",
    "\n",
    "    #make predictions on test dataset\n",
    "    results_lr = cv_model_lr.transform(test_df)\n",
    "    feature_importance = calculate_lr_feature_importance(cv_model_lr, inputCols)\n",
    "\n",
    "    #calculating performance measures\n",
    "    accuracy = accuracy_evaluator.evaluate(results_lr)\n",
    "    precision = precision_evaluator.evaluate(results_lr)\n",
    "    recall = recall_evaluator.evaluate(results_lr)\n",
    "    f1_score = f1_evaluator.evaluate(results_lr)\n",
    "\n",
    "    #print performance measures\n",
    "    print('LR:\\tAccuracy {:.3f} \\t|\\t Precision {:.3f} \\t|\\t Recall {:.3f} \\t|\\t f1-score {:.3f}'.format(accuracy, precision, recall, f1_score))\n",
    "    \n",
    "    return cv_model_lr, feature_importance"
   ]
  },
  {
   "cell_type": "code",
   "execution_count": 47,
   "metadata": {},
   "outputs": [
    {
     "data": {
      "application/vnd.jupyter.widget-view+json": {
       "model_id": "2df432b048d649a7b9a5734dfe4967f2",
       "version_major": 2,
       "version_minor": 0
      },
      "text/plain": [
       "VBox()"
      ]
     },
     "metadata": {},
     "output_type": "display_data"
    },
    {
     "data": {
      "application/vnd.jupyter.widget-view+json": {
       "model_id": "",
       "version_major": 2,
       "version_minor": 0
      },
      "text/plain": [
       "FloatProgress(value=0.0, bar_style='info', description='Progress:', layout=Layout(height='25px', width='50%'),…"
      ]
     },
     "metadata": {},
     "output_type": "display_data"
    }
   ],
   "source": [
    "def calculate_gbt_feature_importance(cv_model_gbt):\n",
    "    '''\n",
    "    INPUT:\n",
    "    cv_model_lr - CrossValidator Object of a linear regression model\n",
    "    \n",
    "    OUTPUT:\n",
    "    feature importance - pandas dataframe of feature importances\n",
    "    \n",
    "    this function extracts the feature importance of the best model of the CV object and returns these into a pandas dataframe\n",
    "    '''\n",
    "    \n",
    "    va = cv_model_gbt.bestModel.stages[0]\n",
    "    treeCV = cv_model_gbt.bestModel.stages[2]\n",
    "\n",
    "    feature_importance = pd.DataFrame(list(zip(va.getInputCols(), treeCV.featureImportances)), columns=['variable','value']).sort_values('value', ascending=False)\n",
    "        \n",
    "    return feature_importance"
   ]
  },
  {
   "cell_type": "code",
   "execution_count": 48,
   "metadata": {},
   "outputs": [
    {
     "data": {
      "application/vnd.jupyter.widget-view+json": {
       "model_id": "b03f53487c3a4591977b7b3ecb1d17b7",
       "version_major": 2,
       "version_minor": 0
      },
      "text/plain": [
       "VBox()"
      ]
     },
     "metadata": {},
     "output_type": "display_data"
    },
    {
     "data": {
      "application/vnd.jupyter.widget-view+json": {
       "model_id": "",
       "version_major": 2,
       "version_minor": 0
      },
      "text/plain": [
       "FloatProgress(value=0.0, bar_style='info', description='Progress:', layout=Layout(height='25px', width='50%'),…"
      ]
     },
     "metadata": {},
     "output_type": "display_data"
    }
   ],
   "source": [
    "def do_gbt(train_df, test_df, inputCols):\n",
    "    '''\n",
    "    INPUT:\n",
    "    train_df - spark df with train dataset\n",
    "    test_df - spark df with test dataset\n",
    "    assembler - spark assembler object\n",
    "    scaler - spark scaler object\n",
    "    \n",
    "    OUTPUT:\n",
    "    cv_model_gbt - trained spark CrossValidator object\n",
    "    \n",
    "    This function trains and tests a Gradient Boost Tree model, performs a grid search based on maxDepth, \n",
    "    prints the performance measures of the model and returns the CV object. \n",
    "    '''\n",
    "    \n",
    "    assembler, scaler = instantiate_assembler_scaler(inputCols)\n",
    "    \n",
    "    #instantiate Gradient Boost Tree model\n",
    "    model_gbt = GBTClassifier(labelCol='label', featuresCol='featureVecScaled')\n",
    "\n",
    "    #instantiate evaluators\n",
    "    accuracy_evaluator = MulticlassClassificationEvaluator(metricName=\"accuracy\")\n",
    "    precision_evaluator = MulticlassClassificationEvaluator(metricName=\"weightedPrecision\")\n",
    "    recall_evaluator = MulticlassClassificationEvaluator(metricName=\"weightedRecall\")\n",
    "    f1_evaluator = MulticlassClassificationEvaluator(metricName=\"f1\")\n",
    "\n",
    "    #instantiate pipeline\n",
    "    pipe_gbt = Pipeline(stages=[assembler, scaler, model_gbt])\n",
    "\n",
    "    #define GridSearch parameters to optimize\n",
    "    paramGrid = ParamGridBuilder() \\\n",
    "                .addGrid(model_gbt.maxDepth, [10]) \\\n",
    "                .addGrid(model_gbt.stepSize, [.05]) \\\n",
    "                .addGrid(model_gbt.maxIter, [5, 10]) \\\n",
    "                .build()\n",
    "\n",
    "    #wrapping pipeline in CrossValidator to perform GridSearch optimization\n",
    "    crossval = CrossValidator(estimator=pipe_gbt,\n",
    "                              estimatorParamMaps=paramGrid,\n",
    "                              evaluator=recall_evaluator,\n",
    "                              numFolds=3)\n",
    "    \n",
    "    #fitting model\n",
    "    cv_model_gbt = crossval.fit(train_df)\n",
    "    \n",
    "    #make predictions on test dataset\n",
    "    results_gbt = cv_model_gbt.transform(test_df)\n",
    "    feature_importance = calculate_gbt_feature_importance(cv_model_gbt)\n",
    "\n",
    "    #calculating performance measures\n",
    "    accuracy = accuracy_evaluator.evaluate(results_gbt)\n",
    "    precision = precision_evaluator.evaluate(results_gbt)\n",
    "    recall = recall_evaluator.evaluate(results_gbt)\n",
    "    f1_score = f1_evaluator.evaluate(results_gbt)\n",
    "\n",
    "    #print performance measures\n",
    "    print('GBT:\\tAccuracy {:.3f} \\t|\\t Precision {:.3f} \\t|\\t Recall {:.3f} \\t|\\t f1-score {:.3f}'.format(accuracy, precision, recall, f1_score))\n",
    "    \n",
    "    return cv_model_gbt, feature_importance"
   ]
  },
  {
   "cell_type": "markdown",
   "metadata": {},
   "source": [
    "In the next steps, the preprocessed user_df will be trained on a Logistic Regression Model and a Gradient Boost Tree Model.\n",
    "Each function of the models include a Grid Search. For the logistic Regression, the parameter regParam will be evaluated by the model (values = [0.1, 0.01]). The Gradient Boost Tree model will perform the Grid Search through maxIter (values = [5, 10]). \n",
    "The measurement to compare the models will be the Recall metric. The Accuracy, Precision and f1-score will be printed as well to get a better feeling on the models performance. "
   ]
  },
  {
   "cell_type": "code",
   "execution_count": 49,
   "metadata": {},
   "outputs": [
    {
     "data": {
      "application/vnd.jupyter.widget-view+json": {
       "model_id": "1e9eb38af12345a09e15487995166195",
       "version_major": 2,
       "version_minor": 0
      },
      "text/plain": [
       "VBox()"
      ]
     },
     "metadata": {},
     "output_type": "display_data"
    },
    {
     "data": {
      "application/vnd.jupyter.widget-view+json": {
       "model_id": "",
       "version_major": 2,
       "version_minor": 0
      },
      "text/plain": [
       "FloatProgress(value=0.0, bar_style='info', description='Progress:', layout=Layout(height='25px', width='50%'),…"
      ]
     },
     "metadata": {},
     "output_type": "display_data"
    },
    {
     "name": "stdout",
     "output_type": "stream",
     "text": [
      "LR:\tAccuracy 0.835 \t|\t Precision 0.824 \t|\t Recall 0.835 \t|\t f1-score 0.818"
     ]
    }
   ],
   "source": [
    "inputCols =  ['isGenderFemale','membershipDurationDays','numberOfSongs','numberOfSongsPerDay','downgradeAttempts',\n",
    "              'relThumbsDown','relThumbsUp','relSongsSkipped','relNumberOfErrors','numberOfSongsPerSession',\n",
    "              'addedFriends','skew', 'downgraded', 'isPaidCustomer']\n",
    "\n",
    "cv_model_lr, feature_importance_lr = do_logistic_regression(train_df, test_df, inputCols)"
   ]
  },
  {
   "cell_type": "code",
   "execution_count": 50,
   "metadata": {},
   "outputs": [
    {
     "data": {
      "application/vnd.jupyter.widget-view+json": {
       "model_id": "e0f324cf231a45b69e13a3574b16b2fc",
       "version_major": 2,
       "version_minor": 0
      },
      "text/plain": [
       "VBox()"
      ]
     },
     "metadata": {},
     "output_type": "display_data"
    },
    {
     "data": {
      "application/vnd.jupyter.widget-view+json": {
       "model_id": "",
       "version_major": 2,
       "version_minor": 0
      },
      "text/plain": [
       "FloatProgress(value=0.0, bar_style='info', description='Progress:', layout=Layout(height='25px', width='50%'),…"
      ]
     },
     "metadata": {},
     "output_type": "display_data"
    },
    {
     "name": "stdout",
     "output_type": "stream",
     "text": [
      "{Param(parent='LogisticRegression_cf67a4e4c302', name='aggregationDepth', doc='suggested depth for treeAggregate (>= 2)'): 2, Param(parent='LogisticRegression_cf67a4e4c302', name='elasticNetParam', doc='the ElasticNet mixing parameter, in range [0, 1]. For alpha = 0, the penalty is an L2 penalty. For alpha = 1, it is an L1 penalty'): 0.0, Param(parent='LogisticRegression_cf67a4e4c302', name='family', doc='The name of family which is a description of the label distribution to be used in the model. Supported options: auto, binomial, multinomial.'): 'auto', Param(parent='LogisticRegression_cf67a4e4c302', name='featuresCol', doc='features column name'): 'featureVecScaled', Param(parent='LogisticRegression_cf67a4e4c302', name='fitIntercept', doc='whether to fit an intercept term'): True, Param(parent='LogisticRegression_cf67a4e4c302', name='labelCol', doc='label column name'): 'label', Param(parent='LogisticRegression_cf67a4e4c302', name='maxIter', doc='maximum number of iterations (>= 0)'): 10, Param(parent='LogisticRegression_cf67a4e4c302', name='predictionCol', doc='prediction column name'): 'prediction', Param(parent='LogisticRegression_cf67a4e4c302', name='probabilityCol', doc='Column name for predicted class conditional probabilities. Note: Not all models output well-calibrated probability estimates! These probabilities should be treated as confidences, not precise probabilities'): 'probability', Param(parent='LogisticRegression_cf67a4e4c302', name='rawPredictionCol', doc='raw prediction (a.k.a. confidence) column name'): 'rawPrediction', Param(parent='LogisticRegression_cf67a4e4c302', name='regParam', doc='regularization parameter (>= 0)'): 0.01, Param(parent='LogisticRegression_cf67a4e4c302', name='standardization', doc='whether to standardize the training features before fitting the model'): True, Param(parent='LogisticRegression_cf67a4e4c302', name='threshold', doc='threshold in binary classification prediction, in range [0, 1]'): 0.5, Param(parent='LogisticRegression_cf67a4e4c302', name='tol', doc='the convergence tolerance for iterative algorithms (>= 0)'): 1e-06}"
     ]
    }
   ],
   "source": [
    "#reference: https://stackoverflow.com/questions/46110563/pyspark-getting-the-best-models-parameters-after-a-gridsearch-is-blank/55024007\n",
    "cv_model_lr.bestModel.stages[-1].extractParamMap()"
   ]
  },
  {
   "cell_type": "code",
   "execution_count": 51,
   "metadata": {},
   "outputs": [
    {
     "data": {
      "application/vnd.jupyter.widget-view+json": {
       "model_id": "5ae6b5cb7f0543ef956e63910121c9df",
       "version_major": 2,
       "version_minor": 0
      },
      "text/plain": [
       "VBox()"
      ]
     },
     "metadata": {},
     "output_type": "display_data"
    },
    {
     "data": {
      "application/vnd.jupyter.widget-view+json": {
       "model_id": "",
       "version_major": 2,
       "version_minor": 0
      },
      "text/plain": [
       "FloatProgress(value=0.0, bar_style='info', description='Progress:', layout=Layout(height='25px', width='50%'),…"
      ]
     },
     "metadata": {},
     "output_type": "display_data"
    },
    {
     "name": "stderr",
     "output_type": "stream",
     "text": [
      "Exception in thread cell_monitor-51:\n",
      "Traceback (most recent call last):\n",
      "  File \"/opt/conda/lib/python3.7/threading.py\", line 926, in _bootstrap_inner\n",
      "    self.run()\n",
      "  File \"/opt/conda/lib/python3.7/threading.py\", line 870, in run\n",
      "    self._target(*self._args, **self._kwargs)\n",
      "  File \"/opt/conda/lib/python3.7/site-packages/awseditorssparkmonitoringwidget-1.0-py3.7.egg/awseditorssparkmonitoringwidget/cellmonitor.py\", line 178, in cell_monitor\n",
      "    job_binned_stages[job_id][stage_id] = all_stages[stage_id]\n",
      "KeyError: 5598\n",
      "\n",
      "Exception in thread cell_monitor-49:\n",
      "Traceback (most recent call last):\n",
      "  File \"/opt/conda/lib/python3.7/threading.py\", line 926, in _bootstrap_inner\n",
      "    self.run()\n",
      "  File \"/opt/conda/lib/python3.7/threading.py\", line 870, in run\n",
      "    self._target(*self._args, **self._kwargs)\n",
      "  File \"/opt/conda/lib/python3.7/site-packages/awseditorssparkmonitoringwidget-1.0-py3.7.egg/awseditorssparkmonitoringwidget/cellmonitor.py\", line 178, in cell_monitor\n",
      "    job_binned_stages[job_id][stage_id] = all_stages[stage_id]\n",
      "KeyError: 3152\n",
      "\n"
     ]
    },
    {
     "name": "stdout",
     "output_type": "stream",
     "text": [
      "GBT:\tAccuracy 0.875 \t|\t Precision 0.870 \t|\t Recall 0.875 \t|\t f1-score 0.870"
     ]
    }
   ],
   "source": [
    "cv_model_gbt, feature_importance_gbt = do_gbt(train_df, test_df, inputCols)"
   ]
  },
  {
   "cell_type": "markdown",
   "metadata": {},
   "source": [
    "The KeyError exception seems to be a Hadoop Bug I was not able to avoid. Researching about this issue did not result in any solution to avoid this exception. "
   ]
  },
  {
   "cell_type": "code",
   "execution_count": 52,
   "metadata": {},
   "outputs": [
    {
     "data": {
      "application/vnd.jupyter.widget-view+json": {
       "model_id": "cfe66cd18d854376a52c36791a1f21e1",
       "version_major": 2,
       "version_minor": 0
      },
      "text/plain": [
       "VBox()"
      ]
     },
     "metadata": {},
     "output_type": "display_data"
    },
    {
     "data": {
      "application/vnd.jupyter.widget-view+json": {
       "model_id": "",
       "version_major": 2,
       "version_minor": 0
      },
      "text/plain": [
       "FloatProgress(value=0.0, bar_style='info', description='Progress:', layout=Layout(height='25px', width='50%'),…"
      ]
     },
     "metadata": {},
     "output_type": "display_data"
    },
    {
     "name": "stdout",
     "output_type": "stream",
     "text": [
      "{Param(parent='GBTClassifier_7548a382a157', name='cacheNodeIds', doc='If false, the algorithm will pass trees to executors to match instances with nodes. If true, the algorithm will cache node IDs for each instance. Caching can speed up training of deeper trees.'): False, Param(parent='GBTClassifier_7548a382a157', name='checkpointInterval', doc='set checkpoint interval (>= 1) or disable checkpoint (-1). E.g. 10 means that the cache will get checkpointed every 10 iterations. Note: this setting will be ignored if the checkpoint directory is not set in the SparkContext'): 10, Param(parent='GBTClassifier_7548a382a157', name='featureSubsetStrategy', doc='The number of features to consider for splits at each tree node. Supported options: auto, all, onethird, sqrt, log2, (0.0-1.0], [1-n].'): 'all', Param(parent='GBTClassifier_7548a382a157', name='featuresCol', doc='features column name'): 'featureVecScaled', Param(parent='GBTClassifier_7548a382a157', name='labelCol', doc='label column name'): 'label', Param(parent='GBTClassifier_7548a382a157', name='lossType', doc='Loss function which GBT tries to minimize (case-insensitive). Supported options: logistic'): 'logistic', Param(parent='GBTClassifier_7548a382a157', name='maxBins', doc='Max number of bins for discretizing continuous features.  Must be >=2 and >= number of categories for any categorical feature.'): 32, Param(parent='GBTClassifier_7548a382a157', name='maxDepth', doc='Maximum depth of the tree. (>= 0) E.g., depth 0 means 1 leaf node; depth 1 means 1 internal node + 2 leaf nodes.'): 10, Param(parent='GBTClassifier_7548a382a157', name='maxIter', doc='maximum number of iterations (>= 0)'): 10, Param(parent='GBTClassifier_7548a382a157', name='maxMemoryInMB', doc='Maximum memory in MB allocated to histogram aggregation.'): 256, Param(parent='GBTClassifier_7548a382a157', name='minInfoGain', doc='Minimum information gain for a split to be considered at a tree node.'): 0.0, Param(parent='GBTClassifier_7548a382a157', name='minInstancesPerNode', doc='Minimum number of instances each child must have after split.  If a split causes the left or right child to have fewer than minInstancesPerNode, the split will be discarded as invalid. Should be >= 1.'): 1, Param(parent='GBTClassifier_7548a382a157', name='predictionCol', doc='prediction column name'): 'prediction', Param(parent='GBTClassifier_7548a382a157', name='seed', doc='random seed'): 3504127614838123891, Param(parent='GBTClassifier_7548a382a157', name='stepSize', doc='Step size (a.k.a. learning rate) in interval (0, 1] for shrinking the contribution of each estimator.'): 0.05, Param(parent='GBTClassifier_7548a382a157', name='subsamplingRate', doc='Fraction of the training data used for learning each decision tree, in range (0, 1].'): 1.0}"
     ]
    }
   ],
   "source": [
    "#reference: https://stackoverflow.com/questions/46110563/pyspark-getting-the-best-models-parameters-after-a-gridsearch-is-blank/55024007\n",
    "cv_model_gbt.bestModel.stages[-1].extractParamMap()"
   ]
  },
  {
   "cell_type": "markdown",
   "metadata": {},
   "source": [
    "For this dataset, the gradient boost tree model outperformed the logistic regression model. <br>\n",
    "The Grid Search resulted in a maximum number of iterations of 10 instead of 5. The higher the number of iterations, the higher the accuracy on the train dataset. But this comes with the risk of overfitting and decreasing the accuracy on the test dataset. In this case, the increase of the number of iterations increased the accuracy on the test dataset, therefore doubt any overfitting risk - especially as the score of 88% on test dataset is pretty good. \n",
    "\n",
    "The model reached the target set at the beginning of the notebook of Recall Score greater than 80%. Our model reached a <b>Recall Score of 88%</b>. "
   ]
  },
  {
   "cell_type": "markdown",
   "metadata": {},
   "source": [
    "## Section 5: Evaluation"
   ]
  },
  {
   "cell_type": "markdown",
   "metadata": {},
   "source": [
    "In this section, I dig a bit deeper what are the main drivers for churn prediction and how do these measures distribute across churned and not churned customers"
   ]
  },
  {
   "cell_type": "code",
   "execution_count": 53,
   "metadata": {},
   "outputs": [
    {
     "data": {
      "application/vnd.jupyter.widget-view+json": {
       "model_id": "f2bc10cbdf0f433a894611f7c56c2c1f",
       "version_major": 2,
       "version_minor": 0
      },
      "text/plain": [
       "VBox()"
      ]
     },
     "metadata": {},
     "output_type": "display_data"
    },
    {
     "data": {
      "application/vnd.jupyter.widget-view+json": {
       "model_id": "",
       "version_major": 2,
       "version_minor": 0
      },
      "text/plain": [
       "FloatProgress(value=0.0, bar_style='info', description='Progress:', layout=Layout(height='25px', width='50%'),…"
      ]
     },
     "metadata": {},
     "output_type": "display_data"
    }
   ],
   "source": [
    "def boxplot(y, data, x='label'):\n",
    "    '''\n",
    "    INPUT\n",
    "    y - measure to analyze via boxplot\n",
    "    x - dimension to split the boxplots\n",
    "    data - dataset to take into account for boxplot\n",
    "    \n",
    "    OUTPUT\n",
    "    a boxplot chart will be plotted\n",
    "    '''\n",
    "    plt.clf()\n",
    "    sns.boxplot(x=x, y=y, data=data.toPandas())"
   ]
  },
  {
   "cell_type": "code",
   "execution_count": 54,
   "metadata": {},
   "outputs": [
    {
     "data": {
      "application/vnd.jupyter.widget-view+json": {
       "model_id": "4a3faff9c34c4a538071d9ffd6c55c94",
       "version_major": 2,
       "version_minor": 0
      },
      "text/plain": [
       "VBox()"
      ]
     },
     "metadata": {},
     "output_type": "display_data"
    },
    {
     "data": {
      "application/vnd.jupyter.widget-view+json": {
       "model_id": "",
       "version_major": 2,
       "version_minor": 0
      },
      "text/plain": [
       "FloatProgress(value=0.0, bar_style='info', description='Progress:', layout=Layout(height='25px', width='50%'),…"
      ]
     },
     "metadata": {},
     "output_type": "display_data"
    },
    {
     "data": {
      "image/png": "[encoded data removed]",
      "text/plain": [
       "<IPython.core.display.Image object>"
      ]
     },
     "metadata": {},
     "output_type": "display_data"
    }
   ],
   "source": [
    "plt.clf()\n",
    "sns.countplot(x='label', data=user_df.toPandas())\n",
    "%matplot plt"
   ]
  },
  {
   "cell_type": "code",
   "execution_count": 55,
   "metadata": {},
   "outputs": [
    {
     "data": {
      "application/vnd.jupyter.widget-view+json": {
       "model_id": "2539aaf63a8941abb8c7f5f32b994d74",
       "version_major": 2,
       "version_minor": 0
      },
      "text/plain": [
       "VBox()"
      ]
     },
     "metadata": {},
     "output_type": "display_data"
    },
    {
     "data": {
      "application/vnd.jupyter.widget-view+json": {
       "model_id": "",
       "version_major": 2,
       "version_minor": 0
      },
      "text/plain": [
       "FloatProgress(value=0.0, bar_style='info', description='Progress:', layout=Layout(height='25px', width='50%'),…"
      ]
     },
     "metadata": {},
     "output_type": "display_data"
    },
    {
     "name": "stdout",
     "output_type": "stream",
     "text": [
      "+-----+-----+\n",
      "|label|count|\n",
      "+-----+-----+\n",
      "|    1| 5003|\n",
      "|    0|17274|\n",
      "+-----+-----+"
     ]
    }
   ],
   "source": [
    "user_df.groupBy(F.col('label')).count().show()"
   ]
  },
  {
   "cell_type": "code",
   "execution_count": 56,
   "metadata": {},
   "outputs": [
    {
     "data": {
      "application/vnd.jupyter.widget-view+json": {
       "model_id": "9cc0c6e593ea49d0b1e9dcd5f4d5ef56",
       "version_major": 2,
       "version_minor": 0
      },
      "text/plain": [
       "VBox()"
      ]
     },
     "metadata": {},
     "output_type": "display_data"
    },
    {
     "name": "stderr",
     "output_type": "stream",
     "text": [
      "Exception in thread cell_monitor-55:\n",
      "Traceback (most recent call last):\n",
      "  File \"/opt/conda/lib/python3.7/threading.py\", line 926, in _bootstrap_inner\n",
      "    self.run()\n",
      "  File \"/opt/conda/lib/python3.7/threading.py\", line 870, in run\n",
      "    self._target(*self._args, **self._kwargs)\n",
      "  File \"/opt/conda/lib/python3.7/site-packages/awseditorssparkmonitoringwidget-1.0-py3.7.egg/awseditorssparkmonitoringwidget/cellmonitor.py\", line 178, in cell_monitor\n",
      "    job_binned_stages[job_id][stage_id] = all_stages[stage_id]\n",
      "KeyError: 18984\n",
      "\n"
     ]
    },
    {
     "data": {
      "application/vnd.jupyter.widget-view+json": {
       "model_id": "",
       "version_major": 2,
       "version_minor": 0
      },
      "text/plain": [
       "FloatProgress(value=0.0, bar_style='info', description='Progress:', layout=Layout(height='25px', width='50%'),…"
      ]
     },
     "metadata": {},
     "output_type": "display_data"
    },
    {
     "name": "stdout",
     "output_type": "stream",
     "text": [
      "1      membershipDurationDays\n",
      "3         numberOfSongsPerDay\n",
      "9     numberOfSongsPerSession\n",
      "11                       skew\n",
      "6                 relThumbsUp\n",
      "2               numberOfSongs\n",
      "5               relThumbsDown\n",
      "4           downgradeAttempts\n",
      "10               addedFriends\n",
      "7             relSongsSkipped\n",
      "8           relNumberOfErrors\n",
      "0              isGenderFemale\n",
      "13             isPaidCustomer\n",
      "12                 downgraded\n",
      "Name: variable, dtype: object"
     ]
    }
   ],
   "source": [
    "feature_importance_gbt.head(15)['variable']"
   ]
  },
  {
   "cell_type": "code",
   "execution_count": 57,
   "metadata": {},
   "outputs": [
    {
     "data": {
      "application/vnd.jupyter.widget-view+json": {
       "model_id": "f4acdea6753049b0bc42580538655589",
       "version_major": 2,
       "version_minor": 0
      },
      "text/plain": [
       "VBox()"
      ]
     },
     "metadata": {},
     "output_type": "display_data"
    },
    {
     "data": {
      "application/vnd.jupyter.widget-view+json": {
       "model_id": "",
       "version_major": 2,
       "version_minor": 0
      },
      "text/plain": [
       "FloatProgress(value=0.0, bar_style='info', description='Progress:', layout=Layout(height='25px', width='50%'),…"
      ]
     },
     "metadata": {},
     "output_type": "display_data"
    },
    {
     "data": {
      "image/png": "[encoded data removed]",
      "text/plain": [
       "<IPython.core.display.Image object>"
      ]
     },
     "metadata": {},
     "output_type": "display_data"
    }
   ],
   "source": [
    "plt.clf()\n",
    "sns.barplot(x='value', y='variable', data=feature_importance_gbt)\n",
    "plt.tight_layout()\n",
    "%matplot plt"
   ]
  },
  {
   "cell_type": "code",
   "execution_count": 58,
   "metadata": {},
   "outputs": [
    {
     "data": {
      "application/vnd.jupyter.widget-view+json": {
       "model_id": "cd3af4f7833c41ae9a0179d2e10dfec9",
       "version_major": 2,
       "version_minor": 0
      },
      "text/plain": [
       "VBox()"
      ]
     },
     "metadata": {},
     "output_type": "display_data"
    },
    {
     "data": {
      "application/vnd.jupyter.widget-view+json": {
       "model_id": "",
       "version_major": 2,
       "version_minor": 0
      },
      "text/plain": [
       "FloatProgress(value=0.0, bar_style='info', description='Progress:', layout=Layout(height='25px', width='50%'),…"
      ]
     },
     "metadata": {},
     "output_type": "display_data"
    },
    {
     "data": {
      "image/png": "[encoded data removed]",
      "text/plain": [
       "<IPython.core.display.Image object>"
      ]
     },
     "metadata": {},
     "output_type": "display_data"
    }
   ],
   "source": [
    "boxplot('membershipDurationDays', user_df)\n",
    "%matplot plt"
   ]
  },
  {
   "cell_type": "markdown",
   "metadata": {},
   "source": [
    "The boxplot shows a significant difference in the KPI for membershipDurationDays for churned and not churned customers. "
   ]
  },
  {
   "cell_type": "code",
   "execution_count": 60,
   "metadata": {},
   "outputs": [
    {
     "data": {
      "application/vnd.jupyter.widget-view+json": {
       "model_id": "ded7956a357f483ab954ab7445bda294",
       "version_major": 2,
       "version_minor": 0
      },
      "text/plain": [
       "VBox()"
      ]
     },
     "metadata": {},
     "output_type": "display_data"
    },
    {
     "data": {
      "application/vnd.jupyter.widget-view+json": {
       "model_id": "",
       "version_major": 2,
       "version_minor": 0
      },
      "text/plain": [
       "FloatProgress(value=0.0, bar_style='info', description='Progress:', layout=Layout(height='25px', width='50%'),…"
      ]
     },
     "metadata": {},
     "output_type": "display_data"
    },
    {
     "data": {
      "image/png": "[encoded data removed]",
      "text/plain": [
       "<IPython.core.display.Image object>"
      ]
     },
     "metadata": {},
     "output_type": "display_data"
    }
   ],
   "source": [
    "boxplot('numberOfSongsPerSession', user_df)\n",
    "%matplot plt"
   ]
  },
  {
   "cell_type": "markdown",
   "metadata": {},
   "source": [
    "The boxplot shows a slight, hardly recognizable difference in the KPI for numberOfSongsPerSession for churned and not churned customers. "
   ]
  },
  {
   "cell_type": "code",
   "execution_count": 61,
   "metadata": {},
   "outputs": [
    {
     "data": {
      "application/vnd.jupyter.widget-view+json": {
       "model_id": "d111931283cf4309a608d0a90a144336",
       "version_major": 2,
       "version_minor": 0
      },
      "text/plain": [
       "VBox()"
      ]
     },
     "metadata": {},
     "output_type": "display_data"
    },
    {
     "name": "stderr",
     "output_type": "stream",
     "text": [
      "Exception in thread cell_monitor-59:\n",
      "Traceback (most recent call last):\n",
      "  File \"/opt/conda/lib/python3.7/threading.py\", line 926, in _bootstrap_inner\n",
      "    self.run()\n",
      "  File \"/opt/conda/lib/python3.7/threading.py\", line 870, in run\n",
      "    self._target(*self._args, **self._kwargs)\n",
      "  File \"/opt/conda/lib/python3.7/site-packages/awseditorssparkmonitoringwidget-1.0-py3.7.egg/awseditorssparkmonitoringwidget/cellmonitor.py\", line 178, in cell_monitor\n",
      "    job_binned_stages[job_id][stage_id] = all_stages[stage_id]\n",
      "KeyError: 19092\n",
      "\n"
     ]
    },
    {
     "data": {
      "application/vnd.jupyter.widget-view+json": {
       "model_id": "",
       "version_major": 2,
       "version_minor": 0
      },
      "text/plain": [
       "FloatProgress(value=0.0, bar_style='info', description='Progress:', layout=Layout(height='25px', width='50%'),…"
      ]
     },
     "metadata": {},
     "output_type": "display_data"
    },
    {
     "data": {
      "image/png": "[encoded data removed]",
      "text/plain": [
       "<IPython.core.display.Image object>"
      ]
     },
     "metadata": {},
     "output_type": "display_data"
    }
   ],
   "source": [
    "boxplot('skew', user_df)\n",
    "%matplot plt"
   ]
  },
  {
   "cell_type": "markdown",
   "metadata": {},
   "source": [
    "The boxplot shows a slight, hardly recognizable difference in the KPI for skew for churned and not churned customers. "
   ]
  },
  {
   "cell_type": "code",
   "execution_count": 62,
   "metadata": {},
   "outputs": [
    {
     "data": {
      "application/vnd.jupyter.widget-view+json": {
       "model_id": "1dc5a7ba21564329b97c77e49f7b3aee",
       "version_major": 2,
       "version_minor": 0
      },
      "text/plain": [
       "VBox()"
      ]
     },
     "metadata": {},
     "output_type": "display_data"
    },
    {
     "data": {
      "application/vnd.jupyter.widget-view+json": {
       "model_id": "",
       "version_major": 2,
       "version_minor": 0
      },
      "text/plain": [
       "FloatProgress(value=0.0, bar_style='info', description='Progress:', layout=Layout(height='25px', width='50%'),…"
      ]
     },
     "metadata": {},
     "output_type": "display_data"
    },
    {
     "data": {
      "image/png": "[encoded data removed]",
      "text/plain": [
       "<IPython.core.display.Image object>"
      ]
     },
     "metadata": {},
     "output_type": "display_data"
    }
   ],
   "source": [
    "boxplot('relThumbsUp', user_df)\n",
    "%matplot plt"
   ]
  },
  {
   "cell_type": "markdown",
   "metadata": {},
   "source": [
    "The boxplot shows a slight, hardly recognizable difference in the KPI for relThumbsUp for churned and not churned customers. "
   ]
  },
  {
   "cell_type": "code",
   "execution_count": 63,
   "metadata": {},
   "outputs": [
    {
     "data": {
      "application/vnd.jupyter.widget-view+json": {
       "model_id": "102732a7338942beb7fdb2f54df165d9",
       "version_major": 2,
       "version_minor": 0
      },
      "text/plain": [
       "VBox()"
      ]
     },
     "metadata": {},
     "output_type": "display_data"
    },
    {
     "data": {
      "application/vnd.jupyter.widget-view+json": {
       "model_id": "",
       "version_major": 2,
       "version_minor": 0
      },
      "text/plain": [
       "FloatProgress(value=0.0, bar_style='info', description='Progress:', layout=Layout(height='25px', width='50%'),…"
      ]
     },
     "metadata": {},
     "output_type": "display_data"
    },
    {
     "data": {
      "image/png": "[encoded data removed]",
      "text/plain": [
       "<IPython.core.display.Image object>"
      ]
     },
     "metadata": {},
     "output_type": "display_data"
    }
   ],
   "source": [
    "boxplot('numberOfSongs', user_df)\n",
    "%matplot plt"
   ]
  },
  {
   "cell_type": "markdown",
   "metadata": {},
   "source": [
    "The boxplot shows a slight, hardly recognizable difference in the KPI for numberOfSongs for churned and not churned customers. "
   ]
  },
  {
   "cell_type": "code",
   "execution_count": 64,
   "metadata": {},
   "outputs": [
    {
     "data": {
      "application/vnd.jupyter.widget-view+json": {
       "model_id": "922806ffd96c416188e13e1e07540627",
       "version_major": 2,
       "version_minor": 0
      },
      "text/plain": [
       "VBox()"
      ]
     },
     "metadata": {},
     "output_type": "display_data"
    },
    {
     "data": {
      "application/vnd.jupyter.widget-view+json": {
       "model_id": "",
       "version_major": 2,
       "version_minor": 0
      },
      "text/plain": [
       "FloatProgress(value=0.0, bar_style='info', description='Progress:', layout=Layout(height='25px', width='50%'),…"
      ]
     },
     "metadata": {},
     "output_type": "display_data"
    },
    {
     "data": {
      "image/png": "[encoded data removed]",
      "text/plain": [
       "<IPython.core.display.Image object>"
      ]
     },
     "metadata": {},
     "output_type": "display_data"
    }
   ],
   "source": [
    "boxplot('relThumbsDown', user_df)\n",
    "%matplot plt"
   ]
  },
  {
   "cell_type": "markdown",
   "metadata": {},
   "source": [
    "The boxplot shows a slight, hardly recognizable difference in the KPI for relThumbsDown for churned and not churned customers. "
   ]
  },
  {
   "cell_type": "code",
   "execution_count": 65,
   "metadata": {},
   "outputs": [
    {
     "data": {
      "application/vnd.jupyter.widget-view+json": {
       "model_id": "c6765d662de14c48b6f8d824f498a41e",
       "version_major": 2,
       "version_minor": 0
      },
      "text/plain": [
       "VBox()"
      ]
     },
     "metadata": {},
     "output_type": "display_data"
    },
    {
     "data": {
      "application/vnd.jupyter.widget-view+json": {
       "model_id": "",
       "version_major": 2,
       "version_minor": 0
      },
      "text/plain": [
       "FloatProgress(value=0.0, bar_style='info', description='Progress:', layout=Layout(height='25px', width='50%'),…"
      ]
     },
     "metadata": {},
     "output_type": "display_data"
    },
    {
     "data": {
      "image/png": "[encoded data removed]",
      "text/plain": [
       "<IPython.core.display.Image object>"
      ]
     },
     "metadata": {},
     "output_type": "display_data"
    }
   ],
   "source": [
    "boxplot('downgradeAttempts', user_df)\n",
    "%matplot plt"
   ]
  },
  {
   "cell_type": "markdown",
   "metadata": {},
   "source": [
    "The boxplot shows a slight, hardly recognizable difference in the KPI for downgradeAttempts for churned and not churned customers. "
   ]
  },
  {
   "cell_type": "code",
   "execution_count": 66,
   "metadata": {},
   "outputs": [
    {
     "name": "stderr",
     "output_type": "stream",
     "text": [
      "Exception in thread cell_monitor-64:\n",
      "Traceback (most recent call last):\n",
      "  File \"/opt/conda/lib/python3.7/threading.py\", line 926, in _bootstrap_inner\n",
      "    self.run()\n",
      "  File \"/opt/conda/lib/python3.7/threading.py\", line 870, in run\n",
      "    self._target(*self._args, **self._kwargs)\n",
      "  File \"/opt/conda/lib/python3.7/site-packages/awseditorssparkmonitoringwidget-1.0-py3.7.egg/awseditorssparkmonitoringwidget/cellmonitor.py\", line 178, in cell_monitor\n",
      "    job_binned_stages[job_id][stage_id] = all_stages[stage_id]\n",
      "KeyError: 19194\n",
      "\n"
     ]
    },
    {
     "data": {
      "application/vnd.jupyter.widget-view+json": {
       "model_id": "2e5d1a6867c14597aef8effcc1234a9f",
       "version_major": 2,
       "version_minor": 0
      },
      "text/plain": [
       "VBox()"
      ]
     },
     "metadata": {},
     "output_type": "display_data"
    },
    {
     "data": {
      "application/vnd.jupyter.widget-view+json": {
       "model_id": "",
       "version_major": 2,
       "version_minor": 0
      },
      "text/plain": [
       "FloatProgress(value=0.0, bar_style='info', description='Progress:', layout=Layout(height='25px', width='50%'),…"
      ]
     },
     "metadata": {},
     "output_type": "display_data"
    },
    {
     "data": {
      "image/png": "[encoded data removed]",
      "text/plain": [
       "<IPython.core.display.Image object>"
      ]
     },
     "metadata": {},
     "output_type": "display_data"
    }
   ],
   "source": [
    "boxplot('addedFriends', user_df)\n",
    "%matplot plt"
   ]
  },
  {
   "cell_type": "markdown",
   "metadata": {},
   "source": [
    "The boxplot shows a slight, hardly recognizable difference in the KPI for addedFriends for churned and not churned customers. "
   ]
  },
  {
   "cell_type": "code",
   "execution_count": 67,
   "metadata": {},
   "outputs": [
    {
     "data": {
      "application/vnd.jupyter.widget-view+json": {
       "model_id": "b48d2b0fa8e342aea678d61a32856025",
       "version_major": 2,
       "version_minor": 0
      },
      "text/plain": [
       "VBox()"
      ]
     },
     "metadata": {},
     "output_type": "display_data"
    },
    {
     "data": {
      "application/vnd.jupyter.widget-view+json": {
       "model_id": "",
       "version_major": 2,
       "version_minor": 0
      },
      "text/plain": [
       "FloatProgress(value=0.0, bar_style='info', description='Progress:', layout=Layout(height='25px', width='50%'),…"
      ]
     },
     "metadata": {},
     "output_type": "display_data"
    },
    {
     "data": {
      "image/png": "[encoded data removed]",
      "text/plain": [
       "<IPython.core.display.Image object>"
      ]
     },
     "metadata": {},
     "output_type": "display_data"
    }
   ],
   "source": [
    "boxplot('relSongsskipped', user_df)\n",
    "%matplot plt"
   ]
  },
  {
   "cell_type": "markdown",
   "metadata": {},
   "source": [
    "The boxplot shows a slight, hardly recognizable difference in the KPI for relSongsskipped for churned and not churned customers. "
   ]
  },
  {
   "cell_type": "code",
   "execution_count": 68,
   "metadata": {},
   "outputs": [
    {
     "data": {
      "application/vnd.jupyter.widget-view+json": {
       "model_id": "cae818652b294bcf9f8519836983edc3",
       "version_major": 2,
       "version_minor": 0
      },
      "text/plain": [
       "VBox()"
      ]
     },
     "metadata": {},
     "output_type": "display_data"
    },
    {
     "data": {
      "application/vnd.jupyter.widget-view+json": {
       "model_id": "",
       "version_major": 2,
       "version_minor": 0
      },
      "text/plain": [
       "FloatProgress(value=0.0, bar_style='info', description='Progress:', layout=Layout(height='25px', width='50%'),…"
      ]
     },
     "metadata": {},
     "output_type": "display_data"
    },
    {
     "data": {
      "image/png": "[encoded data removed]",
      "text/plain": [
       "<IPython.core.display.Image object>"
      ]
     },
     "metadata": {},
     "output_type": "display_data"
    }
   ],
   "source": [
    "boxplot('relNumberOfErrors', user_df)\n",
    "%matplot plt"
   ]
  },
  {
   "cell_type": "markdown",
   "metadata": {},
   "source": [
    "No difference is recognizable. "
   ]
  },
  {
   "cell_type": "code",
   "execution_count": 69,
   "metadata": {},
   "outputs": [
    {
     "data": {
      "application/vnd.jupyter.widget-view+json": {
       "model_id": "22e9fd5993b04ece92a14bb21ed32fb5",
       "version_major": 2,
       "version_minor": 0
      },
      "text/plain": [
       "VBox()"
      ]
     },
     "metadata": {},
     "output_type": "display_data"
    },
    {
     "data": {
      "application/vnd.jupyter.widget-view+json": {
       "model_id": "",
       "version_major": 2,
       "version_minor": 0
      },
      "text/plain": [
       "FloatProgress(value=0.0, bar_style='info', description='Progress:', layout=Layout(height='25px', width='50%'),…"
      ]
     },
     "metadata": {},
     "output_type": "display_data"
    },
    {
     "data": {
      "image/png": "[encoded data removed]",
      "text/plain": [
       "<IPython.core.display.Image object>"
      ]
     },
     "metadata": {},
     "output_type": "display_data"
    }
   ],
   "source": [
    "plt.clf()\n",
    "sns.countplot(x='isGenderFemale', hue='label', data=user_df.toPandas())\n",
    "%matplot plt"
   ]
  },
  {
   "cell_type": "markdown",
   "metadata": {},
   "source": [
    "on the first glance the propotion of churned and not churned customers seems to be similar. "
   ]
  },
  {
   "cell_type": "code",
   "execution_count": 70,
   "metadata": {},
   "outputs": [
    {
     "data": {
      "application/vnd.jupyter.widget-view+json": {
       "model_id": "1bd9bcbea94241bc9055a3e1ea3b12b1",
       "version_major": 2,
       "version_minor": 0
      },
      "text/plain": [
       "VBox()"
      ]
     },
     "metadata": {},
     "output_type": "display_data"
    },
    {
     "data": {
      "application/vnd.jupyter.widget-view+json": {
       "model_id": "",
       "version_major": 2,
       "version_minor": 0
      },
      "text/plain": [
       "FloatProgress(value=0.0, bar_style='info', description='Progress:', layout=Layout(height='25px', width='50%'),…"
      ]
     },
     "metadata": {},
     "output_type": "display_data"
    },
    {
     "data": {
      "image/png": "[encoded data removed]",
      "text/plain": [
       "<IPython.core.display.Image object>"
      ]
     },
     "metadata": {},
     "output_type": "display_data"
    }
   ],
   "source": [
    "plt.clf()\n",
    "sns.countplot(x='isPaidCustomer', hue='label', data=user_df.toPandas())\n",
    "%matplot plt"
   ]
  },
  {
   "cell_type": "markdown",
   "metadata": {},
   "source": [
    "on the first glance the propotion of churned and not churned customers seems to be similar. "
   ]
  },
  {
   "cell_type": "code",
   "execution_count": 71,
   "metadata": {},
   "outputs": [
    {
     "data": {
      "application/vnd.jupyter.widget-view+json": {
       "model_id": "9e885cd1ed304ecf8347d40a6a32a6d7",
       "version_major": 2,
       "version_minor": 0
      },
      "text/plain": [
       "VBox()"
      ]
     },
     "metadata": {},
     "output_type": "display_data"
    },
    {
     "data": {
      "application/vnd.jupyter.widget-view+json": {
       "model_id": "",
       "version_major": 2,
       "version_minor": 0
      },
      "text/plain": [
       "FloatProgress(value=0.0, bar_style='info', description='Progress:', layout=Layout(height='25px', width='50%'),…"
      ]
     },
     "metadata": {},
     "output_type": "display_data"
    },
    {
     "data": {
      "image/png": "[encoded data removed]",
      "text/plain": [
       "<IPython.core.display.Image object>"
      ]
     },
     "metadata": {},
     "output_type": "display_data"
    }
   ],
   "source": [
    "plt.clf()\n",
    "sns.countplot(x='downgraded', hue='label', data=user_df.toPandas())\n",
    "%matplot plt"
   ]
  },
  {
   "cell_type": "markdown",
   "metadata": {},
   "source": [
    "on the first glance the propotion of churned and not churned customers seems to be similar. "
   ]
  },
  {
   "cell_type": "markdown",
   "metadata": {},
   "source": [
    "In comparison to the small dataset, the distribution of each calculated feature is no more that different between churned and not churned customers anymore. Furthermore the number and the scale of the outliers makes is way harder to identify the relevant quarter areas and to get the differences in the plots. "
   ]
  },
  {
   "cell_type": "markdown",
   "metadata": {},
   "source": [
    "# Conclusion"
   ]
  },
  {
   "cell_type": "markdown",
   "metadata": {},
   "source": [
    "We achieved our initial target to create a model capable to predict customer churn based on the Sparkify dataset with a Recall score greater than 80%. We even reached 88%. The key for this performance was the calculation of good measures.\n",
    "To improve the model further we could try further parameter tuning on these models or even try out different models like Random Forests or XGBoost. Also, a couple of information in the dataset has not been used in thus project. For instance, the usage of the service on special daytimes, the location of the user or the browser/client the user is using might also keep some predictive power."
   ]
  },
  {
   "cell_type": "code",
   "execution_count": null,
   "metadata": {},
   "outputs": [],
   "source": []
  }
 ],
 "metadata": {
  "kernelspec": {
   "display_name": "PySpark",
   "language": "",
   "name": "pysparkkernel"
  },
  "language_info": {
   "codemirror_mode": {
    "name": "python",
    "version": 2
   },
   "mimetype": "text/x-python",
   "name": "pyspark",
   "pygments_lexer": "python2"
  }
 },
 "nbformat": 4,
 "nbformat_minor": 5
}
