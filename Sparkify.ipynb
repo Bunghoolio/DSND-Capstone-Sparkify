{
 "cells": [
  {
   "cell_type": "markdown",
   "metadata": {},
   "source": [
    "# Sparkify Customer Churn Prediction"
   ]
  },
  {
   "cell_type": "markdown",
   "metadata": {},
   "source": [
    "The following project is part of my Udacity Data Science Nano Degree. The project and the dataset was provided by Udacity. <br>\n",
    "This project is about an imaginary platform provider for music streaming (similarly to Spotify or Pandora) called <b>Sparkify</b>. We analyze for Sparkify the customer habits in order to be able to predict, if customers are about to churn from the platform. By analyzing, we want to identify measurements with predictive power for customer churn and create a model leveraging these measurements for prediction. \n",
    "\n",
    "Within this project, it will be more important to avoid False Negatives, as this would mean a churning customer had not been identified upfront. For this reason the mainly focussed model measurement will be the Recall to evaluate the model, as the Recall (True Positives / all Positives) punishes False Negatives. The target of this project is a model with a <b>Recall Score greater than 80%</b>."
   ]
  },
  {
   "cell_type": "markdown",
   "metadata": {},
   "source": [
    "## Section 1: Business Understanding"
   ]
  },
  {
   "cell_type": "markdown",
   "metadata": {},
   "source": [
    "Sparkify is a music streaming platform. This service can be leveraged on a free or a paid tier. When using a free tier this service includes advertising. \n",
    "Customers can register to the service and use the free tier. In order to use the paid tier w/o advertising the customer needs to upgrade their account by visiting the \"Upgrade\"-page and submitting their upgrade. Paid customers can also downgrade their service to the free tier by visiting the \"Downgrade\" page and submitting their downgrade. \n",
    "Both, paid customers and free customers can cancel their registration by visiting the \"Cancel\" page and confirm cancellation. \n",
    "The following work will treat customer churn as customers leaving (cancelling) the service at all. \n",
    "\n",
    "A Customer can visit any of the following pages:\n",
    "* Cancel\n",
    "* Submit Downgrade\n",
    "* Thumbs Down\n",
    "* Home\n",
    "* Downgrade\n",
    "* Roll Advert\n",
    "* Logout\n",
    "* Save Settings\n",
    "* Cancellation Confirmation\n",
    "* About\n",
    "* Submit Registration\n",
    "* Settings\n",
    "* Login\n",
    "* Register\n",
    "* Add to Playlist\n",
    "* Add Friend\n",
    "* NextSong\n",
    "* Thumbs Up\n",
    "* Help\n",
    "* Upgrade\n",
    "* Error\n",
    "* Submit Upgrade"
   ]
  },
  {
   "cell_type": "markdown",
   "metadata": {},
   "source": [
    "### Installing and importing required libraries to EMR Cluster"
   ]
  },
  {
   "cell_type": "code",
   "execution_count": 1,
   "metadata": {},
   "outputs": [
    {
     "data": {
      "application/vnd.jupyter.widget-view+json": {
       "model_id": "c9b6b1d995ce4a85bde52e1d70562a68",
       "version_major": 2,
       "version_minor": 0
      },
      "text/plain": [
       "VBox()"
      ]
     },
     "metadata": {},
     "output_type": "display_data"
    },
    {
     "name": "stdout",
     "output_type": "stream",
     "text": [
      "Starting Spark application\n"
     ]
    },
    {
     "data": {
      "text/html": [
       "<table>\n",
       "<tr><th>ID</th><th>YARN Application ID</th><th>Kind</th><th>State</th><th>Spark UI</th><th>Driver log</th><th>Current session?</th></tr><tr><td>2</td><td>application_1623520201468_0003</td><td>pyspark</td><td>idle</td><td><a target=\"_blank\" href=\"http://ip-172-31-8-216.eu-central-1.compute.internal:20888/proxy/application_1623520201468_0003/\">Link</a></td><td><a target=\"_blank\" href=\"http://ip-172-31-4-241.eu-central-1.compute.internal:8042/node/containerlogs/container_1623520201468_0003_01_000001/livy\">Link</a></td><td>✔</td></tr></table>"
      ],
      "text/plain": [
       "<IPython.core.display.HTML object>"
      ]
     },
     "metadata": {},
     "output_type": "display_data"
    },
    {
     "data": {
      "application/vnd.jupyter.widget-view+json": {
       "model_id": "",
       "version_major": 2,
       "version_minor": 0
      },
      "text/plain": [
       "FloatProgress(value=0.0, bar_style='info', description='Progress:', layout=Layout(height='25px', width='50%'),…"
      ]
     },
     "metadata": {},
     "output_type": "display_data"
    },
    {
     "name": "stdout",
     "output_type": "stream",
     "text": [
      "SparkSession available as 'spark'.\n"
     ]
    },
    {
     "data": {
      "application/vnd.jupyter.widget-view+json": {
       "model_id": "",
       "version_major": 2,
       "version_minor": 0
      },
      "text/plain": [
       "FloatProgress(value=0.0, bar_style='info', description='Progress:', layout=Layout(height='25px', width='50%'),…"
      ]
     },
     "metadata": {},
     "output_type": "display_data"
    },
    {
     "name": "stdout",
     "output_type": "stream",
     "text": [
      "Package                    Version\n",
      "-------------------------- -------\n",
      "beautifulsoup4             4.8.1\n",
      "boto                       2.49.0\n",
      "jmespath                   0.9.4\n",
      "lxml                       4.4.2\n",
      "mysqlclient                1.4.6\n",
      "nltk                       3.4.5\n",
      "nose                       1.3.4\n",
      "numpy                      1.14.5\n",
      "pip                        21.1.2\n",
      "py-dateutil                2.2\n",
      "python36-sagemaker-pyspark 1.2.6\n",
      "pytz                       2019.3\n",
      "PyYAML                     3.11\n",
      "setuptools                 57.0.0\n",
      "six                        1.13.0\n",
      "soupsieve                  1.9.5\n",
      "wheel                      0.36.2\n",
      "windmill                   1.6"
     ]
    }
   ],
   "source": [
    "sc.list_packages()"
   ]
  },
  {
   "cell_type": "code",
   "execution_count": 2,
   "metadata": {},
   "outputs": [
    {
     "data": {
      "application/vnd.jupyter.widget-view+json": {
       "model_id": "5d4650f027fd4a0ebf59d08d40783d6b",
       "version_major": 2,
       "version_minor": 0
      },
      "text/plain": [
       "VBox()"
      ]
     },
     "metadata": {},
     "output_type": "display_data"
    },
    {
     "data": {
      "application/vnd.jupyter.widget-view+json": {
       "model_id": "",
       "version_major": 2,
       "version_minor": 0
      },
      "text/plain": [
       "FloatProgress(value=0.0, bar_style='info', description='Progress:', layout=Layout(height='25px', width='50%'),…"
      ]
     },
     "metadata": {},
     "output_type": "display_data"
    },
    {
     "name": "stdout",
     "output_type": "stream",
     "text": [
      "Collecting pandas==0.25.1\n",
      "  Using cached pandas-0.25.1-cp36-cp36m-manylinux1_x86_64.whl (10.5 MB)\n",
      "Collecting python-dateutil>=2.6.1\n",
      "  Using cached python_dateutil-2.8.1-py2.py3-none-any.whl (227 kB)\n",
      "Requirement already satisfied: numpy>=1.13.3 in /usr/local/lib64/python3.6/site-packages (from pandas==0.25.1) (1.14.5)\n",
      "Requirement already satisfied: pytz>=2017.2 in /usr/local/lib/python3.6/site-packages (from pandas==0.25.1) (2019.3)\n",
      "Requirement already satisfied: six>=1.5 in /usr/local/lib/python3.6/site-packages (from python-dateutil>=2.6.1->pandas==0.25.1) (1.13.0)\n",
      "Installing collected packages: python-dateutil, pandas\n",
      "Successfully installed pandas-0.25.1 python-dateutil-2.8.1\n",
      "\n",
      "Collecting matplotlib==3.1.1\n",
      "  Using cached matplotlib-3.1.1-cp36-cp36m-manylinux1_x86_64.whl (13.1 MB)\n",
      "Collecting pyparsing!=2.0.4,!=2.1.2,!=2.1.6,>=2.0.1\n",
      "  Using cached pyparsing-2.4.7-py2.py3-none-any.whl (67 kB)\n",
      "Requirement already satisfied: numpy>=1.11 in /usr/local/lib64/python3.6/site-packages (from matplotlib==3.1.1) (1.14.5)\n",
      "Requirement already satisfied: python-dateutil>=2.1 in /mnt/tmp/1623523312038-0/lib/python3.6/site-packages (from matplotlib==3.1.1) (2.8.1)\n",
      "Collecting kiwisolver>=1.0.1\n",
      "  Using cached kiwisolver-1.3.1-cp36-cp36m-manylinux1_x86_64.whl (1.1 MB)\n",
      "Collecting cycler>=0.10\n",
      "  Using cached cycler-0.10.0-py2.py3-none-any.whl (6.5 kB)\n",
      "Requirement already satisfied: six in /usr/local/lib/python3.6/site-packages (from cycler>=0.10->matplotlib==3.1.1) (1.13.0)\n",
      "Installing collected packages: pyparsing, kiwisolver, cycler, matplotlib\n",
      "Successfully installed cycler-0.10.0 kiwisolver-1.3.1 matplotlib-3.1.1 pyparsing-2.4.7\n",
      "\n",
      "Collecting seaborn==0.11.1\n",
      "  Using cached seaborn-0.11.1-py3-none-any.whl (285 kB)\n",
      "Requirement already satisfied: pandas>=0.23 in /mnt/tmp/1623523312038-0/lib64/python3.6/site-packages (from seaborn==0.11.1) (0.25.1)\n",
      "Collecting scipy>=1.0\n",
      "  Using cached scipy-1.5.4-cp36-cp36m-manylinux1_x86_64.whl (25.9 MB)\n",
      "Requirement already satisfied: matplotlib>=2.2 in /mnt/tmp/1623523312038-0/lib64/python3.6/site-packages (from seaborn==0.11.1) (3.1.1)\n",
      "Collecting numpy>=1.15\n",
      "  Using cached numpy-1.19.5-cp36-cp36m-manylinux2010_x86_64.whl (14.8 MB)\n",
      "Requirement already satisfied: pyparsing!=2.0.4,!=2.1.2,!=2.1.6,>=2.0.1 in /mnt/tmp/1623523312038-0/lib/python3.6/site-packages (from matplotlib>=2.2->seaborn==0.11.1) (2.4.7)\n",
      "Requirement already satisfied: python-dateutil>=2.1 in /mnt/tmp/1623523312038-0/lib/python3.6/site-packages (from matplotlib>=2.2->seaborn==0.11.1) (2.8.1)\n",
      "Requirement already satisfied: kiwisolver>=1.0.1 in /mnt/tmp/1623523312038-0/lib64/python3.6/site-packages (from matplotlib>=2.2->seaborn==0.11.1) (1.3.1)\n",
      "Requirement already satisfied: cycler>=0.10 in /mnt/tmp/1623523312038-0/lib/python3.6/site-packages (from matplotlib>=2.2->seaborn==0.11.1) (0.10.0)\n",
      "Requirement already satisfied: six in /usr/local/lib/python3.6/site-packages (from cycler>=0.10->matplotlib>=2.2->seaborn==0.11.1) (1.13.0)\n",
      "Requirement already satisfied: pytz>=2017.2 in /usr/local/lib/python3.6/site-packages (from pandas>=0.23->seaborn==0.11.1) (2019.3)\n",
      "Installing collected packages: numpy, scipy, seaborn\n",
      "  Attempting uninstall: numpy\n",
      "    Found existing installation: numpy 1.14.5\n",
      "    Not uninstalling numpy at /usr/local/lib64/python3.6/site-packages, outside environment /tmp/1623523312038-0\n",
      "    Can't uninstall 'numpy'. No files were found to uninstall.\n",
      "Successfully installed numpy-1.19.5 scipy-1.5.4 seaborn-0.11.1\n",
      "\n",
      "\n",
      "\n",
      "ERROR: pip's dependency resolver does not currently take into account all the packages that are installed. This behaviour is the source of the following dependency conflicts.\n",
      "python36-sagemaker-pyspark 1.2.6 requires pyspark==2.3.2, which is not installed."
     ]
    }
   ],
   "source": [
    "sc.install_pypi_package(\"pandas==0.25.1\") #Install pandas version 0.25.1 on EMR\n",
    "sc.install_pypi_package(\"matplotlib==3.1.1\") #Install matplotlib version 3.1.1 on EMR\n",
    "sc.install_pypi_package(\"seaborn==0.11.1\") #Install seaborn version 0.11.1 on EMR\n"
   ]
  },
  {
   "cell_type": "code",
   "execution_count": 3,
   "metadata": {},
   "outputs": [
    {
     "data": {
      "application/vnd.jupyter.widget-view+json": {
       "model_id": "79c9eec6cda44d56b9c93a6727f31cb5",
       "version_major": 2,
       "version_minor": 0
      },
      "text/plain": [
       "VBox()"
      ]
     },
     "metadata": {},
     "output_type": "display_data"
    },
    {
     "data": {
      "application/vnd.jupyter.widget-view+json": {
       "model_id": "",
       "version_major": 2,
       "version_minor": 0
      },
      "text/plain": [
       "FloatProgress(value=0.0, bar_style='info', description='Progress:', layout=Layout(height='25px', width='50%'),…"
      ]
     },
     "metadata": {},
     "output_type": "display_data"
    },
    {
     "name": "stdout",
     "output_type": "stream",
     "text": [
      "Package                    Version\n",
      "-------------------------- -------\n",
      "beautifulsoup4             4.8.1\n",
      "boto                       2.49.0\n",
      "cycler                     0.10.0\n",
      "jmespath                   0.9.4\n",
      "kiwisolver                 1.3.1\n",
      "lxml                       4.4.2\n",
      "matplotlib                 3.1.1\n",
      "mysqlclient                1.4.6\n",
      "nltk                       3.4.5\n",
      "nose                       1.3.4\n",
      "numpy                      1.19.5\n",
      "pandas                     0.25.1\n",
      "pip                        21.1.2\n",
      "py-dateutil                2.2\n",
      "pyparsing                  2.4.7\n",
      "python-dateutil            2.8.1\n",
      "python36-sagemaker-pyspark 1.2.6\n",
      "pytz                       2019.3\n",
      "PyYAML                     3.11\n",
      "scipy                      1.5.4\n",
      "seaborn                    0.11.1\n",
      "setuptools                 57.0.0\n",
      "six                        1.13.0\n",
      "soupsieve                  1.9.5\n",
      "wheel                      0.36.2\n",
      "windmill                   1.6"
     ]
    }
   ],
   "source": [
    "sc.list_packages()"
   ]
  },
  {
   "cell_type": "code",
   "execution_count": 4,
   "metadata": {},
   "outputs": [
    {
     "data": {
      "application/vnd.jupyter.widget-view+json": {
       "model_id": "65f765c5faea458ba4417d3a88286993",
       "version_major": 2,
       "version_minor": 0
      },
      "text/plain": [
       "VBox()"
      ]
     },
     "metadata": {},
     "output_type": "display_data"
    },
    {
     "data": {
      "application/vnd.jupyter.widget-view+json": {
       "model_id": "",
       "version_major": 2,
       "version_minor": 0
      },
      "text/plain": [
       "FloatProgress(value=0.0, bar_style='info', description='Progress:', layout=Layout(height='25px', width='50%'),…"
      ]
     },
     "metadata": {},
     "output_type": "display_data"
    }
   ],
   "source": [
    "import pandas as pd\n",
    "import matplotlib.pyplot as plt\n",
    "import seaborn as sns\n",
    "import datetime as dt\n",
    "import numpy as np\n",
    "\n",
    "from pyspark.sql import SparkSession\n",
    "from pyspark.sql import functions as F\n",
    "from pyspark.sql.window import Window\n",
    "from pyspark.sql.types import IntegerType\n",
    "\n",
    "from pyspark.ml.feature import VectorAssembler, StandardScaler\n",
    "from pyspark.ml.tuning import CrossValidator, ParamGridBuilder\n",
    "from pyspark.ml import Pipeline\n",
    "from pyspark.ml.classification import LogisticRegression, GBTClassifier\n",
    "from pyspark.ml.evaluation import MulticlassClassificationEvaluator\n",
    "\n",
    "\n",
    "pd.set_option('display.max_columns', 50)"
   ]
  },
  {
   "cell_type": "code",
   "execution_count": 5,
   "metadata": {},
   "outputs": [
    {
     "data": {
      "application/vnd.jupyter.widget-view+json": {
       "model_id": "2efbee5439be477a9d8448a2d901e086",
       "version_major": 2,
       "version_minor": 0
      },
      "text/plain": [
       "VBox()"
      ]
     },
     "metadata": {},
     "output_type": "display_data"
    },
    {
     "data": {
      "application/vnd.jupyter.widget-view+json": {
       "model_id": "",
       "version_major": 2,
       "version_minor": 0
      },
      "text/plain": [
       "FloatProgress(value=0.0, bar_style='info', description='Progress:', layout=Layout(height='25px', width='50%'),…"
      ]
     },
     "metadata": {},
     "output_type": "display_data"
    }
   ],
   "source": [
    "# Create spark session\n",
    "spark = SparkSession \\\n",
    "    .builder \\\n",
    "    .appName(\"Sparkify\") \\\n",
    "    .getOrCreate()"
   ]
  },
  {
   "cell_type": "markdown",
   "metadata": {},
   "source": [
    "## Section 2: Data Understanding"
   ]
  },
  {
   "cell_type": "code",
   "execution_count": 6,
   "metadata": {},
   "outputs": [
    {
     "data": {
      "application/vnd.jupyter.widget-view+json": {
       "model_id": "b133f28ebbcd4ccc801192a887ae17ab",
       "version_major": 2,
       "version_minor": 0
      },
      "text/plain": [
       "VBox()"
      ]
     },
     "metadata": {},
     "output_type": "display_data"
    },
    {
     "data": {
      "application/vnd.jupyter.widget-view+json": {
       "model_id": "",
       "version_major": 2,
       "version_minor": 0
      },
      "text/plain": [
       "FloatProgress(value=0.0, bar_style='info', description='Progress:', layout=Layout(height='25px', width='50%'),…"
      ]
     },
     "metadata": {},
     "output_type": "display_data"
    }
   ],
   "source": [
    "# Read in full sparkify dataset\n",
    "event_data = \"s3n://udacity-dsnd/sparkify/sparkify_event_data.json\"\n",
    "event_data_mini = \"s3n://udacity-dsnd/sparkify/mini_sparkify_event_data.json\"\n",
    "df = spark.read.json(event_data_mini)"
   ]
  },
  {
   "cell_type": "code",
   "execution_count": 7,
   "metadata": {},
   "outputs": [
    {
     "data": {
      "application/vnd.jupyter.widget-view+json": {
       "model_id": "29df28f20ae34e228fc9057a7ea938dd",
       "version_major": 2,
       "version_minor": 0
      },
      "text/plain": [
       "VBox()"
      ]
     },
     "metadata": {},
     "output_type": "display_data"
    },
    {
     "data": {
      "application/vnd.jupyter.widget-view+json": {
       "model_id": "",
       "version_major": 2,
       "version_minor": 0
      },
      "text/plain": [
       "FloatProgress(value=0.0, bar_style='info', description='Progress:', layout=Layout(height='25px', width='50%'),…"
      ]
     },
     "metadata": {},
     "output_type": "display_data"
    },
    {
     "name": "stdout",
     "output_type": "stream",
     "text": [
      "root\n",
      " |-- artist: string (nullable = true)\n",
      " |-- auth: string (nullable = true)\n",
      " |-- firstName: string (nullable = true)\n",
      " |-- gender: string (nullable = true)\n",
      " |-- itemInSession: long (nullable = true)\n",
      " |-- lastName: string (nullable = true)\n",
      " |-- length: double (nullable = true)\n",
      " |-- level: string (nullable = true)\n",
      " |-- location: string (nullable = true)\n",
      " |-- method: string (nullable = true)\n",
      " |-- page: string (nullable = true)\n",
      " |-- registration: long (nullable = true)\n",
      " |-- sessionId: long (nullable = true)\n",
      " |-- song: string (nullable = true)\n",
      " |-- status: long (nullable = true)\n",
      " |-- ts: long (nullable = true)\n",
      " |-- userAgent: string (nullable = true)\n",
      " |-- userId: string (nullable = true)"
     ]
    }
   ],
   "source": [
    "df.printSchema()"
   ]
  },
  {
   "cell_type": "code",
   "execution_count": 8,
   "metadata": {},
   "outputs": [
    {
     "data": {
      "application/vnd.jupyter.widget-view+json": {
       "model_id": "73126a2ad185440d8841f41532462998",
       "version_major": 2,
       "version_minor": 0
      },
      "text/plain": [
       "VBox()"
      ]
     },
     "metadata": {},
     "output_type": "display_data"
    },
    {
     "data": {
      "application/vnd.jupyter.widget-view+json": {
       "model_id": "",
       "version_major": 2,
       "version_minor": 0
      },
      "text/plain": [
       "FloatProgress(value=0.0, bar_style='info', description='Progress:', layout=Layout(height='25px', width='50%'),…"
      ]
     },
     "metadata": {},
     "output_type": "display_data"
    },
    {
     "name": "stdout",
     "output_type": "stream",
     "text": [
      "(286500, 18)"
     ]
    }
   ],
   "source": [
    "# df shape\n",
    "print((df.count(), len(df.columns)))"
   ]
  },
  {
   "cell_type": "code",
   "execution_count": 9,
   "metadata": {},
   "outputs": [
    {
     "data": {
      "application/vnd.jupyter.widget-view+json": {
       "model_id": "aa7f6176afc948849958bc9e8f42c579",
       "version_major": 2,
       "version_minor": 0
      },
      "text/plain": [
       "VBox()"
      ]
     },
     "metadata": {},
     "output_type": "display_data"
    },
    {
     "data": {
      "application/vnd.jupyter.widget-view+json": {
       "model_id": "",
       "version_major": 2,
       "version_minor": 0
      },
      "text/plain": [
       "FloatProgress(value=0.0, bar_style='info', description='Progress:', layout=Layout(height='25px', width='50%'),…"
      ]
     },
     "metadata": {},
     "output_type": "display_data"
    },
    {
     "name": "stdout",
     "output_type": "stream",
     "text": [
      "+--------------------+---------+---------+------+-------------+--------+---------+-----+--------------------+------+---------------+-------------+---------+--------------------+------+-------------+--------------------+------+\n",
      "|              artist|     auth|firstName|gender|itemInSession|lastName|   length|level|            location|method|           page| registration|sessionId|                song|status|           ts|           userAgent|userId|\n",
      "+--------------------+---------+---------+------+-------------+--------+---------+-----+--------------------+------+---------------+-------------+---------+--------------------+------+-------------+--------------------+------+\n",
      "|      Martha Tilston|Logged In|    Colin|     M|           50| Freeman|277.89016| paid|     Bakersfield, CA|   PUT|       NextSong|1538173362000|       29|           Rockpools|   200|1538352117000|Mozilla/5.0 (Wind...|    30|\n",
      "|    Five Iron Frenzy|Logged In|    Micah|     M|           79|    Long|236.09424| free|Boston-Cambridge-...|   PUT|       NextSong|1538331630000|        8|              Canada|   200|1538352180000|\"Mozilla/5.0 (Win...|     9|\n",
      "|        Adam Lambert|Logged In|    Colin|     M|           51| Freeman| 282.8273| paid|     Bakersfield, CA|   PUT|       NextSong|1538173362000|       29|   Time For Miracles|   200|1538352394000|Mozilla/5.0 (Wind...|    30|\n",
      "|              Enigma|Logged In|    Micah|     M|           80|    Long|262.71302| free|Boston-Cambridge-...|   PUT|       NextSong|1538331630000|        8|Knocking On Forbi...|   200|1538352416000|\"Mozilla/5.0 (Win...|     9|\n",
      "|           Daft Punk|Logged In|    Colin|     M|           52| Freeman|223.60771| paid|     Bakersfield, CA|   PUT|       NextSong|1538173362000|       29|Harder Better Fas...|   200|1538352676000|Mozilla/5.0 (Wind...|    30|\n",
      "|The All-American ...|Logged In|    Micah|     M|           81|    Long|208.29995| free|Boston-Cambridge-...|   PUT|       NextSong|1538331630000|        8|      Don't Leave Me|   200|1538352678000|\"Mozilla/5.0 (Win...|     9|\n",
      "|The Velvet Underg...|Logged In|    Micah|     M|           82|    Long|260.46649| free|Boston-Cambridge-...|   PUT|       NextSong|1538331630000|        8|         Run Run Run|   200|1538352886000|\"Mozilla/5.0 (Win...|     9|\n",
      "|        Starflyer 59|Logged In|    Colin|     M|           53| Freeman|185.44281| paid|     Bakersfield, CA|   PUT|       NextSong|1538173362000|       29|Passengers (Old A...|   200|1538352899000|Mozilla/5.0 (Wind...|    30|\n",
      "|                null|Logged In|    Colin|     M|           54| Freeman|     null| paid|     Bakersfield, CA|   PUT|Add to Playlist|1538173362000|       29|                null|   200|1538352905000|Mozilla/5.0 (Wind...|    30|\n",
      "|            Frumpies|Logged In|    Colin|     M|           55| Freeman|134.47791| paid|     Bakersfield, CA|   PUT|       NextSong|1538173362000|       29|          Fuck Kitty|   200|1538353084000|Mozilla/5.0 (Wind...|    30|\n",
      "|        Britt Nicole|Logged In|    Micah|     M|           83|    Long| 229.8771| free|Boston-Cambridge-...|   PUT|       NextSong|1538331630000|        8|   Walk On The Water|   200|1538353146000|\"Mozilla/5.0 (Win...|     9|\n",
      "|                null|Logged In|    Micah|     M|           84|    Long|     null| free|Boston-Cambridge-...|   GET|    Roll Advert|1538331630000|        8|                null|   200|1538353150000|\"Mozilla/5.0 (Win...|     9|\n",
      "|Edward Sharpe & T...|Logged In|    Colin|     M|           56| Freeman|223.58159| paid|     Bakersfield, CA|   PUT|       NextSong|1538173362000|       29|                Jade|   200|1538353218000|Mozilla/5.0 (Wind...|    30|\n",
      "|               Tesla|Logged In|    Micah|     M|           85|    Long|201.06404| free|Boston-Cambridge-...|   PUT|       NextSong|1538331630000|        8|      Gettin' Better|   200|1538353375000|\"Mozilla/5.0 (Win...|     9|\n",
      "|                null|Logged In|    Micah|     M|           86|    Long|     null| free|Boston-Cambridge-...|   PUT|      Thumbs Up|1538331630000|        8|                null|   307|1538353376000|\"Mozilla/5.0 (Win...|     9|\n",
      "|         Stan Mosley|Logged In|    Colin|     M|           57| Freeman|246.69995| paid|     Bakersfield, CA|   PUT|       NextSong|1538173362000|       29|   So-Called Friends|   200|1538353441000|Mozilla/5.0 (Wind...|    30|\n",
      "|Florence + The Ma...|Logged In|    Micah|     M|           87|    Long|168.64608| free|Boston-Cambridge-...|   PUT|       NextSong|1538331630000|        8| You've Got The Love|   200|1538353576000|\"Mozilla/5.0 (Win...|     9|\n",
      "|   Tokyo Police Club|Logged In|  Ashlynn|     F|            0|Williams| 166.1122| free|     Tallahassee, FL|   PUT|       NextSong|1537365219000|      217|Citizens Of Tomorrow|   200|1538353668000|\"Mozilla/5.0 (Mac...|    74|\n",
      "|             Orishas|Logged In|    Colin|     M|           58| Freeman|222.22322| paid|     Bakersfield, CA|   PUT|       NextSong|1538173362000|       29|           Represent|   200|1538353687000|Mozilla/5.0 (Wind...|    30|\n",
      "|             Ratatat|Logged In|    Micah|     M|           88|    Long|229.77261| free|Boston-Cambridge-...|   PUT|       NextSong|1538331630000|        8|              Swisha|   200|1538353744000|\"Mozilla/5.0 (Win...|     9|\n",
      "+--------------------+---------+---------+------+-------------+--------+---------+-----+--------------------+------+---------------+-------------+---------+--------------------+------+-------------+--------------------+------+\n",
      "only showing top 20 rows"
     ]
    }
   ],
   "source": [
    "df.show()"
   ]
  },
  {
   "cell_type": "code",
   "execution_count": 10,
   "metadata": {},
   "outputs": [
    {
     "data": {
      "application/vnd.jupyter.widget-view+json": {
       "model_id": "778d71c21474407aa990c21e393cfe94",
       "version_major": 2,
       "version_minor": 0
      },
      "text/plain": [
       "VBox()"
      ]
     },
     "metadata": {},
     "output_type": "display_data"
    },
    {
     "data": {
      "application/vnd.jupyter.widget-view+json": {
       "model_id": "",
       "version_major": 2,
       "version_minor": 0
      },
      "text/plain": [
       "FloatProgress(value=0.0, bar_style='info', description='Progress:', layout=Layout(height='25px', width='50%'),…"
      ]
     },
     "metadata": {},
     "output_type": "display_data"
    },
    {
     "name": "stdout",
     "output_type": "stream",
     "text": [
      "+-------+------------------+\n",
      "|summary|     itemInSession|\n",
      "+-------+------------------+\n",
      "|  count|            286500|\n",
      "|   mean|114.41421291448516|\n",
      "| stddev|129.76726201141108|\n",
      "|    min|                 0|\n",
      "|    max|              1321|\n",
      "+-------+------------------+\n",
      "\n",
      "None\n",
      "+-------+------------------+\n",
      "|summary|            length|\n",
      "+-------+------------------+\n",
      "|  count|            228108|\n",
      "|   mean|249.11718197783375|\n",
      "| stddev| 99.23517921058327|\n",
      "|    min|           0.78322|\n",
      "|    max|        3024.66567|\n",
      "+-------+------------------+\n",
      "\n",
      "None\n",
      "+-------+--------------------+\n",
      "|summary|        registration|\n",
      "+-------+--------------------+\n",
      "|  count|              278154|\n",
      "|   mean|1.535358834085557E12|\n",
      "| stddev| 3.291321616327432E9|\n",
      "|    min|       1521380675000|\n",
      "|    max|       1543247354000|\n",
      "+-------+--------------------+\n",
      "\n",
      "None\n",
      "+-------+-----------------+\n",
      "|summary|        sessionId|\n",
      "+-------+-----------------+\n",
      "|  count|           286500|\n",
      "|   mean|1041.526554973822|\n",
      "| stddev|726.7762634630799|\n",
      "|    min|                1|\n",
      "|    max|             2474|\n",
      "+-------+-----------------+\n",
      "\n",
      "None\n",
      "+-------+------------------+\n",
      "|summary|            status|\n",
      "+-------+------------------+\n",
      "|  count|            286500|\n",
      "|   mean|210.05459685863875|\n",
      "| stddev| 31.50507848842204|\n",
      "|    min|               200|\n",
      "|    max|               404|\n",
      "+-------+------------------+\n",
      "\n",
      "None\n",
      "+-------+--------------------+\n",
      "|summary|                  ts|\n",
      "+-------+--------------------+\n",
      "|  count|              286500|\n",
      "|   mean|1.540956889810471...|\n",
      "| stddev|1.5075439608195622E9|\n",
      "|    min|       1538352117000|\n",
      "|    max|       1543799476000|\n",
      "+-------+--------------------+\n",
      "\n",
      "None"
     ]
    }
   ],
   "source": [
    "# describing each numeric-like column\n",
    "\n",
    "for column in df.dtypes:\n",
    "    if column[1] != 'string':\n",
    "        print(df.describe(column[0]).show())"
   ]
  },
  {
   "cell_type": "code",
   "execution_count": 11,
   "metadata": {},
   "outputs": [
    {
     "data": {
      "application/vnd.jupyter.widget-view+json": {
       "model_id": "9b0051ad57284b05a4caeedb13508c52",
       "version_major": 2,
       "version_minor": 0
      },
      "text/plain": [
       "VBox()"
      ]
     },
     "metadata": {},
     "output_type": "display_data"
    },
    {
     "data": {
      "application/vnd.jupyter.widget-view+json": {
       "model_id": "",
       "version_major": 2,
       "version_minor": 0
      },
      "text/plain": [
       "FloatProgress(value=0.0, bar_style='info', description='Progress:', layout=Layout(height='25px', width='50%'),…"
      ]
     },
     "metadata": {},
     "output_type": "display_data"
    },
    {
     "name": "stdout",
     "output_type": "stream",
     "text": [
      "+--------------------+-----+\n",
      "|              artist|count|\n",
      "+--------------------+-----+\n",
      "|                null|58392|\n",
      "|       Kings Of Leon| 1841|\n",
      "|            Coldplay| 1813|\n",
      "|Florence + The Ma...| 1236|\n",
      "|       Dwight Yoakam| 1135|\n",
      "|            BjÃÂ¶rk| 1133|\n",
      "|      The Black Keys| 1125|\n",
      "|                Muse| 1090|\n",
      "|       Justin Bieber| 1044|\n",
      "|        Jack Johnson| 1007|\n",
      "+--------------------+-----+\n",
      "only showing top 10 rows\n",
      "\n",
      "None\n",
      "+----------+------+\n",
      "|      auth| count|\n",
      "+----------+------+\n",
      "| Logged In|278102|\n",
      "|Logged Out|  8249|\n",
      "|     Guest|    97|\n",
      "| Cancelled|    52|\n",
      "+----------+------+\n",
      "\n",
      "None\n",
      "+---------+-----+\n",
      "|firstName|count|\n",
      "+---------+-----+\n",
      "|   Payton| 9632|\n",
      "|     null| 8346|\n",
      "|    Riley| 7970|\n",
      "|   Lucero| 6880|\n",
      "|   Emilia| 5732|\n",
      "|     Emma| 5478|\n",
      "|   Joseph| 5209|\n",
      "|    Colin| 4989|\n",
      "|   Nicole| 4825|\n",
      "|   Joshua| 4654|\n",
      "+---------+-----+\n",
      "only showing top 10 rows\n",
      "\n",
      "None\n",
      "+------+------+\n",
      "|gender| count|\n",
      "+------+------+\n",
      "|     F|154578|\n",
      "|     M|123576|\n",
      "|  null|  8346|\n",
      "+------+------+\n",
      "\n",
      "None\n",
      "+-------------+-----+\n",
      "|itemInSession|count|\n",
      "+-------------+-----+\n",
      "|            0| 3278|\n",
      "|            1| 3125|\n",
      "|            2| 3067|\n",
      "|            3| 3013|\n",
      "|            4| 2977|\n",
      "|            5| 2925|\n",
      "|            6| 2886|\n",
      "|            7| 2857|\n",
      "|            8| 2816|\n",
      "|            9| 2771|\n",
      "+-------------+-----+\n",
      "only showing top 10 rows\n",
      "\n",
      "None\n",
      "+--------+-----+\n",
      "|lastName|count|\n",
      "+--------+-----+\n",
      "|Campbell|14060|\n",
      "|    Reed| 9284|\n",
      "|Williams| 8410|\n",
      "|    null| 8346|\n",
      "|  Taylor| 7230|\n",
      "| Johnson| 6106|\n",
      "|  Larson| 6105|\n",
      "|   House| 5732|\n",
      "|Thompson| 5217|\n",
      "|   Jones| 4831|\n",
      "+--------+-----+\n",
      "only showing top 10 rows\n",
      "\n",
      "None\n",
      "+---------+-----+\n",
      "|   length|count|\n",
      "+---------+-----+\n",
      "|     null|58392|\n",
      "| 239.3073| 1205|\n",
      "|348.57751| 1037|\n",
      "|201.79546|  908|\n",
      "|655.77751|  730|\n",
      "|277.15873|  645|\n",
      "|219.66322|  585|\n",
      "|224.67873|  522|\n",
      "|220.89098|  511|\n",
      "|236.09424|  450|\n",
      "+---------+-----+\n",
      "only showing top 10 rows\n",
      "\n",
      "None\n",
      "+-----+------+\n",
      "|level| count|\n",
      "+-----+------+\n",
      "| paid|228162|\n",
      "| free| 58338|\n",
      "+-----+------+\n",
      "\n",
      "None\n",
      "+--------------------+-----+\n",
      "|            location|count|\n",
      "+--------------------+-----+\n",
      "|Los Angeles-Long ...|30131|\n",
      "|New York-Newark-J...|23684|\n",
      "|Boston-Cambridge-...|13873|\n",
      "|Houston-The Woodl...| 9499|\n",
      "|                null| 8346|\n",
      "|Charlotte-Concord...| 7780|\n",
      "|Dallas-Fort Worth...| 7605|\n",
      "|Louisville/Jeffer...| 6880|\n",
      "|Philadelphia-Camd...| 5890|\n",
      "|Chicago-Napervill...| 5114|\n",
      "+--------------------+-----+\n",
      "only showing top 10 rows\n",
      "\n",
      "None\n",
      "+------+------+\n",
      "|method| count|\n",
      "+------+------+\n",
      "|   PUT|261064|\n",
      "|   GET| 25436|\n",
      "+------+------+\n",
      "\n",
      "None\n",
      "+---------------+------+\n",
      "|           page| count|\n",
      "+---------------+------+\n",
      "|       NextSong|228108|\n",
      "|           Home| 14457|\n",
      "|      Thumbs Up| 12551|\n",
      "|Add to Playlist|  6526|\n",
      "|     Add Friend|  4277|\n",
      "|    Roll Advert|  3933|\n",
      "|          Login|  3241|\n",
      "|         Logout|  3226|\n",
      "|    Thumbs Down|  2546|\n",
      "|      Downgrade|  2055|\n",
      "+---------------+------+\n",
      "only showing top 10 rows\n",
      "\n",
      "None\n",
      "+-------------+-----+\n",
      "| registration|count|\n",
      "+-------------+-----+\n",
      "|1529027541000| 9632|\n",
      "|         null| 8346|\n",
      "|1536403972000| 7230|\n",
      "|1536642109000| 6880|\n",
      "|1538336771000| 5732|\n",
      "|1532224335000| 4825|\n",
      "|1537611935000| 4659|\n",
      "|1537082511000| 4428|\n",
      "|1534133898000| 4370|\n",
      "|1537811988000| 4257|\n",
      "+-------------+-----+\n",
      "only showing top 10 rows\n",
      "\n",
      "None\n",
      "+---------+-----+\n",
      "|sessionId|count|\n",
      "+---------+-----+\n",
      "|     1840| 1322|\n",
      "|      316| 1247|\n",
      "|      236|  905|\n",
      "|      635|  890|\n",
      "|      368|  799|\n",
      "|      123|  782|\n",
      "|       76|  775|\n",
      "|      731|  773|\n",
      "|      436|  749|\n",
      "|      344|  730|\n",
      "+---------+-----+\n",
      "only showing top 10 rows\n",
      "\n",
      "None\n",
      "+--------------------+-----+\n",
      "|                song|count|\n",
      "+--------------------+-----+\n",
      "|                null|58392|\n",
      "|      You're The One| 1153|\n",
      "|                Undo| 1026|\n",
      "|             Revelry|  854|\n",
      "|       Sehr kosmisch|  728|\n",
      "|Horn Concerto No....|  641|\n",
      "|Dog Days Are Over...|  574|\n",
      "|             Secrets|  466|\n",
      "|        Use Somebody|  459|\n",
      "|              Canada|  435|\n",
      "+--------------------+-----+\n",
      "only showing top 10 rows\n",
      "\n",
      "None\n",
      "+------+------+\n",
      "|status| count|\n",
      "+------+------+\n",
      "|   200|259812|\n",
      "|   307| 26430|\n",
      "|   404|   258|\n",
      "+------+------+\n",
      "\n",
      "None\n",
      "+-------------+-----+\n",
      "|           ts|count|\n",
      "+-------------+-----+\n",
      "|1542848987000|    4|\n",
      "|1543376608000|    4|\n",
      "|1538786140000|    4|\n",
      "|1539721234000|    3|\n",
      "|1541526859000|    3|\n",
      "|1539191076000|    3|\n",
      "|1539247652000|    3|\n",
      "|1538778922000|    3|\n",
      "|1540456067000|    3|\n",
      "|1539996675000|    3|\n",
      "+-------------+-----+\n",
      "only showing top 10 rows\n",
      "\n",
      "None\n",
      "+--------------------+-----+\n",
      "|           userAgent|count|\n",
      "+--------------------+-----+\n",
      "|\"Mozilla/5.0 (Win...|22751|\n",
      "|\"Mozilla/5.0 (Mac...|19611|\n",
      "|\"Mozilla/5.0 (Mac...|18448|\n",
      "|\"Mozilla/5.0 (Mac...|17348|\n",
      "|Mozilla/5.0 (Wind...|16700|\n",
      "|\"Mozilla/5.0 (Win...|15395|\n",
      "|\"Mozilla/5.0 (Win...|14598|\n",
      "|Mozilla/5.0 (Maci...|10300|\n",
      "|\"Mozilla/5.0 (iPa...| 8912|\n",
      "|Mozilla/5.0 (comp...| 8624|\n",
      "+--------------------+-----+\n",
      "only showing top 10 rows\n",
      "\n",
      "None\n",
      "+------+-----+\n",
      "|userId|count|\n",
      "+------+-----+\n",
      "|    39| 9632|\n",
      "|      | 8346|\n",
      "|    92| 7230|\n",
      "|   140| 6880|\n",
      "|300011| 5732|\n",
      "|   124| 4825|\n",
      "|300021| 4659|\n",
      "|300017| 4428|\n",
      "|    85| 4370|\n",
      "|    42| 4257|\n",
      "+------+-----+\n",
      "only showing top 10 rows\n",
      "\n",
      "None"
     ]
    }
   ],
   "source": [
    "# count values for each column\n",
    "\n",
    "for column in df.dtypes:\n",
    "    print(df.select(F.col(column[0])).groupBy(F.col(column[0])).count().orderBy(F.col('count').desc()).show(10))"
   ]
  },
  {
   "cell_type": "code",
   "execution_count": 12,
   "metadata": {},
   "outputs": [
    {
     "data": {
      "application/vnd.jupyter.widget-view+json": {
       "model_id": "19ae569115f542018fafc5e20d12f46e",
       "version_major": 2,
       "version_minor": 0
      },
      "text/plain": [
       "VBox()"
      ]
     },
     "metadata": {},
     "output_type": "display_data"
    },
    {
     "data": {
      "application/vnd.jupyter.widget-view+json": {
       "model_id": "",
       "version_major": 2,
       "version_minor": 0
      },
      "text/plain": [
       "FloatProgress(value=0.0, bar_style='info', description='Progress:', layout=Layout(height='25px', width='50%'),…"
      ]
     },
     "metadata": {},
     "output_type": "display_data"
    },
    {
     "name": "stdout",
     "output_type": "stream",
     "text": [
      "+------+-----+\n",
      "|artist|count|\n",
      "+------+-----+\n",
      "|  null|58392|\n",
      "+------+-----+\n",
      "\n",
      "None\n",
      "+----+-----+\n",
      "|auth|count|\n",
      "+----+-----+\n",
      "+----+-----+\n",
      "\n",
      "None\n",
      "+---------+-----+\n",
      "|firstName|count|\n",
      "+---------+-----+\n",
      "|     null| 8346|\n",
      "+---------+-----+\n",
      "\n",
      "None\n",
      "+------+-----+\n",
      "|gender|count|\n",
      "+------+-----+\n",
      "|  null| 8346|\n",
      "+------+-----+\n",
      "\n",
      "None\n",
      "+-------------+-----+\n",
      "|itemInSession|count|\n",
      "+-------------+-----+\n",
      "+-------------+-----+\n",
      "\n",
      "None\n",
      "+--------+-----+\n",
      "|lastName|count|\n",
      "+--------+-----+\n",
      "|    null| 8346|\n",
      "+--------+-----+\n",
      "\n",
      "None\n",
      "+------+-----+\n",
      "|length|count|\n",
      "+------+-----+\n",
      "|  null|58392|\n",
      "+------+-----+\n",
      "\n",
      "None\n",
      "+-----+-----+\n",
      "|level|count|\n",
      "+-----+-----+\n",
      "+-----+-----+\n",
      "\n",
      "None\n",
      "+--------+-----+\n",
      "|location|count|\n",
      "+--------+-----+\n",
      "|    null| 8346|\n",
      "+--------+-----+\n",
      "\n",
      "None\n",
      "+------+-----+\n",
      "|method|count|\n",
      "+------+-----+\n",
      "+------+-----+\n",
      "\n",
      "None\n",
      "+----+-----+\n",
      "|page|count|\n",
      "+----+-----+\n",
      "+----+-----+\n",
      "\n",
      "None\n",
      "+------------+-----+\n",
      "|registration|count|\n",
      "+------------+-----+\n",
      "|        null| 8346|\n",
      "+------------+-----+\n",
      "\n",
      "None\n",
      "+---------+-----+\n",
      "|sessionId|count|\n",
      "+---------+-----+\n",
      "+---------+-----+\n",
      "\n",
      "None\n",
      "+----+-----+\n",
      "|song|count|\n",
      "+----+-----+\n",
      "|null|58392|\n",
      "+----+-----+\n",
      "\n",
      "None\n",
      "+------+-----+\n",
      "|status|count|\n",
      "+------+-----+\n",
      "+------+-----+\n",
      "\n",
      "None\n",
      "+---+-----+\n",
      "| ts|count|\n",
      "+---+-----+\n",
      "+---+-----+\n",
      "\n",
      "None\n",
      "+---------+-----+\n",
      "|userAgent|count|\n",
      "+---------+-----+\n",
      "|     null| 8346|\n",
      "+---------+-----+\n",
      "\n",
      "None\n",
      "+------+-----+\n",
      "|userId|count|\n",
      "+------+-----+\n",
      "|      | 8346|\n",
      "+------+-----+\n",
      "\n",
      "None"
     ]
    }
   ],
   "source": [
    "# checking for null or null-like ('') values in columns\n",
    "\n",
    "for column in df.dtypes:\n",
    "    print(df.filter((F.col(column[0]).isNull()==True) | (F.col(column[0])=='')).select(F.col(column[0])).groupBy(F.col(column[0])).count().show())"
   ]
  },
  {
   "cell_type": "code",
   "execution_count": 13,
   "metadata": {},
   "outputs": [
    {
     "data": {
      "application/vnd.jupyter.widget-view+json": {
       "model_id": "f40df9a67593444582e6411eb84e9b20",
       "version_major": 2,
       "version_minor": 0
      },
      "text/plain": [
       "VBox()"
      ]
     },
     "metadata": {},
     "output_type": "display_data"
    },
    {
     "data": {
      "application/vnd.jupyter.widget-view+json": {
       "model_id": "",
       "version_major": 2,
       "version_minor": 0
      },
      "text/plain": [
       "FloatProgress(value=0.0, bar_style='info', description='Progress:', layout=Layout(height='25px', width='50%'),…"
      ]
     },
     "metadata": {},
     "output_type": "display_data"
    },
    {
     "data": {
      "image/png": "[encoded data removed]",
      "text/plain": [
       "<IPython.core.display.Image object>"
      ]
     },
     "metadata": {},
     "output_type": "display_data"
    }
   ],
   "source": [
    "# value distribution of numeric values\n",
    "\n",
    "df.toPandas().hist()\n",
    "plt.tight_layout()\n",
    "%matplot plt"
   ]
  },
  {
   "cell_type": "code",
   "execution_count": 14,
   "metadata": {},
   "outputs": [
    {
     "data": {
      "application/vnd.jupyter.widget-view+json": {
       "model_id": "589ed3a3d4d74fd2945eac71015f4856",
       "version_major": 2,
       "version_minor": 0
      },
      "text/plain": [
       "VBox()"
      ]
     },
     "metadata": {},
     "output_type": "display_data"
    },
    {
     "data": {
      "application/vnd.jupyter.widget-view+json": {
       "model_id": "",
       "version_major": 2,
       "version_minor": 0
      },
      "text/plain": [
       "FloatProgress(value=0.0, bar_style='info', description='Progress:', layout=Layout(height='25px', width='50%'),…"
      ]
     },
     "metadata": {},
     "output_type": "display_data"
    },
    {
     "name": "stdout",
     "output_type": "stream",
     "text": [
      "+-------------------------+\n",
      "|Page                     |\n",
      "+-------------------------+\n",
      "|Cancel                   |\n",
      "|Submit Downgrade         |\n",
      "|Thumbs Down              |\n",
      "|Home                     |\n",
      "|Downgrade                |\n",
      "|Roll Advert              |\n",
      "|Logout                   |\n",
      "|Save Settings            |\n",
      "|Cancellation Confirmation|\n",
      "|About                    |\n",
      "|Submit Registration      |\n",
      "|Settings                 |\n",
      "|Login                    |\n",
      "|Register                 |\n",
      "|Add to Playlist          |\n",
      "|Add Friend               |\n",
      "|NextSong                 |\n",
      "|Thumbs Up                |\n",
      "|Help                     |\n",
      "|Upgrade                  |\n",
      "|Error                    |\n",
      "|Submit Upgrade           |\n",
      "+-------------------------+"
     ]
    }
   ],
   "source": [
    "# all possible pages visited \n",
    "\n",
    "df.select(F.col('Page')).drop_duplicates().show(50, False)"
   ]
  },
  {
   "cell_type": "code",
   "execution_count": 15,
   "metadata": {},
   "outputs": [
    {
     "data": {
      "application/vnd.jupyter.widget-view+json": {
       "model_id": "bb4af5b4b00942008035a79dcfcfbe49",
       "version_major": 2,
       "version_minor": 0
      },
      "text/plain": [
       "VBox()"
      ]
     },
     "metadata": {},
     "output_type": "display_data"
    },
    {
     "data": {
      "application/vnd.jupyter.widget-view+json": {
       "model_id": "",
       "version_major": 2,
       "version_minor": 0
      },
      "text/plain": [
       "FloatProgress(value=0.0, bar_style='info', description='Progress:', layout=Layout(height='25px', width='50%'),…"
      ]
     },
     "metadata": {},
     "output_type": "display_data"
    },
    {
     "name": "stdout",
     "output_type": "stream",
     "text": [
      "+------+---------+--------+\n",
      "|userId|firstName|lastName|\n",
      "+------+---------+--------+\n",
      "|      |     null|    null|\n",
      "+------+---------+--------+"
     ]
    }
   ],
   "source": [
    "# what is gender null?\n",
    "df.filter(F.col('Gender').isNull()==True).select('userId','firstName','lastName').drop_duplicates().show(25)"
   ]
  },
  {
   "cell_type": "markdown",
   "metadata": {},
   "source": [
    "## Section 3: Data Preparation"
   ]
  },
  {
   "cell_type": "markdown",
   "metadata": {},
   "source": [
    "In order to tackle the problem, an user_df will be created with 1 row per user. The next steps will include feature engeneering to calculate relevant measurements with predictive power for customer churn. \n",
    "\n",
    "* <b>isGenderFemale</b>: \n",
    "Indicator, if the userId is female or not. There might be a correlation between the gender and the sensitivity for churning\n",
    "* <b>label (churned user)</b>: \n",
    "Indicator, if the user churned or not. This is the label which needs to be predicted by the model. \n",
    "* <b>downgraded</b>: \n",
    "Indicator, if the user ever downgraded from paid to free tier. There might be a different behavior of a user, who ever downgraded vs. who did not in terms of churning. A downgraded customer might be already dissatisfied. \n",
    "* <b>isPaidCustomer</b>: \n",
    "Indicator, if the users latest level is the paid tier or not. Paid customers might have a higher restraint to churn. \n",
    "* <b>membershipDurationDays</b>: \n",
    "Number of days from first interaction with Sparkify to latest interaction with Sparkify. The membership duration might indicate the satisfaction towards the service. \n",
    "* <b>numberOfSongs, numberOfSongsPerDay</b>: \n",
    "Number of songs totally consumed by the user, and per day of membership in average. The Number of songs per day might indicate the level of usage of the service and indicate the level of satisfaction towards the service. \n",
    "* <b>thumbsDown, thumbsUp, relThumbsDown, relThumbsUp</b>: \n",
    "The rating behavior of the user. Total number of Thumb Up and Down interactions. Each rating interaction is also calculated per song consumed to achieve the number of Thumbs Up and Down per song listened to. This might indicate the satisfaction of the user towards Sparkify\n",
    "* <b>songsSkipped</b>: \n",
    "Number of songs skipped before they ended. This might indicate if an user receives bad song recommendation what might reduce the level of satisfaction. \n",
    "* <b>numberOfErrors, numberOfInteractions, relNumberOfErrors</b>: \n",
    "The number of Errors received from the service and versus all interactions with the system might indicate the system performance for the user. A bad system performance might end up in a higher level of dissatisfaction. \n",
    "* <b>downgradeAttempts</b>: \n",
    "How often did a user visit the \"Downgrade\"-page. An user might not downgrade direcly, but visit the downgrade page, rethink about it and decide not to submit the downgrade. But a user, trying to downgrade but not submitting the downgrade might already indicate a level of dissatisfaction towards the service.\n",
    "* <b>numberOfSongsPerSession</b>: \n",
    "When the service is used, how long does the user use the service. Longer session utilization might indicate a higher level of satisfaction. \n",
    "* <b>addedFriends</b>: \n",
    "The total number of friends added to the platform per user. Hypothis: The higher the social interaction with the system the higher might be the bonding to the system and the higher the restraints to churn. \n",
    "* <b>skew</b>: \n",
    "The skew of the distribution of songs per day per user (from first interaction to last). A right skewed distribution of songs might indicate a decrease of satisfaction of relevance of the service for the user. "
   ]
  },
  {
   "cell_type": "code",
   "execution_count": 16,
   "metadata": {},
   "outputs": [
    {
     "data": {
      "application/vnd.jupyter.widget-view+json": {
       "model_id": "ca509e6d27b34e41b777772ec6e1ca68",
       "version_major": 2,
       "version_minor": 0
      },
      "text/plain": [
       "VBox()"
      ]
     },
     "metadata": {},
     "output_type": "display_data"
    },
    {
     "data": {
      "application/vnd.jupyter.widget-view+json": {
       "model_id": "",
       "version_major": 2,
       "version_minor": 0
      },
      "text/plain": [
       "FloatProgress(value=0.0, bar_style='info', description='Progress:', layout=Layout(height='25px', width='50%'),…"
      ]
     },
     "metadata": {},
     "output_type": "display_data"
    }
   ],
   "source": [
    "# filtering out all rows with no user or session associated\n",
    "\n",
    "df = df.filter(F.col('userId')!='')\\\n",
    "       .filter(F.col('userId').isNull()==False)\\\n",
    "       .filter(F.col('sessionId').isNull()==False)"
   ]
  },
  {
   "cell_type": "code",
   "execution_count": 17,
   "metadata": {},
   "outputs": [
    {
     "data": {
      "application/vnd.jupyter.widget-view+json": {
       "model_id": "66c421e7a7614a1fad81289992c486dd",
       "version_major": 2,
       "version_minor": 0
      },
      "text/plain": [
       "VBox()"
      ]
     },
     "metadata": {},
     "output_type": "display_data"
    },
    {
     "data": {
      "application/vnd.jupyter.widget-view+json": {
       "model_id": "",
       "version_major": 2,
       "version_minor": 0
      },
      "text/plain": [
       "FloatProgress(value=0.0, bar_style='info', description='Progress:', layout=Layout(height='25px', width='50%'),…"
      ]
     },
     "metadata": {},
     "output_type": "display_data"
    },
    {
     "name": "stdout",
     "output_type": "stream",
     "text": [
      "+------+------+\n",
      "|userId|gender|\n",
      "+------+------+\n",
      "|    44|     F|\n",
      "|    46|     F|\n",
      "|    41|     F|\n",
      "|    72|     F|\n",
      "|300023|     F|\n",
      "+------+------+\n",
      "only showing top 5 rows"
     ]
    }
   ],
   "source": [
    "# creation of a dimensional user df\n",
    "\n",
    "user_cols = ['userId', 'gender']\n",
    "\n",
    "user_df = df.select(user_cols).drop_duplicates().cache()\n",
    "\n",
    "user_df.show(5)"
   ]
  },
  {
   "cell_type": "code",
   "execution_count": 18,
   "metadata": {},
   "outputs": [
    {
     "data": {
      "application/vnd.jupyter.widget-view+json": {
       "model_id": "fa3d5d12127f487aaf45eb0c257c7d20",
       "version_major": 2,
       "version_minor": 0
      },
      "text/plain": [
       "VBox()"
      ]
     },
     "metadata": {},
     "output_type": "display_data"
    },
    {
     "data": {
      "application/vnd.jupyter.widget-view+json": {
       "model_id": "",
       "version_major": 2,
       "version_minor": 0
      },
      "text/plain": [
       "FloatProgress(value=0.0, bar_style='info', description='Progress:', layout=Layout(height='25px', width='50%'),…"
      ]
     },
     "metadata": {},
     "output_type": "display_data"
    },
    {
     "name": "stdout",
     "output_type": "stream",
     "text": [
      "user_df at correct level of detail"
     ]
    }
   ],
   "source": [
    "# qc for duplicated userIds\n",
    "\n",
    "if user_df.select('userId').groupBy(F.col('userId')).count().orderBy(F.col('count').desc()).filter(F.col('count')>1).count() > 0:\n",
    "    print('user_df has duplicated userId')\n",
    "else:\n",
    "    print('user_df at correct level of detail')"
   ]
  },
  {
   "cell_type": "code",
   "execution_count": 19,
   "metadata": {},
   "outputs": [
    {
     "data": {
      "application/vnd.jupyter.widget-view+json": {
       "model_id": "2d5a4ff043fb417496702885fc43decc",
       "version_major": 2,
       "version_minor": 0
      },
      "text/plain": [
       "VBox()"
      ]
     },
     "metadata": {},
     "output_type": "display_data"
    },
    {
     "data": {
      "application/vnd.jupyter.widget-view+json": {
       "model_id": "",
       "version_major": 2,
       "version_minor": 0
      },
      "text/plain": [
       "FloatProgress(value=0.0, bar_style='info', description='Progress:', layout=Layout(height='25px', width='50%'),…"
      ]
     },
     "metadata": {},
     "output_type": "display_data"
    }
   ],
   "source": [
    "#There is a gender null in the origin dataset but the gender null is associated to userId null only. userId null had been filtered out the dataset. \n",
    "def is_gener_female(user_df):\n",
    "    '''\n",
    "    INPUT:\n",
    "    user_df - spark df with one row per user_id\n",
    "    \n",
    "    OUTPUT\n",
    "    user_df - spark df with added column 'isGenderFemale'\n",
    "    \n",
    "    This function adds an indicator for customers churned from service to user_df.\n",
    "\n",
    "    '''\n",
    "\n",
    "    user_df = user_df.withColumn('isGenderFemale', F.when(F.col('gender')=='F', F.lit(1)).otherwise(F.lit(0)))\n",
    "    \n",
    "    return user_df\n",
    "\n",
    "user_df = is_gener_female(user_df)"
   ]
  },
  {
   "cell_type": "code",
   "execution_count": 20,
   "metadata": {},
   "outputs": [
    {
     "data": {
      "application/vnd.jupyter.widget-view+json": {
       "model_id": "0990b302069d49e8bfed06b0a8e9223b",
       "version_major": 2,
       "version_minor": 0
      },
      "text/plain": [
       "VBox()"
      ]
     },
     "metadata": {},
     "output_type": "display_data"
    },
    {
     "data": {
      "application/vnd.jupyter.widget-view+json": {
       "model_id": "",
       "version_major": 2,
       "version_minor": 0
      },
      "text/plain": [
       "FloatProgress(value=0.0, bar_style='info', description='Progress:', layout=Layout(height='25px', width='50%'),…"
      ]
     },
     "metadata": {},
     "output_type": "display_data"
    }
   ],
   "source": [
    "# adding churned users to user_df\n",
    "\n",
    "def churned_users(df, user_df):\n",
    "    '''\n",
    "    INPUT:\n",
    "    df - log df structure\n",
    "    user_df - spark df with one row per user_id\n",
    "    \n",
    "    OUTPUT\n",
    "    user_df - spark df with added column 'churned'\n",
    "    \n",
    "    This function adds an indicator for customers churned from service to user_df.\n",
    "\n",
    "    '''\n",
    "    \n",
    "    churned_users = df.filter((F.col('page') == 'Cancellation Confirmation')).select('userId').drop_duplicates()\n",
    "    churned_users = churned_users.withColumn('label', F.lit(1))\n",
    "\n",
    "    user_df = user_df.join(churned_users, 'userId', how='left').fillna(value=0, subset=['label'])\n",
    "    \n",
    "    return user_df\n",
    "\n",
    "user_df = churned_users(df, user_df)"
   ]
  },
  {
   "cell_type": "code",
   "execution_count": 21,
   "metadata": {},
   "outputs": [
    {
     "data": {
      "application/vnd.jupyter.widget-view+json": {
       "model_id": "6ba907cbcc284f558ccf7af58391294c",
       "version_major": 2,
       "version_minor": 0
      },
      "text/plain": [
       "VBox()"
      ]
     },
     "metadata": {},
     "output_type": "display_data"
    },
    {
     "data": {
      "application/vnd.jupyter.widget-view+json": {
       "model_id": "",
       "version_major": 2,
       "version_minor": 0
      },
      "text/plain": [
       "FloatProgress(value=0.0, bar_style='info', description='Progress:', layout=Layout(height='25px', width='50%'),…"
      ]
     },
     "metadata": {},
     "output_type": "display_data"
    }
   ],
   "source": [
    "# adding indicator for users who downgraded from paid to free for user_df\n",
    "\n",
    "def downgraded(df, user_df):\n",
    "    '''\n",
    "    INPUT:\n",
    "    df - log df structure\n",
    "    user_df - spark df with one row per user_id\n",
    "    \n",
    "    OUTPUT\n",
    "    user_df - spark df with added column 'downgraded'\n",
    "    \n",
    "    This function adds an indicator for customers downgraded from paid to free per userId to user_df.\n",
    "\n",
    "    '''\n",
    "\n",
    "    downgraded_users = df.filter((F.col('page') == 'Submit Downgrade')).select('userId').drop_duplicates()\n",
    "    downgraded_users = downgraded_users.withColumn('downgraded', F.lit(1))\n",
    "\n",
    "    user_df = user_df.join(downgraded_users, 'userId', how='left').fillna(value=0, subset=['downgraded'])\n",
    "    \n",
    "    return user_df\n",
    "\n",
    "user_df = downgraded(df, user_df)"
   ]
  },
  {
   "cell_type": "code",
   "execution_count": 22,
   "metadata": {},
   "outputs": [
    {
     "data": {
      "application/vnd.jupyter.widget-view+json": {
       "model_id": "918001dc005e4ea48e24708e70ce7340",
       "version_major": 2,
       "version_minor": 0
      },
      "text/plain": [
       "VBox()"
      ]
     },
     "metadata": {},
     "output_type": "display_data"
    },
    {
     "data": {
      "application/vnd.jupyter.widget-view+json": {
       "model_id": "",
       "version_major": 2,
       "version_minor": 0
      },
      "text/plain": [
       "FloatProgress(value=0.0, bar_style='info', description='Progress:', layout=Layout(height='25px', width='50%'),…"
      ]
     },
     "metadata": {},
     "output_type": "display_data"
    }
   ],
   "source": [
    "def is_paid_customer(df, user_df):\n",
    "    '''\n",
    "    INPUT:\n",
    "    df - log df structure\n",
    "    user_df - spark df with one row per user_id\n",
    "    \n",
    "    OUTPUT\n",
    "    user_df - spark df with added column 'isPaidCustomer'\n",
    "    \n",
    "    This function adds an indicator per user if the latest status of the customer is paid level to user_df.\n",
    "\n",
    "    '''\n",
    "\n",
    "    latest_tier = df.withColumn('rn_desc', F.row_number().over(Window.partitionBy(F.col('userId')).orderBy(F.col('ts').desc())))\\\n",
    "                    .filter(F.col('rn_desc')==1)\\\n",
    "                    .withColumn('isPaidCustomer', F.when(F.col('level')=='paid', F.lit(1)).otherwise(F.lit(0)))\\\n",
    "                    .select('userId','isPaidCustomer')\n",
    "\n",
    "    user_df = user_df.join(latest_tier, 'userId', how='left').fillna(value=0, subset=['isPaidCustomer'])\n",
    "    \n",
    "    return user_df\n",
    "\n",
    "user_df = is_paid_customer(df, user_df)"
   ]
  },
  {
   "cell_type": "code",
   "execution_count": 23,
   "metadata": {},
   "outputs": [
    {
     "data": {
      "application/vnd.jupyter.widget-view+json": {
       "model_id": "f6c342b69ab54c1483437b68fb3c1c23",
       "version_major": 2,
       "version_minor": 0
      },
      "text/plain": [
       "VBox()"
      ]
     },
     "metadata": {},
     "output_type": "display_data"
    },
    {
     "data": {
      "application/vnd.jupyter.widget-view+json": {
       "model_id": "",
       "version_major": 2,
       "version_minor": 0
      },
      "text/plain": [
       "FloatProgress(value=0.0, bar_style='info', description='Progress:', layout=Layout(height='25px', width='50%'),…"
      ]
     },
     "metadata": {},
     "output_type": "display_data"
    }
   ],
   "source": [
    "# adding number of membership days per user to user_df\n",
    "def membership_duration(df, user_df):\n",
    "    '''\n",
    "    INPUT:\n",
    "    df - log df structure\n",
    "    user_df - spark df with one row per user_id\n",
    "    \n",
    "    OUTPUT\n",
    "    user_df - spark df with added column 'membershipDurationDays'\n",
    "    \n",
    "    This function calculates the membership duration in days per userId and adds this to user_df. \n",
    "\n",
    "    '''\n",
    "\n",
    "    df_member = df.select('userId','ts').groupBy('userId').agg(F.min('ts'), F.max('ts'))\n",
    "    df_member = df_member.withColumn('membershipDurationDays', (F.col('max(ts)') - F.col('min(ts)'))/1000/60/60/24)\n",
    "\n",
    "    user_df = user_df.join(df_member, 'userId', how='left').fillna(value=0, subset=['membershipDurationDays'])\n",
    "    \n",
    "    return user_df\n",
    "\n",
    "user_df = membership_duration(df, user_df)"
   ]
  },
  {
   "cell_type": "code",
   "execution_count": 24,
   "metadata": {},
   "outputs": [
    {
     "data": {
      "application/vnd.jupyter.widget-view+json": {
       "model_id": "ae2e428b9a7b4a66a2e613c40b141706",
       "version_major": 2,
       "version_minor": 0
      },
      "text/plain": [
       "VBox()"
      ]
     },
     "metadata": {},
     "output_type": "display_data"
    },
    {
     "data": {
      "application/vnd.jupyter.widget-view+json": {
       "model_id": "",
       "version_major": 2,
       "version_minor": 0
      },
      "text/plain": [
       "FloatProgress(value=0.0, bar_style='info', description='Progress:', layout=Layout(height='25px', width='50%'),…"
      ]
     },
     "metadata": {},
     "output_type": "display_data"
    }
   ],
   "source": [
    "def number_of_songs(df, user_df):\n",
    "    '''\n",
    "    INPUT:\n",
    "    df - log df structure\n",
    "    user_df - spark df with one row per user_id\n",
    "    \n",
    "    OUTPUT\n",
    "    user_df - spark df with added columns 'numberOfSongs', 'numberOfSongsPerDay'\n",
    "    \n",
    "    This function calculates the total number of songs consumed per userId and adds this column to the user_df. \n",
    "    Additionally this function calculates based on the column 'membershipDurationDays' present in user_df the number of Songs per day per userId.\n",
    "\n",
    "    '''\n",
    "    \n",
    "    df_listen = df.filter(F.col('song').isNull()==False)\n",
    "    df_listen = df_listen.select('userId','song').groupBy(F.col('userId')).count().withColumnRenamed('count','numberOfSongs')\n",
    "\n",
    "    user_df = user_df.join(df_listen, 'userId', how='left').fillna(value=0, subset=['numberOfSongs'])\n",
    "    user_df = user_df.withColumn('numberOfSongsPerDay', F.col('numberOfSongs')/F.col('membershipDurationDays'))\n",
    "    \n",
    "    return user_df\n",
    "    \n",
    "user_df = number_of_songs(df, user_df)"
   ]
  },
  {
   "cell_type": "code",
   "execution_count": 25,
   "metadata": {},
   "outputs": [
    {
     "data": {
      "application/vnd.jupyter.widget-view+json": {
       "model_id": "d03e38799ff74d508f51ba402664f7b2",
       "version_major": 2,
       "version_minor": 0
      },
      "text/plain": [
       "VBox()"
      ]
     },
     "metadata": {},
     "output_type": "display_data"
    },
    {
     "data": {
      "application/vnd.jupyter.widget-view+json": {
       "model_id": "",
       "version_major": 2,
       "version_minor": 0
      },
      "text/plain": [
       "FloatProgress(value=0.0, bar_style='info', description='Progress:', layout=Layout(height='25px', width='50%'),…"
      ]
     },
     "metadata": {},
     "output_type": "display_data"
    }
   ],
   "source": [
    "def rating(df, user_df):\n",
    "    '''\n",
    "    INPUT:\n",
    "    df - log df structure\n",
    "    user_df - spark df with one row per user_id\n",
    "    \n",
    "    OUTPUT\n",
    "    user_df - spark df with added columns 'thumbsDown', 'thumbsUp', 'relThumbsDown', 'relThumbsUp'\n",
    "    \n",
    "    This function calculates the total number of Thumbs Down and total number of Thumbs Up interactions per userId and adds those to the user_df. \n",
    "    Additionally this function calculates based on the column 'numberOfSongs' present in user_df the number relative number of Thumbs Up and Thumbs Down\n",
    "    interaction per song per userId.\n",
    "    '''\n",
    "    \n",
    "    df_rating = df.filter(F.col('page').isin(['Thumbs Down','Thumbs Up'])==True).select('userId','page').groupBy(F.col('userId')).pivot('page').count()\n",
    "    df_rating = df_rating.withColumnRenamed('Thumbs Down','thumbsDown').withColumnRenamed('Thumbs Up','thumbsUp')\n",
    "\n",
    "    user_df = user_df.join(df_rating, 'userId', how='left').fillna(value=0, subset=['thumbsDown','thumbsUp'])\n",
    "    \n",
    "    user_df = user_df.withColumn('relThumbsDown', F.col('thumbsDown')/F.col('numberOfSongs'))\\\n",
    "                     .withColumn('relThumbsUp', F.col('thumbsUp')/F.col('numberOfSongs'))\n",
    "    \n",
    "    return user_df\n",
    "\n",
    "user_df = rating(df, user_df)"
   ]
  },
  {
   "cell_type": "code",
   "execution_count": 26,
   "metadata": {},
   "outputs": [
    {
     "data": {
      "application/vnd.jupyter.widget-view+json": {
       "model_id": "1967d360a97b463880f082d3f99c21ae",
       "version_major": 2,
       "version_minor": 0
      },
      "text/plain": [
       "VBox()"
      ]
     },
     "metadata": {},
     "output_type": "display_data"
    },
    {
     "data": {
      "application/vnd.jupyter.widget-view+json": {
       "model_id": "",
       "version_major": 2,
       "version_minor": 0
      },
      "text/plain": [
       "FloatProgress(value=0.0, bar_style='info', description='Progress:', layout=Layout(height='25px', width='50%'),…"
      ]
     },
     "metadata": {},
     "output_type": "display_data"
    }
   ],
   "source": [
    "def songs_skipped(df, user_df):\n",
    "    '''\n",
    "    INPUT:\n",
    "    df - log df structure\n",
    "    user_df - spark df with one row per user_id\n",
    "    \n",
    "    OUTPUT\n",
    "    user_df - spark df with added columns 'songsSkipped', 'relSongsskipped'\n",
    "    \n",
    "    This function calculates the total number of songs skipped per userId and adds this column to the user_df. The total number of songs skipped\n",
    "    is defined as interaction when the next song is played at least 5 seconds before the former song ended. \n",
    "    Additionally this function calculates based on the column 'numberOfSongs' present in user_df the relative number of Songs skipped per song per userId.\n",
    "    '''\n",
    "\n",
    "    # filter df for all song listening activities\n",
    "    df_skipped = df.filter(F.col('song').isNull()==False).orderBy(F.col('ts'))\n",
    "\n",
    "    # 1. getting the sessionId of the next activity per user\n",
    "    # 2. if the next sessionId of the user activity equals to the former, getting the ts of the next sessionId\n",
    "    # 3. calculating the difference of the ts of the former and the next activity\n",
    "    # 4. calculating the difference of the duration between the two consecutive activities and the length of the song. if this difference is greater than 5 seconds this song is defined as skipped song. \n",
    "    df_skipped = df_skipped.withColumn('sessionIdNextSong', F.lead(F.col('sessionId'), 1).over(Window.orderBy('userId','ts')))\\\n",
    "                           .withColumn('tsAfterSong', F.when(F.col('sessionIdNextSong')==F.col('sessionId'), F.lead(F.col('ts'), 1).over(Window.orderBy('userId','ts')))\\\n",
    "                                                       .otherwise(F.lit(None)))\\\n",
    "                           .withColumn('durationOfSongListened', F.col('tsAfterSong') - F.col('ts')) \\\n",
    "                           .withColumn('songSkipped', F.when(F.abs(F.col('durationOfSongListened')/1000 - F.col('length')) > 10, 1).otherwise(0))\n",
    "\n",
    "    #calculating the number of skipped songs per userId\n",
    "    df_skipped = df_skipped.filter(F.col('songSkipped')==1).select('userId').groupBy(F.col('userId')).count()\n",
    "    df_skipped = df_skipped.withColumnRenamed('count','songsSkipped')\n",
    "\n",
    "    #adding the number of skipped songs to the user_df\n",
    "    user_df = user_df.join(df_skipped, 'userId', how='left').fillna(value=0, subset=['songsSkipped'])\n",
    "    \n",
    "    #calculating the relative number of skipped songs\n",
    "    user_df = user_df.withColumn('relSongsskipped', F.col('songsSkipped')/F.col('numberOfSongs'))\n",
    "    \n",
    "    return user_df\n",
    "\n",
    "user_df = songs_skipped(df, user_df)"
   ]
  },
  {
   "cell_type": "code",
   "execution_count": 27,
   "metadata": {},
   "outputs": [
    {
     "data": {
      "application/vnd.jupyter.widget-view+json": {
       "model_id": "128c1890a87b4081a2fbc1ba389b464d",
       "version_major": 2,
       "version_minor": 0
      },
      "text/plain": [
       "VBox()"
      ]
     },
     "metadata": {},
     "output_type": "display_data"
    },
    {
     "data": {
      "application/vnd.jupyter.widget-view+json": {
       "model_id": "",
       "version_major": 2,
       "version_minor": 0
      },
      "text/plain": [
       "FloatProgress(value=0.0, bar_style='info', description='Progress:', layout=Layout(height='25px', width='50%'),…"
      ]
     },
     "metadata": {},
     "output_type": "display_data"
    }
   ],
   "source": [
    "def errors(df, user_df):\n",
    "    '''\n",
    "    INPUT:\n",
    "    df - log df structure\n",
    "    user_df - spark df with one row per user_id\n",
    "    \n",
    "    OUTPUT\n",
    "    user_df - spark df with added columns 'numberOfErrors', 'relNumberOfErrors'\n",
    "    \n",
    "    This function calculates the total number of errors occured per userId and the total number of activities per userId \n",
    "    and adds these column to the user_df. \n",
    "    Additionally this function calculates the relative number of errors per activity per userId.\n",
    "    '''\n",
    "    # number of errors occured per user added to user_df\n",
    "    \n",
    "    df_err = df.filter(F.col('status')==404).select('userId').groupBy('userId').count()\n",
    "    df_err = df_err.withColumnRenamed('count', 'numberOfErrors')\n",
    "\n",
    "    user_df = user_df.join(df_err, 'userId', how='left').fillna(value=0, subset=['numberOfErrors'])\n",
    "    \n",
    "    \n",
    "    # in order to express the number of errors relatively the total number of interactions per user is added to user_df\n",
    "    # based on number of errors and total number of interactions the relative number of errors is calculated\n",
    "\n",
    "    df_interact = df.select('userId').groupBy('userId').count()\n",
    "    df_interact = df_interact.withColumnRenamed('count','numberOfInteractions')\n",
    "    user_df = user_df.join(df_interact, 'userId', how='left')\n",
    "\n",
    "    user_df = user_df.withColumn('relNumberOfErrors', F.col('numberOfErrors')/F.col('numberOfInteractions'))\n",
    "    \n",
    "    return user_df\n",
    "\n",
    "user_df = errors(df, user_df)"
   ]
  },
  {
   "cell_type": "code",
   "execution_count": 28,
   "metadata": {},
   "outputs": [
    {
     "data": {
      "application/vnd.jupyter.widget-view+json": {
       "model_id": "965fd6a7584a4bf1be20674cf96f131b",
       "version_major": 2,
       "version_minor": 0
      },
      "text/plain": [
       "VBox()"
      ]
     },
     "metadata": {},
     "output_type": "display_data"
    },
    {
     "data": {
      "application/vnd.jupyter.widget-view+json": {
       "model_id": "",
       "version_major": 2,
       "version_minor": 0
      },
      "text/plain": [
       "FloatProgress(value=0.0, bar_style='info', description='Progress:', layout=Layout(height='25px', width='50%'),…"
      ]
     },
     "metadata": {},
     "output_type": "display_data"
    }
   ],
   "source": [
    "def downgrade_attempts(df, user_df):\n",
    "    '''\n",
    "    INPUT:\n",
    "    df - log df structure\n",
    "    user_df - spark df with one row per user_id\n",
    "    \n",
    "    OUTPUT\n",
    "    user_df - spark df with added columns 'churnAttempts'\n",
    "    \n",
    "    This function calculates the total number of 'Cancel' (or 'Downgrade' if paid = True) activities per userId and adds this column to the user_df. \n",
    "    '''\n",
    "    # the number of downgrade attempts  added to user_df\n",
    "\n",
    "    downgrade_indicator=['Downgrade']\n",
    "    \n",
    "    df_churn = df.filter(F.col('page').isin(downgrade_indicator)).select('userId').groupBy('userId').count()\n",
    "    df_churn = df_churn.withColumnRenamed('count', 'downgradeAttempts')\n",
    "\n",
    "    user_df = user_df.join(df_churn, 'userId', how='left').fillna(value=0, subset=['downgradeAttempts'])\n",
    "    \n",
    "    return user_df\n",
    "\n",
    "user_df = downgrade_attempts(df, user_df)"
   ]
  },
  {
   "cell_type": "code",
   "execution_count": 29,
   "metadata": {},
   "outputs": [
    {
     "data": {
      "application/vnd.jupyter.widget-view+json": {
       "model_id": "8cc6fcdcfb154c928157e5b50ed8593a",
       "version_major": 2,
       "version_minor": 0
      },
      "text/plain": [
       "VBox()"
      ]
     },
     "metadata": {},
     "output_type": "display_data"
    },
    {
     "data": {
      "application/vnd.jupyter.widget-view+json": {
       "model_id": "",
       "version_major": 2,
       "version_minor": 0
      },
      "text/plain": [
       "FloatProgress(value=0.0, bar_style='info', description='Progress:', layout=Layout(height='25px', width='50%'),…"
      ]
     },
     "metadata": {},
     "output_type": "display_data"
    }
   ],
   "source": [
    "def mean_songs_per_session(df, user_df):\n",
    "    '''\n",
    "    INPUT:\n",
    "    df - log df structure\n",
    "    user_df - spark df with one row per user_id\n",
    "    \n",
    "    OUTPUT\n",
    "    user_df - spark df with added columns 'numberOfSongsPerSession'\n",
    "    \n",
    "    This function calculates the mean number of songs per sessionId per userId and adds this column to the user_df. \n",
    "    '''\n",
    "    # the number of songs per session in averade added to user_df\n",
    "    \n",
    "    df_mean = df.filter(F.col('song').isNull()==False).groupBy('userId', 'sessionId').count()\n",
    "    df_mean = df_mean.select('userId','count').groupBy('userId').mean()\n",
    "    df_mean = df_mean.withColumnRenamed('avg(count)', 'numberOfSongsPerSession')\n",
    "\n",
    "    user_df = user_df.join(df_mean, 'userId', how='left').fillna(value=0, subset=['numberOfSongsPerSession'])\n",
    "    \n",
    "    return user_df\n",
    "\n",
    "user_df = mean_songs_per_session(df, user_df)"
   ]
  },
  {
   "cell_type": "code",
   "execution_count": 30,
   "metadata": {},
   "outputs": [
    {
     "data": {
      "application/vnd.jupyter.widget-view+json": {
       "model_id": "5a11a16535824b249387eb6b72a11cad",
       "version_major": 2,
       "version_minor": 0
      },
      "text/plain": [
       "VBox()"
      ]
     },
     "metadata": {},
     "output_type": "display_data"
    },
    {
     "data": {
      "application/vnd.jupyter.widget-view+json": {
       "model_id": "",
       "version_major": 2,
       "version_minor": 0
      },
      "text/plain": [
       "FloatProgress(value=0.0, bar_style='info', description='Progress:', layout=Layout(height='25px', width='50%'),…"
      ]
     },
     "metadata": {},
     "output_type": "display_data"
    }
   ],
   "source": [
    "def added_friends(df, user_df):\n",
    "    '''\n",
    "    INPUT:\n",
    "    df - log df structure\n",
    "    user_df - spark df with one row per user_id\n",
    "    \n",
    "    OUTPUT\n",
    "    user_df - spark df with added columns 'addedFriends'\n",
    "    \n",
    "    This function calculates the 'Add Friend' activities per userId and adds this column to the user_df. \n",
    "    '''\n",
    "    \n",
    "    df_friend = df.filter(F.col('page')=='Add Friend').groupBy('userId').count()\n",
    "    df_friend = df_friend.withColumnRenamed('count', 'addedFriends')\n",
    "\n",
    "    user_df = user_df.join(df_friend, 'userId', how='left').fillna(value=0, subset=['addedFriends'])\n",
    "    \n",
    "    return user_df\n",
    "\n",
    "user_df = added_friends(df, user_df)"
   ]
  },
  {
   "cell_type": "code",
   "execution_count": 31,
   "metadata": {},
   "outputs": [
    {
     "data": {
      "application/vnd.jupyter.widget-view+json": {
       "model_id": "2e5ff10b376c496297abb4fdaae09f36",
       "version_major": 2,
       "version_minor": 0
      },
      "text/plain": [
       "VBox()"
      ]
     },
     "metadata": {},
     "output_type": "display_data"
    },
    {
     "data": {
      "application/vnd.jupyter.widget-view+json": {
       "model_id": "",
       "version_major": 2,
       "version_minor": 0
      },
      "text/plain": [
       "FloatProgress(value=0.0, bar_style='info', description='Progress:', layout=Layout(height='25px', width='50%'),…"
      ]
     },
     "metadata": {},
     "output_type": "display_data"
    }
   ],
   "source": [
    "def skew_songs_per_day(df, user_df):\n",
    "    '''\n",
    "    INPUT:\n",
    "    df - log df structure\n",
    "    user_df - spark df with one row per user_id\n",
    "    \n",
    "    OUTPUT\n",
    "    user_df - spark df with added columns 'skew'\n",
    "    \n",
    "    This function calculates the the distribution of song listening activities per userId over time. Based on this distribution the skew of the \n",
    "    distribution is calculated and added to the user_df. \n",
    "    '''\n",
    "    \n",
    "    df_skew = df.filter(F.col('song').isNull()==False).withColumn('date', (F.col('ts')).cast('timestamp')).select('userId','ts')\n",
    "    df_skew = df_skew.groupBy('userId').agg(F.skewness('ts')).withColumnRenamed('skewness(ts)', 'skew')\n",
    "\n",
    "    user_df = user_df.join(df_skew, ['userId'], how='left').fillna(value=0, subset=['skew'])\n",
    "    \n",
    "    return user_df\n",
    "\n",
    "user_df = skew_songs_per_day(df, user_df)"
   ]
  },
  {
   "cell_type": "markdown",
   "metadata": {},
   "source": [
    "### Dataset finalization"
   ]
  },
  {
   "cell_type": "code",
   "execution_count": 32,
   "metadata": {},
   "outputs": [
    {
     "data": {
      "application/vnd.jupyter.widget-view+json": {
       "model_id": "75887a06bbf4493bbc2fe0019e88ae4c",
       "version_major": 2,
       "version_minor": 0
      },
      "text/plain": [
       "VBox()"
      ]
     },
     "metadata": {},
     "output_type": "display_data"
    },
    {
     "data": {
      "application/vnd.jupyter.widget-view+json": {
       "model_id": "",
       "version_major": 2,
       "version_minor": 0
      },
      "text/plain": [
       "FloatProgress(value=0.0, bar_style='info', description='Progress:', layout=Layout(height='25px', width='50%'),…"
      ]
     },
     "metadata": {},
     "output_type": "display_data"
    }
   ],
   "source": [
    "#due to sparks lazy evaluation, the user_df will be cached\n",
    "user_df = user_df.persist()"
   ]
  },
  {
   "cell_type": "code",
   "execution_count": 33,
   "metadata": {},
   "outputs": [
    {
     "data": {
      "application/vnd.jupyter.widget-view+json": {
       "model_id": "31d8ff9e063e4ed4b41f948bc0b07dcc",
       "version_major": 2,
       "version_minor": 0
      },
      "text/plain": [
       "VBox()"
      ]
     },
     "metadata": {},
     "output_type": "display_data"
    },
    {
     "data": {
      "application/vnd.jupyter.widget-view+json": {
       "model_id": "",
       "version_major": 2,
       "version_minor": 0
      },
      "text/plain": [
       "FloatProgress(value=0.0, bar_style='info', description='Progress:', layout=Layout(height='25px', width='50%'),…"
      ]
     },
     "metadata": {},
     "output_type": "display_data"
    },
    {
     "name": "stdout",
     "output_type": "stream",
     "text": [
      "root\n",
      " |-- userId: string (nullable = true)\n",
      " |-- gender: string (nullable = true)\n",
      " |-- isGenderFemale: integer (nullable = false)\n",
      " |-- label: integer (nullable = true)\n",
      " |-- downgraded: integer (nullable = true)\n",
      " |-- isPaidCustomer: integer (nullable = true)\n",
      " |-- min(ts): long (nullable = true)\n",
      " |-- max(ts): long (nullable = true)\n",
      " |-- membershipDurationDays: double (nullable = false)\n",
      " |-- numberOfSongs: long (nullable = true)\n",
      " |-- numberOfSongsPerDay: double (nullable = true)\n",
      " |-- thumbsDown: long (nullable = true)\n",
      " |-- thumbsUp: long (nullable = true)\n",
      " |-- relThumbsDown: double (nullable = true)\n",
      " |-- relThumbsUp: double (nullable = true)\n",
      " |-- songsSkipped: long (nullable = true)\n",
      " |-- relSongsskipped: double (nullable = true)\n",
      " |-- numberOfErrors: long (nullable = true)\n",
      " |-- numberOfInteractions: long (nullable = true)\n",
      " |-- relNumberOfErrors: double (nullable = true)\n",
      " |-- downgradeAttempts: long (nullable = true)\n",
      " |-- numberOfSongsPerSession: double (nullable = false)\n",
      " |-- addedFriends: long (nullable = true)\n",
      " |-- skew: double (nullable = false)"
     ]
    }
   ],
   "source": [
    "user_df.printSchema()"
   ]
  },
  {
   "cell_type": "code",
   "execution_count": 34,
   "metadata": {},
   "outputs": [
    {
     "data": {
      "application/vnd.jupyter.widget-view+json": {
       "model_id": "da77519b54b149c7831b900039518c8e",
       "version_major": 2,
       "version_minor": 0
      },
      "text/plain": [
       "VBox()"
      ]
     },
     "metadata": {},
     "output_type": "display_data"
    },
    {
     "data": {
      "application/vnd.jupyter.widget-view+json": {
       "model_id": "",
       "version_major": 2,
       "version_minor": 0
      },
      "text/plain": [
       "FloatProgress(value=0.0, bar_style='info', description='Progress:', layout=Layout(height='25px', width='50%'),…"
      ]
     },
     "metadata": {},
     "output_type": "display_data"
    }
   ],
   "source": [
    "# Number of null values in any column of the user_df\n",
    "\n",
    "# Reference: https://stackoverflow.com/questions/44627386/how-to-find-count-of-null-and-nan-values-for-each-column-in-a-pyspark-dataframe\n",
    "# Reference: https://stackoverflow.com/questions/31955309/add-column-sum-as-new-column-in-pyspark-dataframe/31955747\n",
    "\n",
    "def numbers_of_null(user_df):\n",
    "    '''\n",
    "    INPUT:\n",
    "    user_df - spark df with one row per user_id\n",
    "    \n",
    "    OUTPUT\n",
    "    None    \n",
    "    \n",
    "    This function prints the number of null values in all columns of the given df\n",
    "    '''\n",
    "\n",
    "    number_of_nulls = user_df.select([F.count(F.when(F.isnan(c), c)).alias(c) for c in user_df.columns])\n",
    "    number_of_nulls = number_of_nulls.withColumn('total_number_of_nulls', sum(number_of_nulls[col] for col in number_of_nulls.columns))\n",
    "    number_of_nulls.select('total_number_of_nulls').show()"
   ]
  },
  {
   "cell_type": "code",
   "execution_count": 35,
   "metadata": {},
   "outputs": [
    {
     "data": {
      "application/vnd.jupyter.widget-view+json": {
       "model_id": "b1982b4f342b4d859d387f3f9b5bf648",
       "version_major": 2,
       "version_minor": 0
      },
      "text/plain": [
       "VBox()"
      ]
     },
     "metadata": {},
     "output_type": "display_data"
    },
    {
     "data": {
      "application/vnd.jupyter.widget-view+json": {
       "model_id": "",
       "version_major": 2,
       "version_minor": 0
      },
      "text/plain": [
       "FloatProgress(value=0.0, bar_style='info', description='Progress:', layout=Layout(height='25px', width='50%'),…"
      ]
     },
     "metadata": {},
     "output_type": "display_data"
    },
    {
     "name": "stdout",
     "output_type": "stream",
     "text": [
      "+---------------------+\n",
      "|total_number_of_nulls|\n",
      "+---------------------+\n",
      "|                    0|\n",
      "+---------------------+"
     ]
    }
   ],
   "source": [
    "numbers_of_null(user_df)"
   ]
  },
  {
   "cell_type": "markdown",
   "metadata": {},
   "source": [
    "## Section 4: Modeling "
   ]
  },
  {
   "cell_type": "markdown",
   "metadata": {},
   "source": [
    "For the modeling part, the user_df will be transformed that way, that only needed columns will be kept. \n",
    "The df will be split into training and test dataset with a train-test split of 80/20. \n",
    "The df will be vector assembled and scaled using the standard scaler. \n",
    "\n",
    "For the modeling part, a logistic regression and a gradient boost tree model will be trained and compared. The main measure to evaluate will be the recall, as already justified at the beginning of this notebook. "
   ]
  },
  {
   "cell_type": "code",
   "execution_count": 36,
   "metadata": {},
   "outputs": [
    {
     "data": {
      "application/vnd.jupyter.widget-view+json": {
       "model_id": "4f28ff119346443bb386bcae38ceb86e",
       "version_major": 2,
       "version_minor": 0
      },
      "text/plain": [
       "VBox()"
      ]
     },
     "metadata": {},
     "output_type": "display_data"
    },
    {
     "data": {
      "application/vnd.jupyter.widget-view+json": {
       "model_id": "",
       "version_major": 2,
       "version_minor": 0
      },
      "text/plain": [
       "FloatProgress(value=0.0, bar_style='info', description='Progress:', layout=Layout(height='25px', width='50%'),…"
      ]
     },
     "metadata": {},
     "output_type": "display_data"
    }
   ],
   "source": [
    "def train_test_df_creation(user_df, chosen_cols, train_size=.8, seed=42):\n",
    "    '''\n",
    "    INPUT:\n",
    "    user_df - spark df with one row per user_id\n",
    "    chosen_cols - list of columns to be present in the output df\n",
    "    train_size - float between 0 and 1 defining the split of the train df\n",
    "    seed - random seed of the random split\n",
    "    \n",
    "    OUTPUT\n",
    "    train_df - spark df split based on the train_size randomly based on the seed with only chosen_cols present\n",
    "    test_df - spark df split based on the train_size randomly based on the seed with only chosen_cols present\n",
    "\n",
    "    This function \n",
    "    1. selects only the chosen_cols and\n",
    "    2. performs a random split based on train_size and seed\n",
    "    '''\n",
    "    \n",
    "    user_df = user_df.select(chosen_cols)\n",
    "\n",
    "    train_df, test_df = user_df.randomSplit([train_size, 1-train_size], seed=seed)\n",
    "\n",
    "    train_df, test_df = train_df.cache(), test_df.cache()\n",
    "    \n",
    "    return train_df, test_df\n"
   ]
  },
  {
   "cell_type": "code",
   "execution_count": 37,
   "metadata": {},
   "outputs": [
    {
     "data": {
      "application/vnd.jupyter.widget-view+json": {
       "model_id": "ec574ead248445d8ae1707850a780a79",
       "version_major": 2,
       "version_minor": 0
      },
      "text/plain": [
       "VBox()"
      ]
     },
     "metadata": {},
     "output_type": "display_data"
    },
    {
     "data": {
      "application/vnd.jupyter.widget-view+json": {
       "model_id": "",
       "version_major": 2,
       "version_minor": 0
      },
      "text/plain": [
       "FloatProgress(value=0.0, bar_style='info', description='Progress:', layout=Layout(height='25px', width='50%'),…"
      ]
     },
     "metadata": {},
     "output_type": "display_data"
    }
   ],
   "source": [
    "chosen_cols = ['userId','isGenderFemale','label','membershipDurationDays','numberOfSongs','numberOfSongsPerDay','downgradeAttempts',\n",
    "               'relThumbsDown','relThumbsUp','relSongsSkipped','relNumberOfErrors','numberOfSongsPerSession',\n",
    "               'numberOfSongsPerSession','addedFriends','skew', 'downgraded', 'isPaidCustomer']\n",
    "\n",
    "train_df, test_df = train_test_df_creation(user_df, chosen_cols)"
   ]
  },
  {
   "cell_type": "markdown",
   "metadata": {},
   "source": [
    "## Model"
   ]
  },
  {
   "cell_type": "code",
   "execution_count": 38,
   "metadata": {},
   "outputs": [
    {
     "data": {
      "application/vnd.jupyter.widget-view+json": {
       "model_id": "7d40b4fd4d7c4d08a993b324b825500f",
       "version_major": 2,
       "version_minor": 0
      },
      "text/plain": [
       "VBox()"
      ]
     },
     "metadata": {},
     "output_type": "display_data"
    },
    {
     "data": {
      "application/vnd.jupyter.widget-view+json": {
       "model_id": "",
       "version_major": 2,
       "version_minor": 0
      },
      "text/plain": [
       "FloatProgress(value=0.0, bar_style='info', description='Progress:', layout=Layout(height='25px', width='50%'),…"
      ]
     },
     "metadata": {},
     "output_type": "display_data"
    }
   ],
   "source": [
    "def instantiate_assembler_scaler(inputCols):\n",
    "    '''\n",
    "    INPUT:\n",
    "    inputCols - list of columns to take into account for ML model\n",
    "    \n",
    "    OUTPUT:\n",
    "    None\n",
    "    \n",
    "    The VectorAssembler and the Standard Scaler will be instantiated.     \n",
    "    '''\n",
    "\n",
    "    assembler = VectorAssembler(inputCols=inputCols, outputCol='featureVec', handleInvalid='skip')\n",
    "    scaler = StandardScaler(inputCol='featureVec', outputCol='featureVecScaled')\n",
    "    \n",
    "    return assembler, scaler"
   ]
  },
  {
   "cell_type": "code",
   "execution_count": 39,
   "metadata": {},
   "outputs": [
    {
     "data": {
      "application/vnd.jupyter.widget-view+json": {
       "model_id": "a81f723709734b2b834d721828dd4812",
       "version_major": 2,
       "version_minor": 0
      },
      "text/plain": [
       "VBox()"
      ]
     },
     "metadata": {},
     "output_type": "display_data"
    },
    {
     "data": {
      "application/vnd.jupyter.widget-view+json": {
       "model_id": "",
       "version_major": 2,
       "version_minor": 0
      },
      "text/plain": [
       "FloatProgress(value=0.0, bar_style='info', description='Progress:', layout=Layout(height='25px', width='50%'),…"
      ]
     },
     "metadata": {},
     "output_type": "display_data"
    }
   ],
   "source": [
    "def calculate_lr_feature_importance(cv_model_lr, inputCols):\n",
    "    '''\n",
    "    INPUT:\n",
    "    cv_model_lr - CrossValidator Object of a linear regression model\n",
    "    inputCols - list of columns taken into account for model training\n",
    "    \n",
    "    OUTPUT:\n",
    "    feature importance - pandas dataframe of feature importances\n",
    "    \n",
    "    this function extracts the feature importance of the best model of the CV object and returns these into a pandas dataframe\n",
    "    '''\n",
    "    \n",
    "    shape0 = cv_model_lr.bestModel.stages[2].coefficientMatrix.values.shape[0]\n",
    "    \n",
    "    #retrieving lr coefficients (absolute) from cv_mode_lr\n",
    "    coef = cv_model_lr.bestModel.stages[2].coefficientMatrix.values.reshape(1,shape0)\n",
    "\n",
    "    #creation of pandas DF for feature importance\n",
    "    feature_importance = pd.DataFrame(coef, columns=inputCols).melt()\n",
    "    feature_importance['abs_value'] = feature_importance['value'].abs()\n",
    "    feature_importance = feature_importance.sort_values('abs_value', ascending=False)\n",
    "    \n",
    "    return feature_importance[['variable', 'value']]"
   ]
  },
  {
   "cell_type": "code",
   "execution_count": 40,
   "metadata": {},
   "outputs": [
    {
     "data": {
      "application/vnd.jupyter.widget-view+json": {
       "model_id": "29d67253fafa4839a40486b0fd83a46e",
       "version_major": 2,
       "version_minor": 0
      },
      "text/plain": [
       "VBox()"
      ]
     },
     "metadata": {},
     "output_type": "display_data"
    },
    {
     "data": {
      "application/vnd.jupyter.widget-view+json": {
       "model_id": "",
       "version_major": 2,
       "version_minor": 0
      },
      "text/plain": [
       "FloatProgress(value=0.0, bar_style='info', description='Progress:', layout=Layout(height='25px', width='50%'),…"
      ]
     },
     "metadata": {},
     "output_type": "display_data"
    }
   ],
   "source": [
    "def do_logistic_regression(train_df, test_df, inputCols):\n",
    "    '''\n",
    "    INPUT:\n",
    "    train_df - spark df with train dataset\n",
    "    test_df - spark df with test dataset\n",
    "    inputCols - list of columns to take into account for ML model\n",
    "    \n",
    "    OUTPUT:\n",
    "    cv_model_lr - trained spark CrossValidator object\n",
    "    \n",
    "    This function trains and tests a logistic regression model, performs a grid search based on regParam, \n",
    "    prints the performance measures of the model and returns the CV object. \n",
    "    '''\n",
    "    \n",
    "    assembler, scaler = instantiate_assembler_scaler(inputCols)\n",
    "\n",
    "    #instantiate logistic regression model\n",
    "    model_lr = LogisticRegression(labelCol='label', featuresCol='featureVecScaled', maxIter=10)\n",
    "\n",
    "    #instantiate evaluators\n",
    "    accuracy_evaluator = MulticlassClassificationEvaluator(metricName=\"accuracy\")\n",
    "    precision_evaluator = MulticlassClassificationEvaluator(metricName=\"weightedPrecision\")\n",
    "    recall_evaluator = MulticlassClassificationEvaluator(metricName=\"weightedRecall\")\n",
    "    f1_evaluator = MulticlassClassificationEvaluator(metricName=\"f1\")\n",
    "\n",
    "    #instantiate pipeline\n",
    "    pipe_lr = Pipeline(stages=[assembler, scaler, model_lr])\n",
    "\n",
    "    #define GridSearch parameters to optimize\n",
    "    paramGrid = ParamGridBuilder() \\\n",
    "                .addGrid(model_lr.regParam, [0.1, 0.01]) \\\n",
    "                .build()\n",
    "\n",
    "    #wrapping pipeline in CrossValidator to perform GridSearch optimization\n",
    "    crossval = CrossValidator(estimator=pipe_lr,\n",
    "                              estimatorParamMaps=paramGrid,\n",
    "                              evaluator=MulticlassClassificationEvaluator(),\n",
    "                              numFolds=3)\n",
    "\n",
    "    #fitting model\n",
    "    cv_model_lr = crossval.fit(train_df)\n",
    "\n",
    "    #make predictions on test dataset\n",
    "    results_lr = cv_model_lr.transform(test_df)\n",
    "    feature_importance = calculate_lr_feature_importance(cv_model_lr, inputCols)\n",
    "\n",
    "    #calculating performance measures\n",
    "    accuracy = accuracy_evaluator.evaluate(results_lr)\n",
    "    precision = precision_evaluator.evaluate(results_lr)\n",
    "    recall = recall_evaluator.evaluate(results_lr)\n",
    "    f1_score = f1_evaluator.evaluate(results_lr)\n",
    "\n",
    "    #print performance measures\n",
    "    print('LR:\\tAccuracy {:.3f} \\t|\\t Precision {:.3f} \\t|\\t Recall {:.3f} \\t|\\t f1-score {:.3f}'.format(accuracy, precision, recall, f1_score))\n",
    "    \n",
    "    return cv_model_lr, feature_importance"
   ]
  },
  {
   "cell_type": "code",
   "execution_count": 41,
   "metadata": {},
   "outputs": [
    {
     "data": {
      "application/vnd.jupyter.widget-view+json": {
       "model_id": "3183fd54087d47199fbff61ef23fa6d6",
       "version_major": 2,
       "version_minor": 0
      },
      "text/plain": [
       "VBox()"
      ]
     },
     "metadata": {},
     "output_type": "display_data"
    },
    {
     "data": {
      "application/vnd.jupyter.widget-view+json": {
       "model_id": "",
       "version_major": 2,
       "version_minor": 0
      },
      "text/plain": [
       "FloatProgress(value=0.0, bar_style='info', description='Progress:', layout=Layout(height='25px', width='50%'),…"
      ]
     },
     "metadata": {},
     "output_type": "display_data"
    }
   ],
   "source": [
    "def calculate_gbt_feature_importance(cv_model_gbt):\n",
    "    '''\n",
    "    INPUT:\n",
    "    cv_model_lr - CrossValidator Object of a linear regression model\n",
    "    \n",
    "    OUTPUT:\n",
    "    feature importance - pandas dataframe of feature importances\n",
    "    \n",
    "    this function extracts the feature importance of the best model of the CV object and returns these into a pandas dataframe\n",
    "    '''\n",
    "    \n",
    "    va = cv_model_gbt.bestModel.stages[0]\n",
    "    treeCV = cv_model_gbt.bestModel.stages[2]\n",
    "\n",
    "    feature_importance = pd.DataFrame(list(zip(va.getInputCols(), treeCV.featureImportances)), columns=['variable','value']).sort_values('value', ascending=False)\n",
    "        \n",
    "    return feature_importance"
   ]
  },
  {
   "cell_type": "code",
   "execution_count": 42,
   "metadata": {},
   "outputs": [
    {
     "data": {
      "application/vnd.jupyter.widget-view+json": {
       "model_id": "d0e6713f98dc4312b11f61805005ca0c",
       "version_major": 2,
       "version_minor": 0
      },
      "text/plain": [
       "VBox()"
      ]
     },
     "metadata": {},
     "output_type": "display_data"
    },
    {
     "data": {
      "application/vnd.jupyter.widget-view+json": {
       "model_id": "",
       "version_major": 2,
       "version_minor": 0
      },
      "text/plain": [
       "FloatProgress(value=0.0, bar_style='info', description='Progress:', layout=Layout(height='25px', width='50%'),…"
      ]
     },
     "metadata": {},
     "output_type": "display_data"
    }
   ],
   "source": [
    "def do_gbt(train_df, test_df, inputCols):\n",
    "    '''\n",
    "    INPUT:\n",
    "    train_df - spark df with train dataset\n",
    "    test_df - spark df with test dataset\n",
    "    assembler - spark assembler object\n",
    "    scaler - spark scaler object\n",
    "    \n",
    "    OUTPUT:\n",
    "    cv_model_gbt - trained spark CrossValidator object\n",
    "    \n",
    "    This function trains and tests a Gradient Boost Tree model, performs a grid search based on maxDepth, \n",
    "    prints the performance measures of the model and returns the CV object. \n",
    "    '''\n",
    "    \n",
    "    assembler, scaler = instantiate_assembler_scaler(inputCols)\n",
    "    \n",
    "    #instantiate Gradient Boost Tree model\n",
    "    model_gbt = GBTClassifier(labelCol='label', featuresCol='featureVecScaled')\n",
    "\n",
    "    #instantiate evaluators\n",
    "    accuracy_evaluator = MulticlassClassificationEvaluator(metricName=\"accuracy\")\n",
    "    precision_evaluator = MulticlassClassificationEvaluator(metricName=\"weightedPrecision\")\n",
    "    recall_evaluator = MulticlassClassificationEvaluator(metricName=\"weightedRecall\")\n",
    "    f1_evaluator = MulticlassClassificationEvaluator(metricName=\"f1\")\n",
    "\n",
    "    #instantiate pipeline\n",
    "    pipe_gbt = Pipeline(stages=[assembler, scaler, model_gbt])\n",
    "\n",
    "    #define GridSearch parameters to optimize\n",
    "    paramGrid = ParamGridBuilder() \\\n",
    "                .addGrid(model_gbt.maxDepth, [10]) \\\n",
    "                .addGrid(model_gbt.stepSize, [.05]) \\\n",
    "                .addGrid(model_gbt.maxIter, [5, 10]) \\\n",
    "                .build()\n",
    "\n",
    "    #wrapping pipeline in CrossValidator to perform GridSearch optimization\n",
    "    crossval = CrossValidator(estimator=pipe_gbt,\n",
    "                              estimatorParamMaps=paramGrid,\n",
    "                              evaluator=MulticlassClassificationEvaluator(),\n",
    "                              numFolds=3)\n",
    "    \n",
    "    #fitting model\n",
    "    cv_model_gbt = crossval.fit(train_df)\n",
    "    \n",
    "    #make predictions on test dataset\n",
    "    results_gbt = cv_model_gbt.transform(test_df)\n",
    "    feature_importance = calculate_gbt_feature_importance(cv_model_gbt)\n",
    "\n",
    "    #calculating performance measures\n",
    "    accuracy = accuracy_evaluator.evaluate(results_gbt)\n",
    "    precision = precision_evaluator.evaluate(results_gbt)\n",
    "    recall = recall_evaluator.evaluate(results_gbt)\n",
    "    f1_score = f1_evaluator.evaluate(results_gbt)\n",
    "\n",
    "    #print performance measures\n",
    "    print('GBT:\\tAccuracy {:.3f} \\t|\\t Precision {:.3f} \\t|\\t Recall {:.3f} \\t|\\t f1-score {:.3f}'.format(accuracy, precision, recall, f1_score))\n",
    "    \n",
    "    return cv_model_gbt, feature_importance"
   ]
  },
  {
   "cell_type": "markdown",
   "metadata": {},
   "source": [
    "In the next steps, the preprocessed user_df will be trained on a Logistic Regression Model and a Gradient Boost Tree Model.\n",
    "Each function of the models include a Grid Search. For the logistic Regression, the parameter regParam will be evaluated by the model (values = [0.1, 0.01]). The Gradient Boost Tree model will perform the Grid Search through maxIter (values = [5, 10]). \n",
    "The measurement to compare the models will be the Recall metric. The Accuracy, Precision and f1-score will be printed as well to get a better feeling on the models performance. "
   ]
  },
  {
   "cell_type": "code",
   "execution_count": 43,
   "metadata": {},
   "outputs": [
    {
     "data": {
      "application/vnd.jupyter.widget-view+json": {
       "model_id": "9072bf1209d641ef81ab6e7dde902f35",
       "version_major": 2,
       "version_minor": 0
      },
      "text/plain": [
       "VBox()"
      ]
     },
     "metadata": {},
     "output_type": "display_data"
    },
    {
     "data": {
      "application/vnd.jupyter.widget-view+json": {
       "model_id": "",
       "version_major": 2,
       "version_minor": 0
      },
      "text/plain": [
       "FloatProgress(value=0.0, bar_style='info', description='Progress:', layout=Layout(height='25px', width='50%'),…"
      ]
     },
     "metadata": {},
     "output_type": "display_data"
    },
    {
     "name": "stdout",
     "output_type": "stream",
     "text": [
      "LR:\tAccuracy 0.882 \t|\t Precision 0.898 \t|\t Recall 0.882 \t|\t f1-score 0.867"
     ]
    }
   ],
   "source": [
    "inputCols =  ['isGenderFemale','membershipDurationDays','numberOfSongs','numberOfSongsPerDay','downgradeAttempts',\n",
    "              'relThumbsDown','relThumbsUp','relSongsSkipped','relNumberOfErrors','numberOfSongsPerSession',\n",
    "              'addedFriends','skew', 'downgraded', 'isPaidCustomer']\n",
    "\n",
    "cv_model_lr, feature_importance_lr = do_logistic_regression(train_df, test_df, inputCols)"
   ]
  },
  {
   "cell_type": "code",
   "execution_count": 44,
   "metadata": {},
   "outputs": [
    {
     "data": {
      "application/vnd.jupyter.widget-view+json": {
       "model_id": "e11457c7bf7047b99cacd8f2f1fa9f9c",
       "version_major": 2,
       "version_minor": 0
      },
      "text/plain": [
       "VBox()"
      ]
     },
     "metadata": {},
     "output_type": "display_data"
    },
    {
     "data": {
      "application/vnd.jupyter.widget-view+json": {
       "model_id": "",
       "version_major": 2,
       "version_minor": 0
      },
      "text/plain": [
       "FloatProgress(value=0.0, bar_style='info', description='Progress:', layout=Layout(height='25px', width='50%'),…"
      ]
     },
     "metadata": {},
     "output_type": "display_data"
    },
    {
     "name": "stdout",
     "output_type": "stream",
     "text": [
      "{Param(parent='LogisticRegression_fb34d12ae4a6', name='aggregationDepth', doc='suggested depth for treeAggregate (>= 2)'): 2, Param(parent='LogisticRegression_fb34d12ae4a6', name='elasticNetParam', doc='the ElasticNet mixing parameter, in range [0, 1]. For alpha = 0, the penalty is an L2 penalty. For alpha = 1, it is an L1 penalty'): 0.0, Param(parent='LogisticRegression_fb34d12ae4a6', name='family', doc='The name of family which is a description of the label distribution to be used in the model. Supported options: auto, binomial, multinomial.'): 'auto', Param(parent='LogisticRegression_fb34d12ae4a6', name='featuresCol', doc='features column name'): 'featureVecScaled', Param(parent='LogisticRegression_fb34d12ae4a6', name='fitIntercept', doc='whether to fit an intercept term'): True, Param(parent='LogisticRegression_fb34d12ae4a6', name='labelCol', doc='label column name'): 'label', Param(parent='LogisticRegression_fb34d12ae4a6', name='maxIter', doc='maximum number of iterations (>= 0)'): 10, Param(parent='LogisticRegression_fb34d12ae4a6', name='predictionCol', doc='prediction column name'): 'prediction', Param(parent='LogisticRegression_fb34d12ae4a6', name='probabilityCol', doc='Column name for predicted class conditional probabilities. Note: Not all models output well-calibrated probability estimates! These probabilities should be treated as confidences, not precise probabilities'): 'probability', Param(parent='LogisticRegression_fb34d12ae4a6', name='rawPredictionCol', doc='raw prediction (a.k.a. confidence) column name'): 'rawPrediction', Param(parent='LogisticRegression_fb34d12ae4a6', name='regParam', doc='regularization parameter (>= 0)'): 0.01, Param(parent='LogisticRegression_fb34d12ae4a6', name='standardization', doc='whether to standardize the training features before fitting the model'): True, Param(parent='LogisticRegression_fb34d12ae4a6', name='threshold', doc='threshold in binary classification prediction, in range [0, 1]'): 0.5, Param(parent='LogisticRegression_fb34d12ae4a6', name='tol', doc='the convergence tolerance for iterative algorithms (>= 0)'): 1e-06}"
     ]
    }
   ],
   "source": [
    "#reference: https://stackoverflow.com/questions/46110563/pyspark-getting-the-best-models-parameters-after-a-gridsearch-is-blank/55024007\n",
    "cv_model_lr.bestModel.stages[-1].extractParamMap()"
   ]
  },
  {
   "cell_type": "code",
   "execution_count": 45,
   "metadata": {},
   "outputs": [
    {
     "data": {
      "application/vnd.jupyter.widget-view+json": {
       "model_id": "c03dea61629d4741af19941afac00553",
       "version_major": 2,
       "version_minor": 0
      },
      "text/plain": [
       "VBox()"
      ]
     },
     "metadata": {},
     "output_type": "display_data"
    },
    {
     "data": {
      "application/vnd.jupyter.widget-view+json": {
       "model_id": "",
       "version_major": 2,
       "version_minor": 0
      },
      "text/plain": [
       "FloatProgress(value=0.0, bar_style='info', description='Progress:', layout=Layout(height='25px', width='50%'),…"
      ]
     },
     "metadata": {},
     "output_type": "display_data"
    },
    {
     "name": "stderr",
     "output_type": "stream",
     "text": [
      "Exception in thread cell_monitor-45:\n",
      "Traceback (most recent call last):\n",
      "  File \"/opt/conda/lib/python3.7/threading.py\", line 926, in _bootstrap_inner\n",
      "    self.run()\n",
      "  File \"/opt/conda/lib/python3.7/threading.py\", line 870, in run\n",
      "    self._target(*self._args, **self._kwargs)\n",
      "  File \"/opt/conda/lib/python3.7/site-packages/awseditorssparkmonitoringwidget-1.0-py3.7.egg/awseditorssparkmonitoringwidget/cellmonitor.py\", line 178, in cell_monitor\n",
      "    job_binned_stages[job_id][stage_id] = all_stages[stage_id]\n",
      "KeyError: 6128\n",
      "\n",
      "Exception in thread cell_monitor-43:\n",
      "Traceback (most recent call last):\n",
      "  File \"/opt/conda/lib/python3.7/threading.py\", line 926, in _bootstrap_inner\n",
      "    self.run()\n",
      "  File \"/opt/conda/lib/python3.7/threading.py\", line 870, in run\n",
      "    self._target(*self._args, **self._kwargs)\n",
      "  File \"/opt/conda/lib/python3.7/site-packages/awseditorssparkmonitoringwidget-1.0-py3.7.egg/awseditorssparkmonitoringwidget/cellmonitor.py\", line 178, in cell_monitor\n",
      "    job_binned_stages[job_id][stage_id] = all_stages[stage_id]\n",
      "KeyError: 2934\n",
      "\n"
     ]
    },
    {
     "name": "stdout",
     "output_type": "stream",
     "text": [
      "GBT:\tAccuracy 0.824 \t|\t Precision 0.814 \t|\t Recall 0.824 \t|\t f1-score 0.800"
     ]
    }
   ],
   "source": [
    "cv_model_gbt, feature_importance_gbt = do_gbt(train_df, test_df, inputCols)"
   ]
  },
  {
   "cell_type": "markdown",
   "metadata": {},
   "source": [
    "The KeyError exception seems to be a Hadoop Bug I was not able to avoid. Researching about this issue did not result in any solution to avoid this exception. "
   ]
  },
  {
   "cell_type": "markdown",
   "metadata": {},
   "source": [
    "For this dataset, the logistic regression model outperformed clearly the gradient boost tree model. <br>\n",
    "The Grid Search resulted in a regularization parameter of .1 instead of 1. As a lower regularization parameter avoids overfitting, I conclude the lower lambda prevents my model from overfitting. A lower lambda always comes with the risk of increasing the bias. \n",
    "\n",
    "The model reached the target set at the beginning of the notebook of Recall Score greater than 80%. Our model reached a <b>Recall Score of 88%</b>. "
   ]
  },
  {
   "cell_type": "markdown",
   "metadata": {},
   "source": [
    "## Section 5: Evaluation"
   ]
  },
  {
   "cell_type": "markdown",
   "metadata": {},
   "source": [
    "In this section, I dig a bit deeper what are the main drivers for churn prediction and how do these measures distribute across churned and not churned customers"
   ]
  },
  {
   "cell_type": "code",
   "execution_count": 47,
   "metadata": {},
   "outputs": [
    {
     "data": {
      "application/vnd.jupyter.widget-view+json": {
       "model_id": "e91fc268c09a4592a27520605f7f35dd",
       "version_major": 2,
       "version_minor": 0
      },
      "text/plain": [
       "VBox()"
      ]
     },
     "metadata": {},
     "output_type": "display_data"
    },
    {
     "data": {
      "application/vnd.jupyter.widget-view+json": {
       "model_id": "",
       "version_major": 2,
       "version_minor": 0
      },
      "text/plain": [
       "FloatProgress(value=0.0, bar_style='info', description='Progress:', layout=Layout(height='25px', width='50%'),…"
      ]
     },
     "metadata": {},
     "output_type": "display_data"
    }
   ],
   "source": [
    "def boxplot(y, data, x='label'):\n",
    "    '''\n",
    "    INPUT\n",
    "    y - measure to analyze via boxplot\n",
    "    x - dimension to split the boxplots\n",
    "    data - dataset to take into account for boxplot\n",
    "    \n",
    "    OUTPUT\n",
    "    a boxplot chart will be plotted\n",
    "    '''\n",
    "    plt.clf()\n",
    "    sns.boxplot(x=x, y=y, data=data.toPandas())"
   ]
  },
  {
   "cell_type": "code",
   "execution_count": 48,
   "metadata": {},
   "outputs": [
    {
     "data": {
      "application/vnd.jupyter.widget-view+json": {
       "model_id": "5d54474ee5d1445da7fdb42639de13a4",
       "version_major": 2,
       "version_minor": 0
      },
      "text/plain": [
       "VBox()"
      ]
     },
     "metadata": {},
     "output_type": "display_data"
    },
    {
     "data": {
      "application/vnd.jupyter.widget-view+json": {
       "model_id": "",
       "version_major": 2,
       "version_minor": 0
      },
      "text/plain": [
       "FloatProgress(value=0.0, bar_style='info', description='Progress:', layout=Layout(height='25px', width='50%'),…"
      ]
     },
     "metadata": {},
     "output_type": "display_data"
    },
    {
     "data": {
      "image/png": "[encoded data removed]",
      "text/plain": [
       "<IPython.core.display.Image object>"
      ]
     },
     "metadata": {},
     "output_type": "display_data"
    }
   ],
   "source": [
    "plt.clf()\n",
    "sns.countplot(x='label', data=user_df.toPandas())\n",
    "%matplot plt"
   ]
  },
  {
   "cell_type": "code",
   "execution_count": 49,
   "metadata": {},
   "outputs": [
    {
     "data": {
      "application/vnd.jupyter.widget-view+json": {
       "model_id": "187a3f68cec4491b9716d106b2ab1312",
       "version_major": 2,
       "version_minor": 0
      },
      "text/plain": [
       "VBox()"
      ]
     },
     "metadata": {},
     "output_type": "display_data"
    },
    {
     "data": {
      "application/vnd.jupyter.widget-view+json": {
       "model_id": "",
       "version_major": 2,
       "version_minor": 0
      },
      "text/plain": [
       "FloatProgress(value=0.0, bar_style='info', description='Progress:', layout=Layout(height='25px', width='50%'),…"
      ]
     },
     "metadata": {},
     "output_type": "display_data"
    },
    {
     "name": "stdout",
     "output_type": "stream",
     "text": [
      "+-----+-----+\n",
      "|label|count|\n",
      "+-----+-----+\n",
      "|    1|   52|\n",
      "|    0|  173|\n",
      "+-----+-----+"
     ]
    }
   ],
   "source": [
    "user_df.groupBy(F.col('label')).count().show()"
   ]
  },
  {
   "cell_type": "code",
   "execution_count": 50,
   "metadata": {},
   "outputs": [
    {
     "data": {
      "application/vnd.jupyter.widget-view+json": {
       "model_id": "740bf1881bd44bd3bd467da66fc14c2f",
       "version_major": 2,
       "version_minor": 0
      },
      "text/plain": [
       "VBox()"
      ]
     },
     "metadata": {},
     "output_type": "display_data"
    },
    {
     "name": "stderr",
     "output_type": "stream",
     "text": [
      "Exception in thread cell_monitor-49:\n",
      "Traceback (most recent call last):\n",
      "  File \"/opt/conda/lib/python3.7/threading.py\", line 926, in _bootstrap_inner\n",
      "    self.run()\n",
      "  File \"/opt/conda/lib/python3.7/threading.py\", line 870, in run\n",
      "    self._target(*self._args, **self._kwargs)\n",
      "  File \"/opt/conda/lib/python3.7/site-packages/awseditorssparkmonitoringwidget-1.0-py3.7.egg/awseditorssparkmonitoringwidget/cellmonitor.py\", line 178, in cell_monitor\n",
      "    job_binned_stages[job_id][stage_id] = all_stages[stage_id]\n",
      "KeyError: 16081\n",
      "\n"
     ]
    },
    {
     "data": {
      "application/vnd.jupyter.widget-view+json": {
       "model_id": "",
       "version_major": 2,
       "version_minor": 0
      },
      "text/plain": [
       "FloatProgress(value=0.0, bar_style='info', description='Progress:', layout=Layout(height='25px', width='50%'),…"
      ]
     },
     "metadata": {},
     "output_type": "display_data"
    },
    {
     "name": "stdout",
     "output_type": "stream",
     "text": [
      "1      membershipDurationDays\n",
      "5               relThumbsDown\n",
      "13             isPaidCustomer\n",
      "2               numberOfSongs\n",
      "3         numberOfSongsPerDay\n",
      "9     numberOfSongsPerSession\n",
      "12                 downgraded\n",
      "6                 relThumbsUp\n",
      "10               addedFriends\n",
      "7             relSongsSkipped\n",
      "8           relNumberOfErrors\n",
      "11                       skew\n",
      "0              isGenderFemale\n",
      "4           downgradeAttempts\n",
      "Name: variable, dtype: object"
     ]
    }
   ],
   "source": [
    "feature_importance_lr.head(15)['variable']"
   ]
  },
  {
   "cell_type": "code",
   "execution_count": 51,
   "metadata": {},
   "outputs": [
    {
     "data": {
      "application/vnd.jupyter.widget-view+json": {
       "model_id": "be111c71b6e24000b2d8d2e1d213d20f",
       "version_major": 2,
       "version_minor": 0
      },
      "text/plain": [
       "VBox()"
      ]
     },
     "metadata": {},
     "output_type": "display_data"
    },
    {
     "data": {
      "application/vnd.jupyter.widget-view+json": {
       "model_id": "",
       "version_major": 2,
       "version_minor": 0
      },
      "text/plain": [
       "FloatProgress(value=0.0, bar_style='info', description='Progress:', layout=Layout(height='25px', width='50%'),…"
      ]
     },
     "metadata": {},
     "output_type": "display_data"
    },
    {
     "data": {
      "image/png": "[encoded data removed]",
      "text/plain": [
       "<IPython.core.display.Image object>"
      ]
     },
     "metadata": {},
     "output_type": "display_data"
    }
   ],
   "source": [
    "plt.clf()\n",
    "sns.barplot(x='value', y='variable', data=feature_importance_lr)\n",
    "plt.tight_layout()\n",
    "%matplot plt"
   ]
  },
  {
   "cell_type": "code",
   "execution_count": 52,
   "metadata": {},
   "outputs": [
    {
     "data": {
      "application/vnd.jupyter.widget-view+json": {
       "model_id": "63bfa627a06d42aea251f0231477770b",
       "version_major": 2,
       "version_minor": 0
      },
      "text/plain": [
       "VBox()"
      ]
     },
     "metadata": {},
     "output_type": "display_data"
    },
    {
     "data": {
      "application/vnd.jupyter.widget-view+json": {
       "model_id": "",
       "version_major": 2,
       "version_minor": 0
      },
      "text/plain": [
       "FloatProgress(value=0.0, bar_style='info', description='Progress:', layout=Layout(height='25px', width='50%'),…"
      ]
     },
     "metadata": {},
     "output_type": "display_data"
    },
    {
     "data": {
      "image/png": "[encoded data removed]",
      "text/plain": [
       "<IPython.core.display.Image object>"
      ]
     },
     "metadata": {},
     "output_type": "display_data"
    }
   ],
   "source": [
    "boxplot('membershipDurationDays', user_df)\n",
    "%matplot plt"
   ]
  },
  {
   "cell_type": "markdown",
   "metadata": {},
   "source": [
    "The boxplot shows a significant difference in the KPI for membershipDurationDays for churned and not churned customers. "
   ]
  },
  {
   "cell_type": "code",
   "execution_count": 53,
   "metadata": {},
   "outputs": [
    {
     "data": {
      "application/vnd.jupyter.widget-view+json": {
       "model_id": "898df2fb0a8b42b9bc7146a101035071",
       "version_major": 2,
       "version_minor": 0
      },
      "text/plain": [
       "VBox()"
      ]
     },
     "metadata": {},
     "output_type": "display_data"
    },
    {
     "data": {
      "application/vnd.jupyter.widget-view+json": {
       "model_id": "",
       "version_major": 2,
       "version_minor": 0
      },
      "text/plain": [
       "FloatProgress(value=0.0, bar_style='info', description='Progress:', layout=Layout(height='25px', width='50%'),…"
      ]
     },
     "metadata": {},
     "output_type": "display_data"
    },
    {
     "data": {
      "image/png": "[encoded data removed]",
      "text/plain": [
       "<IPython.core.display.Image object>"
      ]
     },
     "metadata": {},
     "output_type": "display_data"
    }
   ],
   "source": [
    "boxplot('relThumbsDown', user_df)\n",
    "%matplot plt"
   ]
  },
  {
   "cell_type": "markdown",
   "metadata": {},
   "source": [
    "The boxplot shows a significant difference in the KPI for relThumbsDown for churned and not churned customers. "
   ]
  },
  {
   "cell_type": "code",
   "execution_count": 54,
   "metadata": {},
   "outputs": [
    {
     "data": {
      "application/vnd.jupyter.widget-view+json": {
       "model_id": "ace7466105a34d46abc7327bfdc78f58",
       "version_major": 2,
       "version_minor": 0
      },
      "text/plain": [
       "VBox()"
      ]
     },
     "metadata": {},
     "output_type": "display_data"
    },
    {
     "data": {
      "application/vnd.jupyter.widget-view+json": {
       "model_id": "",
       "version_major": 2,
       "version_minor": 0
      },
      "text/plain": [
       "FloatProgress(value=0.0, bar_style='info', description='Progress:', layout=Layout(height='25px', width='50%'),…"
      ]
     },
     "metadata": {},
     "output_type": "display_data"
    },
    {
     "data": {
      "image/png": "[encoded data removed]",
      "text/plain": [
       "<IPython.core.display.Image object>"
      ]
     },
     "metadata": {},
     "output_type": "display_data"
    }
   ],
   "source": [
    "plt.clf()\n",
    "sns.countplot(x='isPaidCustomer', hue='label', data=user_df.toPandas())\n",
    "%matplot plt"
   ]
  },
  {
   "cell_type": "markdown",
   "metadata": {},
   "source": [
    "The countplot shows a significant difference for paid customers and not paid customers for churned and not churned customers. "
   ]
  },
  {
   "cell_type": "code",
   "execution_count": 55,
   "metadata": {},
   "outputs": [
    {
     "data": {
      "application/vnd.jupyter.widget-view+json": {
       "model_id": "1b5f07a133cf48cca0c042a60a8c6c00",
       "version_major": 2,
       "version_minor": 0
      },
      "text/plain": [
       "VBox()"
      ]
     },
     "metadata": {},
     "output_type": "display_data"
    },
    {
     "data": {
      "application/vnd.jupyter.widget-view+json": {
       "model_id": "",
       "version_major": 2,
       "version_minor": 0
      },
      "text/plain": [
       "FloatProgress(value=0.0, bar_style='info', description='Progress:', layout=Layout(height='25px', width='50%'),…"
      ]
     },
     "metadata": {},
     "output_type": "display_data"
    },
    {
     "data": {
      "image/png": "[encoded data removed]",
      "text/plain": [
       "<IPython.core.display.Image object>"
      ]
     },
     "metadata": {},
     "output_type": "display_data"
    }
   ],
   "source": [
    "boxplot('numberOfSongs', user_df)\n",
    "%matplot plt"
   ]
  },
  {
   "cell_type": "markdown",
   "metadata": {},
   "source": [
    "The countplot shows a significant difference for the KPI numberOfSongs for churned and not churned customers. "
   ]
  },
  {
   "cell_type": "code",
   "execution_count": 56,
   "metadata": {},
   "outputs": [
    {
     "data": {
      "application/vnd.jupyter.widget-view+json": {
       "model_id": "ed752d5f49d6409192765632a9952c7e",
       "version_major": 2,
       "version_minor": 0
      },
      "text/plain": [
       "VBox()"
      ]
     },
     "metadata": {},
     "output_type": "display_data"
    },
    {
     "data": {
      "application/vnd.jupyter.widget-view+json": {
       "model_id": "",
       "version_major": 2,
       "version_minor": 0
      },
      "text/plain": [
       "FloatProgress(value=0.0, bar_style='info', description='Progress:', layout=Layout(height='25px', width='50%'),…"
      ]
     },
     "metadata": {},
     "output_type": "display_data"
    },
    {
     "data": {
      "image/png": "[encoded data removed]",
      "text/plain": [
       "<IPython.core.display.Image object>"
      ]
     },
     "metadata": {},
     "output_type": "display_data"
    }
   ],
   "source": [
    "boxplot('numberOfSongsPerDay', user_df)\n",
    "%matplot plt"
   ]
  },
  {
   "cell_type": "markdown",
   "metadata": {},
   "source": [
    "The countplot shows a significant difference for the KPI numberOfSongsPerDay for churned and not churned customers. "
   ]
  },
  {
   "cell_type": "code",
   "execution_count": 57,
   "metadata": {},
   "outputs": [
    {
     "data": {
      "application/vnd.jupyter.widget-view+json": {
       "model_id": "b7e11748d1ff4e458a78cc9e1d2bf784",
       "version_major": 2,
       "version_minor": 0
      },
      "text/plain": [
       "VBox()"
      ]
     },
     "metadata": {},
     "output_type": "display_data"
    },
    {
     "name": "stderr",
     "output_type": "stream",
     "text": [
      "Exception in thread cell_monitor-55:\n",
      "Traceback (most recent call last):\n",
      "  File \"/opt/conda/lib/python3.7/threading.py\", line 926, in _bootstrap_inner\n",
      "    self.run()\n",
      "  File \"/opt/conda/lib/python3.7/threading.py\", line 870, in run\n",
      "    self._target(*self._args, **self._kwargs)\n",
      "  File \"/opt/conda/lib/python3.7/site-packages/awseditorssparkmonitoringwidget-1.0-py3.7.egg/awseditorssparkmonitoringwidget/cellmonitor.py\", line 178, in cell_monitor\n",
      "    job_binned_stages[job_id][stage_id] = all_stages[stage_id]\n",
      "KeyError: 16182\n",
      "\n"
     ]
    },
    {
     "data": {
      "application/vnd.jupyter.widget-view+json": {
       "model_id": "",
       "version_major": 2,
       "version_minor": 0
      },
      "text/plain": [
       "FloatProgress(value=0.0, bar_style='info', description='Progress:', layout=Layout(height='25px', width='50%'),…"
      ]
     },
     "metadata": {},
     "output_type": "display_data"
    },
    {
     "data": {
      "image/png": "[encoded data removed]",
      "text/plain": [
       "<IPython.core.display.Image object>"
      ]
     },
     "metadata": {},
     "output_type": "display_data"
    }
   ],
   "source": [
    "boxplot('numberOfSongsPerSession', user_df)\n",
    "%matplot plt"
   ]
  },
  {
   "cell_type": "code",
   "execution_count": 58,
   "metadata": {},
   "outputs": [
    {
     "data": {
      "application/vnd.jupyter.widget-view+json": {
       "model_id": "ed760cb9a0d747c787f05e53e8b41d16",
       "version_major": 2,
       "version_minor": 0
      },
      "text/plain": [
       "VBox()"
      ]
     },
     "metadata": {},
     "output_type": "display_data"
    },
    {
     "data": {
      "application/vnd.jupyter.widget-view+json": {
       "model_id": "",
       "version_major": 2,
       "version_minor": 0
      },
      "text/plain": [
       "FloatProgress(value=0.0, bar_style='info', description='Progress:', layout=Layout(height='25px', width='50%'),…"
      ]
     },
     "metadata": {},
     "output_type": "display_data"
    },
    {
     "data": {
      "image/png": "[encoded data removed]",
      "text/plain": [
       "<IPython.core.display.Image object>"
      ]
     },
     "metadata": {},
     "output_type": "display_data"
    }
   ],
   "source": [
    "plt.clf()\n",
    "sns.countplot(x='downgraded', hue='label', data=user_df.toPandas())\n",
    "%matplot plt"
   ]
  },
  {
   "cell_type": "code",
   "execution_count": 59,
   "metadata": {},
   "outputs": [
    {
     "data": {
      "application/vnd.jupyter.widget-view+json": {
       "model_id": "6b84fc6dc8974494935a760f3e0ca8e1",
       "version_major": 2,
       "version_minor": 0
      },
      "text/plain": [
       "VBox()"
      ]
     },
     "metadata": {},
     "output_type": "display_data"
    },
    {
     "data": {
      "application/vnd.jupyter.widget-view+json": {
       "model_id": "",
       "version_major": 2,
       "version_minor": 0
      },
      "text/plain": [
       "FloatProgress(value=0.0, bar_style='info', description='Progress:', layout=Layout(height='25px', width='50%'),…"
      ]
     },
     "metadata": {},
     "output_type": "display_data"
    },
    {
     "data": {
      "image/png": "[encoded data removed]",
      "text/plain": [
       "<IPython.core.display.Image object>"
      ]
     },
     "metadata": {},
     "output_type": "display_data"
    }
   ],
   "source": [
    "boxplot('relThumbsUp', user_df)\n",
    "%matplot plt"
   ]
  },
  {
   "cell_type": "code",
   "execution_count": 60,
   "metadata": {},
   "outputs": [
    {
     "data": {
      "application/vnd.jupyter.widget-view+json": {
       "model_id": "c72f9862c64b44ebb97fc84e90304f9d",
       "version_major": 2,
       "version_minor": 0
      },
      "text/plain": [
       "VBox()"
      ]
     },
     "metadata": {},
     "output_type": "display_data"
    },
    {
     "data": {
      "application/vnd.jupyter.widget-view+json": {
       "model_id": "",
       "version_major": 2,
       "version_minor": 0
      },
      "text/plain": [
       "FloatProgress(value=0.0, bar_style='info', description='Progress:', layout=Layout(height='25px', width='50%'),…"
      ]
     },
     "metadata": {},
     "output_type": "display_data"
    },
    {
     "data": {
      "image/png": "[encoded data removed]",
      "text/plain": [
       "<IPython.core.display.Image object>"
      ]
     },
     "metadata": {},
     "output_type": "display_data"
    }
   ],
   "source": [
    "boxplot('addedFriends', user_df)\n",
    "%matplot plt"
   ]
  },
  {
   "cell_type": "code",
   "execution_count": 61,
   "metadata": {},
   "outputs": [
    {
     "data": {
      "application/vnd.jupyter.widget-view+json": {
       "model_id": "e7fff18ca18d447d9361f362f6c18c2e",
       "version_major": 2,
       "version_minor": 0
      },
      "text/plain": [
       "VBox()"
      ]
     },
     "metadata": {},
     "output_type": "display_data"
    },
    {
     "data": {
      "application/vnd.jupyter.widget-view+json": {
       "model_id": "",
       "version_major": 2,
       "version_minor": 0
      },
      "text/plain": [
       "FloatProgress(value=0.0, bar_style='info', description='Progress:', layout=Layout(height='25px', width='50%'),…"
      ]
     },
     "metadata": {},
     "output_type": "display_data"
    },
    {
     "data": {
      "image/png": "[encoded data removed]",
      "text/plain": [
       "<IPython.core.display.Image object>"
      ]
     },
     "metadata": {},
     "output_type": "display_data"
    }
   ],
   "source": [
    "boxplot('relSongsskipped', user_df)\n",
    "%matplot plt"
   ]
  },
  {
   "cell_type": "code",
   "execution_count": 62,
   "metadata": {},
   "outputs": [
    {
     "data": {
      "application/vnd.jupyter.widget-view+json": {
       "model_id": "ec524fb950cc4ff4b62d784566f7d1ae",
       "version_major": 2,
       "version_minor": 0
      },
      "text/plain": [
       "VBox()"
      ]
     },
     "metadata": {},
     "output_type": "display_data"
    },
    {
     "data": {
      "application/vnd.jupyter.widget-view+json": {
       "model_id": "",
       "version_major": 2,
       "version_minor": 0
      },
      "text/plain": [
       "FloatProgress(value=0.0, bar_style='info', description='Progress:', layout=Layout(height='25px', width='50%'),…"
      ]
     },
     "metadata": {},
     "output_type": "display_data"
    },
    {
     "data": {
      "image/png": "[encoded data removed]",
      "text/plain": [
       "<IPython.core.display.Image object>"
      ]
     },
     "metadata": {},
     "output_type": "display_data"
    }
   ],
   "source": [
    "boxplot('relNumberOfErrors', user_df)\n",
    "%matplot plt"
   ]
  },
  {
   "cell_type": "code",
   "execution_count": 63,
   "metadata": {},
   "outputs": [
    {
     "data": {
      "application/vnd.jupyter.widget-view+json": {
       "model_id": "1f750cc3cf524f7ca352d181f5dd649b",
       "version_major": 2,
       "version_minor": 0
      },
      "text/plain": [
       "VBox()"
      ]
     },
     "metadata": {},
     "output_type": "display_data"
    },
    {
     "data": {
      "application/vnd.jupyter.widget-view+json": {
       "model_id": "",
       "version_major": 2,
       "version_minor": 0
      },
      "text/plain": [
       "FloatProgress(value=0.0, bar_style='info', description='Progress:', layout=Layout(height='25px', width='50%'),…"
      ]
     },
     "metadata": {},
     "output_type": "display_data"
    },
    {
     "data": {
      "image/png": "[encoded data removed]",
      "text/plain": [
       "<IPython.core.display.Image object>"
      ]
     },
     "metadata": {},
     "output_type": "display_data"
    }
   ],
   "source": [
    "boxplot('skew', user_df)\n",
    "%matplot plt"
   ]
  },
  {
   "cell_type": "code",
   "execution_count": 64,
   "metadata": {},
   "outputs": [
    {
     "data": {
      "application/vnd.jupyter.widget-view+json": {
       "model_id": "bdb516d1971547d19b96eb50d90830dd",
       "version_major": 2,
       "version_minor": 0
      },
      "text/plain": [
       "VBox()"
      ]
     },
     "metadata": {},
     "output_type": "display_data"
    },
    {
     "data": {
      "application/vnd.jupyter.widget-view+json": {
       "model_id": "",
       "version_major": 2,
       "version_minor": 0
      },
      "text/plain": [
       "FloatProgress(value=0.0, bar_style='info', description='Progress:', layout=Layout(height='25px', width='50%'),…"
      ]
     },
     "metadata": {},
     "output_type": "display_data"
    },
    {
     "data": {
      "image/png": "[encoded data removed]",
      "text/plain": [
       "<IPython.core.display.Image object>"
      ]
     },
     "metadata": {},
     "output_type": "display_data"
    }
   ],
   "source": [
    "plt.clf()\n",
    "sns.countplot(x='isGenderFemale', hue='label', data=user_df.toPandas())\n",
    "%matplot plt"
   ]
  },
  {
   "cell_type": "code",
   "execution_count": 65,
   "metadata": {},
   "outputs": [
    {
     "data": {
      "application/vnd.jupyter.widget-view+json": {
       "model_id": "d142d4d54ba147998b54973fe41a43ca",
       "version_major": 2,
       "version_minor": 0
      },
      "text/plain": [
       "VBox()"
      ]
     },
     "metadata": {},
     "output_type": "display_data"
    },
    {
     "data": {
      "application/vnd.jupyter.widget-view+json": {
       "model_id": "",
       "version_major": 2,
       "version_minor": 0
      },
      "text/plain": [
       "FloatProgress(value=0.0, bar_style='info', description='Progress:', layout=Layout(height='25px', width='50%'),…"
      ]
     },
     "metadata": {},
     "output_type": "display_data"
    },
    {
     "data": {
      "image/png": "[encoded data removed]",
      "text/plain": [
       "<IPython.core.display.Image object>"
      ]
     },
     "metadata": {},
     "output_type": "display_data"
    }
   ],
   "source": [
    "boxplot('downgradeAttempts', user_df)\n",
    "%matplot plt"
   ]
  },
  {
   "cell_type": "markdown",
   "metadata": {},
   "source": [
    "# Conclusion"
   ]
  },
  {
   "cell_type": "markdown",
   "metadata": {},
   "source": [
    "We achieved our initial target to create a model capable to predict customer churn based on the Sparkify dataset with a Recall score greater than 80%. We even reached 88%. The key for this performance was the calculation of good measures.\n",
    "To improve the model further we could try further parameter tuning on these models or even try out different models like Random Forests or XGBoost. Also, a couple of information in the dataset has not been used in thus project. For instance, the usage of the service on special daytimes, the location of the user or the browser/client the user is using might also keep some predictive power."
   ]
  }
 ],
 "metadata": {
  "kernelspec": {
   "display_name": "PySpark",
   "language": "",
   "name": "pysparkkernel"
  },
  "language_info": {
   "codemirror_mode": {
    "name": "python",
    "version": 2
   },
   "mimetype": "text/x-python",
   "name": "pyspark",
   "pygments_lexer": "python2"
  }
 },
 "nbformat": 4,
 "nbformat_minor": 5
}
